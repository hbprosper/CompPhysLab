{
 "cells": [
  {
   "cell_type": "markdown",
   "id": "99aa72e3-eac9-4469-84f0-d60654a87e54",
   "metadata": {
    "tags": []
   },
   "source": [
    "# Project 1: Projectile Motion 3D\n",
    "\n",
    "## Tips\n",
    "\n",
    "  * Python tutorials:\n",
    "     * PythonMinimum\n",
    "     * [A short introduction](https://realpython.com/python-first-steps/)\n",
    "     * [A more complete introduction](https://www.w3schools.com/python/default.asp)\n",
    "  * Use __esc r__ to disable a cell\n",
    "  * Use __esc y__ to reactivate it\n",
    "  * Use __esc m__ to go to markdown mode. **Markdown** is the typesetting language used in jupyter notebooks.\n",
    "  * In a markdown cell, double tap the mouse or glide pad (on your laptop) to go to edit mode. \n",
    "  * Shift + return to execute a cell (including markdown cells).\n",
    "  * If the equations don't typeset, try double tapping the cell again, and re-execute it.\n",
    "\n",
    "\n",
    "## Goal\n",
    "\n",
    "This notebook provides a gentle introduction to `vpython`. \n",
    "\n",
    "## Numerical Solution of Newton's Second Law\n",
    "\n",
    "### Newton's second law\n",
    "Newton's second law of motion for a particle of mass $m$ is\n",
    "\n",
    "$$\\vec{F} = m \\vec{a},$$ \n",
    "\n",
    "where, by definition, the acceleration is\n",
    "\n",
    "$$\\vec{a} = \\frac{d\\vec{v}}{dt}, $$\n",
    "\n",
    "and $\\vec{F}$ is the sum of all forces acting on the particle. (Note: The second law applies to every particle that comprises an extended object.) The second law can be written as two first order **ordinary differential equations** (ODE),\n",
    "\n",
    "\\begin{align}\n",
    "    \\frac{d\\vec{r}}{dt} & = \\vec{v}, \\\\\n",
    "    \\frac{d\\vec{v}}{dt} & = \\frac{1}{m} \\vec{F} .\n",
    "\\end{align}\n",
    "\n",
    "These equations can be solved approximately using the formulae\n",
    "\n",
    "\\begin{align}\n",
    "    \\vec{r}(t + h) & = \\vec{r}(t) + \\vec{v}(t) \\, h  + \\frac{1}{2} \\frac{\\vec{F}(t)}{m}  \\, h^2 + {\\cal O}(h^3),\\\\\n",
    "    \\vec{v}(t + h) & = \\vec{v}(t) + \\frac{\\vec{F}(t)}{m}  \\, h + {\\cal O}(h^2) .\n",
    "\\end{align}\n",
    "\n",
    "The symbol ${\\cal O}(h^3)$ represents all terms proportional to $h^3$ and to higher powers of $h$. Likewise for ${\\cal O}(h^2)$. We'll choose $h$ small enough so that these terms can be neglected. "
   ]
  },
  {
   "cell_type": "markdown",
   "id": "a04e6adc-8849-4431-9f29-1901d3a1b029",
   "metadata": {},
   "source": [
    "### Import modules \n",
    "Make Python modules (that is, collections of programs) available to this notebook.\n"
   ]
  },
  {
   "cell_type": "code",
   "execution_count": 1,
   "id": "0352a958-c65a-4ace-bcd8-139417a3afbc",
   "metadata": {},
   "outputs": [
    {
     "data": {
      "text/html": [
       "<div id=\"glowscript\" class=\"glowscript\"></div>"
      ],
      "text/plain": [
       "<IPython.core.display.HTML object>"
      ]
     },
     "metadata": {},
     "output_type": "display_data"
    },
    {
     "data": {
      "application/javascript": [
       "if (typeof Jupyter !== \"undefined\") { window.__context = { glowscript_container: $(\"#glowscript\").removeAttr(\"id\")};}else{ element.textContent = ' ';}"
      ],
      "text/plain": [
       "<IPython.core.display.Javascript object>"
      ]
     },
     "metadata": {},
     "output_type": "display_data"
    }
   ],
   "source": [
    "import os, sys\n",
    "import numpy as np\n",
    "import matplotlib as mp\n",
    "import matplotlib.pyplot as plt\n",
    "import sympy as sm\n",
    "import vpython as vp\n",
    "\n",
    "sm.init_printing()        # activate \"pretty printing\" of symbolic expressions\n",
    "%matplotlib inline\n",
    "\n",
    "# update fonts\n",
    "FONTSIZE = 14\n",
    "font = {'family' : 'sans-serif',\n",
    "        'weight' : 'normal',\n",
    "        'size'   : FONTSIZE}\n",
    "mp.rc('font', **font)\n",
    "\n",
    "# use latex if available on system, otherwise set usetex=False\n",
    "mp.rc('text', usetex=True)\n",
    "\n",
    "# use JavaScript for rendering animations\n",
    "mp.rc('animation', html='jshtml')\n",
    "\n",
    "# set a seed to ensure reproducibility \n",
    "# on a given machine\n",
    "seed = 314159\n",
    "rnd  = np.random.RandomState(seed)"
   ]
  },
  {
   "cell_type": "markdown",
   "id": "b3bb77e5-08e9-4fa2-9bbe-c2c3863c2ec3",
   "metadata": {},
   "source": [
    "## Simulating a projectile\n",
    "\n",
    "  1. **Step 1**: We write a function that implements the vector equations.\n",
    "  \\begin{align}\n",
    "    \\vec{r}(t + h) & = \\vec{r}(t) + \\vec{v}(t) \\, h  + \\frac{1}{2} \\frac{\\vec{F}(t)}{m}  \\, h^2 + {\\cal O}(h^3),\\\\\n",
    "    \\vec{v}(t + h) & = \\vec{v}(t) + \\frac{\\vec{F}(t)}{m}  \\, h + {\\cal O}(h^2) .\n",
    "\\end{align}\n",
    "  1. **Step 2**: We write a function that implements the total force on the ball.\n",
    "  1. **Step 3**: We write a function that computes the trajectory.\n",
    "  1. **Step 3**: Plot the trajectory."
   ]
  },
  {
   "cell_type": "markdown",
   "id": "9a254991-a4f4-45f8-80ad-4a65e6d4a4d9",
   "metadata": {},
   "source": [
    "### Constants"
   ]
  },
  {
   "cell_type": "code",
   "execution_count": 2,
   "id": "33220f94-e941-48b0-8ab7-b8348c7f9a62",
   "metadata": {
    "tags": []
   },
   "outputs": [],
   "source": [
    "# simulation constants\n",
    "M  = 0.25               # mass of ball (kg)\n",
    "MU = 0.0                # friction constant N/m/s (N: Newton, unit of force)\n",
    "g  = 9.81               # acceleration due to gravity (m/s^2)\n",
    "H  = 0.01               # time step (seconds) \n",
    "R0 = np.array((0,1,0))  # initial position of ball\n",
    "V0 = np.array((4,10,0))\n",
    "class Bag:              # a very simple class (see PythonMinimum)\n",
    "    pass\n",
    "\n",
    "bag    = Bag()\n",
    "bag.h  = H    # time step (seconds)\n",
    "bag.hh = H**2\n",
    "bag.g  = np.array((0, -g, 0)) # acceleration due to gravity\n",
    "bag.mu = MU   # friction constant (N/m/s)\n",
    "bag.m  = M    # mass of ball (kg)"
   ]
  },
  {
   "cell_type": "markdown",
   "id": "d30e524c-5fc8-4b9f-b22f-8cbfb7915561",
   "metadata": {},
   "source": [
    "## Step 1: Propagator\n",
    "We start by writing a function that takes the current position $\\vec{r}(t)$ and velocity $\\vec{v}(t)$ of the (center of the) ball, which is treated as a particle, the sum of the forces acting on the ball (often referred to as the **net force**), $\\vec{F}(t)$, and returns the updated position and velocity at timestamp $t + h$ of the particle. \n",
    "\n",
    "\\begin{align}\n",
    "    \\vec{r}(t + h) & = \\vec{r}(t) + \\vec{v}(t) \\, h  + \\frac{1}{2} \\frac{\\vec{F}(t)}{m}  \\, h^2 + {\\cal O}(h^3),\\\\\n",
    "    \\vec{v}(t + h) & = \\vec{v}(t) + \\frac{\\vec{F}(t)}{m}  \\, h + {\\cal O}(h^2) .\n",
    "\\end{align}"
   ]
  },
  {
   "cell_type": "code",
   "execution_count": 3,
   "id": "d68100a8-9284-46de-845b-7de7b167f5c0",
   "metadata": {
    "tags": []
   },
   "outputs": [],
   "source": [
    "def propagate(r, v, F, bag):    \n",
    "    h, hh, m = bag.h, bag.hh, bag.m\n",
    "    \n",
    "    Fm   = F/m\n",
    "    rnew = r + v*h + Fm*hh/2\n",
    "    vnew = v + Fm*h\n",
    "    \n",
    "    return rnew, vnew   # return new position and  velocity"
   ]
  },
  {
   "cell_type": "markdown",
   "id": "7edf7c95-c90c-4c7f-957c-0f7c8525e457",
   "metadata": {},
   "source": [
    "## Step 2: Force\n",
    "\n",
    "The function below returns the total force on the particle. We consider two forces, the force of gravity,\n",
    "\n",
    "\\begin{align}\n",
    "    \\vec{F}_g(t) & = m \\vec{g} .\n",
    "\\end{align}\n",
    "\n",
    "and a simple friction force,\n",
    "\n",
    "\\begin{align}\n",
    "    \\vec{F}_{\\mu}(t) & = - \\mu  \\vec{v} ,\n",
    "\\end{align}\n",
    "\n",
    "where $\\mu$ is a constant."
   ]
  },
  {
   "cell_type": "code",
   "execution_count": 4,
   "id": "8bbb7922-5eb0-404b-a8c1-0f24eec67dc2",
   "metadata": {
    "tags": []
   },
   "outputs": [],
   "source": [
    "def force(r, v, bag):\n",
    "    m = bag.m\n",
    "    g = bag.g\n",
    "    mu= bag.mu\n",
    "    F = m * g - mu * v\n",
    "    return F"
   ]
  },
  {
   "cell_type": "markdown",
   "id": "f440f3fb-ef94-4818-90ce-1e5b9907baca",
   "metadata": {},
   "source": [
    "## Step 3: Compute Trajectory\n",
    "We'll stop the calculations when the projectile reaches the ground."
   ]
  },
  {
   "cell_type": "code",
   "execution_count": 5,
   "id": "c0443885-8dcf-4dfd-b937-ef4fd9a1671b",
   "metadata": {},
   "outputs": [],
   "source": [
    "def compute_trajectory(r0, v0, bag, max_steps=100000):\n",
    "    '''\n",
    "    \n",
    "    r0     initial position\n",
    "    v0     initial velocity\n",
    "    '''\n",
    "    \n",
    "    # set initial state (r and v are lists of vectors)\n",
    "    r  = [r0]\n",
    "    v  = [v0]\n",
    "\n",
    "    # loop over time steps and stop when the ball hits the ground.\n",
    "    # notice the indentation with respect to the for i range(max_steps) command.\n",
    "    # this is how Python knows that the instructions that follow are within \n",
    "    # the loop (or if statement etc.)\n",
    "    for i in range(max_steps):\n",
    "            \n",
    "        # compute total force on ball\n",
    "        F = force(r[i], v[i], bag)\n",
    "\n",
    "        # compute next state of ball (next position and velocity at time t + h)\n",
    "        rnext, vnext = propagate(r[i], v[i], F, bag)\n",
    "\n",
    "        # check if we've reached the ground\n",
    "        x, y, z = rnext # rnext is a vector in 3D space, so it has 3 components\n",
    "        if y <= 0:\n",
    "            break # break out of the loop\n",
    "\n",
    "        # cache (that is save) the next state in the lists r and v\n",
    "        r.append(rnext)\n",
    "        v.append(vnext)\n",
    "    \n",
    "    return r, v # return the two lists"
   ]
  },
  {
   "cell_type": "code",
   "execution_count": 6,
   "id": "95bfd51a-1fdb-4439-8d09-92ff28209f59",
   "metadata": {
    "tags": []
   },
   "outputs": [],
   "source": [
    "bag.r, bag.v = compute_trajectory(R0, V0, bag)"
   ]
  },
  {
   "cell_type": "markdown",
   "id": "c097b13a-b89c-4bbc-a53e-82bb5f206708",
   "metadata": {},
   "source": [
    "## Step 4: Plot Results\n",
    "We are going to use the 3D animation module `vpython` to visualize the calculations above by animating the motion of the ball.\n",
    "\n",
    "For the vector algebra, we'll use the very convenient `vpython` vector class. You can see the attributes and functions that are available for this class using the Python `help` function. "
   ]
  },
  {
   "cell_type": "code",
   "execution_count": 7,
   "id": "cc24d070-15a2-4c04-b94d-b20d37b1d66d",
   "metadata": {
    "tags": []
   },
   "outputs": [
    {
     "name": "stdout",
     "output_type": "stream",
     "text": [
      "Help on class vector in module vpython.cyvector:\n",
      "\n",
      "class vector(builtins.object)\n",
      " |  Methods defined here:\n",
      " |  \n",
      " |  __add__(self, value, /)\n",
      " |      Return self+value.\n",
      " |  \n",
      " |  __eq__(self, value, /)\n",
      " |      Return self==value.\n",
      " |  \n",
      " |  __ge__(self, value, /)\n",
      " |      Return self>=value.\n",
      " |  \n",
      " |  __gt__(self, value, /)\n",
      " |      Return self>value.\n",
      " |  \n",
      " |  __init__(self, /, *args, **kwargs)\n",
      " |      Initialize self.  See help(type(self)) for accurate signature.\n",
      " |  \n",
      " |  __le__(self, value, /)\n",
      " |      Return self<=value.\n",
      " |  \n",
      " |  __lt__(self, value, /)\n",
      " |      Return self<value.\n",
      " |  \n",
      " |  __mul__(self, value, /)\n",
      " |      Return self*value.\n",
      " |  \n",
      " |  __ne__(self, value, /)\n",
      " |      Return self!=value.\n",
      " |  \n",
      " |  __neg__(self, /)\n",
      " |      -self\n",
      " |  \n",
      " |  __pos__(self, /)\n",
      " |      +self\n",
      " |  \n",
      " |  __radd__(self, value, /)\n",
      " |      Return value+self.\n",
      " |  \n",
      " |  __reduce__ = __reduce_cython__(...)\n",
      " |  \n",
      " |  __repr__(self, /)\n",
      " |      Return repr(self).\n",
      " |  \n",
      " |  __rmul__(self, value, /)\n",
      " |      Return value*self.\n",
      " |  \n",
      " |  __rsub__(self, value, /)\n",
      " |      Return value-self.\n",
      " |  \n",
      " |  __rtruediv__(self, value, /)\n",
      " |      Return value/self.\n",
      " |  \n",
      " |  __setstate__ = __setstate_cython__(...)\n",
      " |  \n",
      " |  __str__(self, /)\n",
      " |      Return str(self).\n",
      " |  \n",
      " |  __sub__(self, value, /)\n",
      " |      Return self-value.\n",
      " |  \n",
      " |  __truediv__(self, value, /)\n",
      " |      Return self/value.\n",
      " |  \n",
      " |  comp(...)\n",
      " |  \n",
      " |  cross(...)\n",
      " |  \n",
      " |  diff_angle(...)\n",
      " |  \n",
      " |  dot(...)\n",
      " |  \n",
      " |  equals(...)\n",
      " |  \n",
      " |  ignore(...)\n",
      " |  \n",
      " |  norm(...)\n",
      " |  \n",
      " |  proj(...)\n",
      " |  \n",
      " |  rotate(...)\n",
      " |  \n",
      " |  rotate_in_place(...)\n",
      " |  \n",
      " |  ----------------------------------------------------------------------\n",
      " |  Static methods defined here:\n",
      " |  \n",
      " |  __new__(*args, **kwargs) from builtins.type\n",
      " |      Create and return a new object.  See help(type) for accurate signature.\n",
      " |  \n",
      " |  random(...)\n",
      " |  \n",
      " |  ----------------------------------------------------------------------\n",
      " |  Data descriptors defined here:\n",
      " |  \n",
      " |  hat\n",
      " |  \n",
      " |  mag\n",
      " |  \n",
      " |  mag2\n",
      " |  \n",
      " |  on_change\n",
      " |  \n",
      " |  value\n",
      " |  \n",
      " |  x\n",
      " |  \n",
      " |  y\n",
      " |  \n",
      " |  z\n",
      " |  \n",
      " |  ----------------------------------------------------------------------\n",
      " |  Data and other attributes defined here:\n",
      " |  \n",
      " |  __hash__ = None\n",
      " |  \n",
      " |  __pyx_vtable__ = <capsule object NULL>\n",
      "\n"
     ]
    }
   ],
   "source": [
    "help(vp.vector)"
   ]
  },
  {
   "cell_type": "markdown",
   "id": "49388044-0b6b-452c-a874-8edb69486419",
   "metadata": {},
   "source": [
    "## Graphics Constants"
   ]
  },
  {
   "cell_type": "code",
   "execution_count": 8,
   "id": "aa026add-6e5b-4c36-8ab9-56b79338c1df",
   "metadata": {},
   "outputs": [],
   "source": [
    "TRAIL       = True       # add a trail to ball\n",
    "TRAIL_COUNT = 300        # maximum trail length attached to ball\n",
    "\n",
    "# in vpython, RGB colors must be defined using the vpython vector class\n",
    "SKYBLUE   = vp.vector(0.62,0.57,0.98)\n",
    "LAWNGREEN = vp.vector(0.5,0.9,0.5)\n",
    "GRAY      = vp.vector(0.70,0.70, 0.70)\n",
    "\n",
    "WIDTH  = 400 # viewport width in pixels\n",
    "HEIGHT = 400 # viewport height in pixels\n",
    "\n",
    "ORIGIN = vp.vector(0,0,0)\n",
    "I      = vp.vector(1,0,0) # unit vector in x direction\n",
    "J      = vp.vector(0,1,0) # unit vector in y direction\n",
    "K      = vp.vector(0,0,1) # unit vector in z direction\n",
    "CAMERA = vp.vector(-1, -0.5, -0.8) # direction in which camera points\n",
    "\n",
    "# simulation constants\n",
    "SIZE = 10\n",
    "HW   = SIZE   # half width of \"ground\"\n",
    "SW   = HW/100 # shaftwidth of coordinate arrows"
   ]
  },
  {
   "cell_type": "markdown",
   "id": "3bbcc6c2-0ca8-4682-a1c4-f1b9712a6c37",
   "metadata": {},
   "source": [
    "### Build scene elements\n",
    "  * `create_canvas`: create the canvas on which the scene will be drawn. We view the scene through a viewport of size `WIDTH` and `HEIGHT` in pixels.\n",
    "  * `draw_axes`: draw right-handed Cartesian coordinate axes and a plane in the $y-z$ plane.\n",
    "  * `build_scene`: build the scene objects"
   ]
  },
  {
   "cell_type": "code",
   "execution_count": 9,
   "id": "11fc7ffb-7b01-4bf5-b382-ac24eecc6647",
   "metadata": {
    "tags": []
   },
   "outputs": [],
   "source": [
    "def create_canvas(bag):\n",
    "    bag.scene = vp.canvas()\n",
    "    bag.scene.caption= 'A non-bouncing ball'\n",
    "    bag.scene.width = WIDTH\n",
    "    bag.scene.height= HEIGHT\n",
    "    bag.scene.background=SKYBLUE\n",
    "    bag.scene.userzoom  = False  # user can't zoom\n",
    "    bag.scene.range  = SIZE      # window size in world coordinates\n",
    "    bag.scene.up     = J         # direction of vertical\n",
    "    bag.scene.forward= CAMERA    # direction in which camera looks\n",
    "    \n",
    "def draw_axes(w):\n",
    "    sw = SIZE/100/2\n",
    "    aw = 1.1*SIZE/2\n",
    "    \n",
    "    # draw ground\n",
    "    a = vp.vertex( pos= w*I+w*K, color=LAWNGREEN)\n",
    "    b = vp.vertex( pos= w*I-w*K, color=LAWNGREEN)\n",
    "    c = vp.vertex( pos=-w*I-w*K, color=vp.color.red)\n",
    "    d = vp.vertex( pos=-w*I+w*K, color=LAWNGREEN)\n",
    "    xzplane = vp.quad(vs=[a, b, c, d])\n",
    "    \n",
    "    # draw Cartesian axes \n",
    "    xaxis = vp.arrow(pos=ORIGIN, axis=w*I, shaftwidth=sw, color=GRAY)\n",
    "    xlabel= vp.label(pos=aw*I, text='x', box=False) \n",
    "    \n",
    "    yaxis = vp.arrow(pos=ORIGIN, axis=w*J, shaftwidth=sw, color=GRAY)\n",
    "    ylabel= vp.label(pos=aw*J, text='y', box=False) \n",
    "    \n",
    "    zaxis = vp.arrow(pos=ORIGIN, axis=w*K, shaftwidth=sw, color=GRAY)\n",
    "    zlabel= vp.label(pos=aw*K, text='z', box=False) \n",
    "    \n",
    "    return xzplane, xaxis, yaxis, zaxis, xlabel, ylabel, zlabel\n",
    "\n",
    "def build_scene(bag):\n",
    "    \n",
    "    scene = bag.scene\n",
    "    \n",
    "    # cache all widgets in bag to prevent them from getting deleted\n",
    "    # inadvertently and to make them accessible to the update function\n",
    "    \n",
    "    bag.xyz = draw_axes(HW)\n",
    "    \n",
    "    # draw a wall\n",
    "    bag.wall01 = vp.box(pos=vp.vector(-9, 5, 0),\n",
    "                        up=J,        # direction of height of box\n",
    "                        axis=-I,     # direction of length of box\n",
    "                        length=0.2,\n",
    "                        height=10,\n",
    "                        width=20,\n",
    "                        color=LAWNGREEN,\n",
    "                        opacity=0.1)\n",
    "    \n",
    "    x, y, z = bag.r[0]\n",
    "    bag.ball = vp.sphere(color=vp.color.red,\n",
    "                         radius=0.4,\n",
    "                         pos=vp.vector(x, y, z),\n",
    "                         make_trail=TRAIL,\n",
    "                         trail_radius=SW/2,\n",
    "                         retain=TRAIL_COUNT) \n",
    "    \n",
    "    # create controls\n",
    "    bag.b_start = vp.button(text=\"Start\",\n",
    "                            background=vp.color.green,\n",
    "                            pos=scene.title_anchor, \n",
    "                            bind=start)\n",
    "    \n",
    "    bag.b_stop  = vp.button(text=\"Stop\",\n",
    "                            background=vp.color.red,\n",
    "                            pos=scene.title_anchor, \n",
    "                            bind=stop)\n",
    "        \n",
    "#     # min-speed:  1 m/s\n",
    "#     # max-speed: 30 m/s\n",
    "#     # default:   10 m/s\n",
    "#     bag.s_speed = vp.slider(min=1.0, max=30, value=10, length=300, \n",
    "#                             pos=scene.title_anchor,\n",
    "#                             bind=speed)\n",
    "    \n",
    "#     bag.stext   = vp.wtext(text=f'{bag.s_speed.value:5.2f} m/s', \n",
    "#                            pos=scene.title_anchor)\n",
    "    \n",
    "    bag.time   = vp.wtext(text=f'\\ttime: {0:8.2f} s', \n",
    "                          pos=scene.title_anchor)\n",
    "    \n",
    "    bag.active = True       # event loop\n",
    "    bag.update = False      # updating of scene initially turned off\n",
    "    bag.frame  = 0          # initial frame number\n",
    "    bag.nframes= len(bag.r) # number of frames (time steps)"
   ]
  },
  {
   "cell_type": "code",
   "execution_count": 10,
   "id": "a0ca1bfb-4bf8-4ffb-a493-320c3fcbe53f",
   "metadata": {},
   "outputs": [],
   "source": [
    "def update(bag):\n",
    "    # update position and velocity of ball unless\n",
    "    # we've exhausted the number of frames in which\n",
    "    # case just return\n",
    "    bag.update = bag.frame < bag.nframes\n",
    "    if not bag.update:\n",
    "        return\n",
    "    \n",
    "    x, y, z = bag.r[bag.frame]        \n",
    "    bag.ball.pos = vp.vector(x, y, z)\n",
    "    \n",
    "    # update frame counter\n",
    "    bag.frame += 1\n",
    "    bag.time.text = f'\\ttime: {bag.h*bag.frame:8.2f} s'\n",
    "    \n",
    "def run(bag):\n",
    "    \n",
    "    while bag.active:\n",
    "        if bag.update:\n",
    "            update(bag) \n",
    "        vp.rate(100)\n",
    "        \n",
    "    print('animation stopped')\n",
    "    \n",
    "# controls\n",
    "def start(b):\n",
    "    global bag\n",
    "    bag.update = True\n",
    "\n",
    "def stop(b):\n",
    "    global bag\n",
    "    bag.active = False\n",
    "\n",
    "def speed(s):\n",
    "    global bag\n",
    "    bag.stext.text = f'{bag.s_speed.value:5.2f} m/s'"
   ]
  },
  {
   "cell_type": "code",
   "execution_count": 11,
   "id": "d82a6622-2dac-4f97-ac9f-3a6633f1a9e7",
   "metadata": {},
   "outputs": [
    {
     "data": {
      "text/html": [
       "<div id=\"glowscript\" class=\"glowscript\"></div>"
      ],
      "text/plain": [
       "<IPython.core.display.HTML object>"
      ]
     },
     "metadata": {},
     "output_type": "display_data"
    },
    {
     "data": {
      "application/javascript": [
       "if (typeof Jupyter !== \"undefined\") { window.__context = { glowscript_container: $(\"#glowscript\").removeAttr(\"id\")};}else{ element.textContent = ' ';}"
      ],
      "text/plain": [
       "<IPython.core.display.Javascript object>"
      ]
     },
     "metadata": {},
     "output_type": "display_data"
    },
    {
     "data": {
      "application/javascript": [
       "if (typeof Jupyter !== \"undefined\") {require.undef(\"nbextensions/vpython_libraries/glow.min\");}else{element.textContent = ' ';}"
      ],
      "text/plain": [
       "<IPython.core.display.Javascript object>"
      ]
     },
     "metadata": {},
     "output_type": "display_data"
    },
    {
     "data": {
      "application/javascript": [
       "if (typeof Jupyter !== \"undefined\") {require.undef(\"nbextensions/vpython_libraries/glowcomm\");}else{element.textContent = ' ';}"
      ],
      "text/plain": [
       "<IPython.core.display.Javascript object>"
      ]
     },
     "metadata": {},
     "output_type": "display_data"
    },
    {
     "data": {
      "application/javascript": [
       "if (typeof Jupyter !== \"undefined\") {require.undef(\"nbextensions/vpython_libraries/jquery-ui.custom.min\");}else{element.textContent = ' ';}"
      ],
      "text/plain": [
       "<IPython.core.display.Javascript object>"
      ]
     },
     "metadata": {},
     "output_type": "display_data"
    },
    {
     "data": {
      "application/javascript": [
       "if (typeof Jupyter !== \"undefined\") {require([\"nbextensions/vpython_libraries/glow.min\"], function(){console.log(\"GLOW LOADED\");});}else{element.textContent = ' ';}"
      ],
      "text/plain": [
       "<IPython.core.display.Javascript object>"
      ]
     },
     "metadata": {},
     "output_type": "display_data"
    },
    {
     "data": {
      "application/javascript": [
       "if (typeof Jupyter !== \"undefined\") {require([\"nbextensions/vpython_libraries/glowcomm\"], function(){console.log(\"GLOWCOMM LOADED\");});}else{element.textContent = ' ';}"
      ],
      "text/plain": [
       "<IPython.core.display.Javascript object>"
      ]
     },
     "metadata": {},
     "output_type": "display_data"
    },
    {
     "data": {
      "application/javascript": [
       "if (typeof Jupyter !== \"undefined\") {require([\"nbextensions/vpython_libraries/jquery-ui.custom.min\"], function(){console.log(\"JQUERY LOADED\");});}else{element.textContent = ' ';}"
      ],
      "text/plain": [
       "<IPython.core.display.Javascript object>"
      ]
     },
     "metadata": {},
     "output_type": "display_data"
    },
    {
     "name": "stdout",
     "output_type": "stream",
     "text": [
      "animation stopped\n"
     ]
    }
   ],
   "source": [
    "create_canvas(bag)\n",
    "build_scene(bag)\n",
    "run(bag)"
   ]
  },
  {
   "cell_type": "code",
   "execution_count": null,
   "id": "561de73b-0f43-4bff-9171-6dede1d0459a",
   "metadata": {},
   "outputs": [],
   "source": []
  }
 ],
 "metadata": {
  "kernelspec": {
   "display_name": "Python 3 (ipykernel)",
   "language": "python",
   "name": "python3"
  },
  "language_info": {
   "codemirror_mode": {
    "name": "ipython",
    "version": 3
   },
   "file_extension": ".py",
   "mimetype": "text/x-python",
   "name": "python",
   "nbconvert_exporter": "python",
   "pygments_lexer": "ipython3",
   "version": "3.11.5"
  },
  "toc-autonumbering": false,
  "toc-showcode": false
 },
 "nbformat": 4,
 "nbformat_minor": 5
}
