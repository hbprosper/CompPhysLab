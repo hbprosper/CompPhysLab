{
 "cells": [
  {
   "cell_type": "markdown",
   "id": "99aa72e3-eac9-4469-84f0-d60654a87e54",
   "metadata": {
    "tags": []
   },
   "source": [
    "# Taylor Series\n",
    "\n",
    "## Tips\n",
    "\n",
    "  * Use __esc r__ to disable a cell\n",
    "  * Use __esc y__ to reactivate it\n",
    "  * Use __esc m__ to go to markdown mode\n",
    "  * Shift + return to execute a cell\n",
    "\n",
    "## Goal\n",
    "\n",
    "The purpose of this notebook is to help you understand the concept of a __Taylor series__ expansion of a function. Both the derivative (see `01_derivatives.ipynb`) and Taylor series are needed to derive a formula to approximate solutions of Newton's second law of motion. \n",
    "\n",
    "\n",
    "## Derivative: recap\n",
    "\n",
    "The derivative of a function $f(x)$ at $x$ is the following ratio\n",
    "\n",
    "\\begin{align}\n",
    "    \\frac{df}{dx} = \\frac{f(x+h) - f(x)}{h},\n",
    "\\end{align}\n",
    "\n",
    "where $h$ is an __infinitely small number__. It is important to note that this is an exact formula. But when $h$ is a finite number, the formula is no longer exact. Note also, that we can rewrite the exact formula as\n",
    "\n",
    "\\begin{align}\n",
    "    f(x + h) & = f(x) + f^{(1)}(x) \\, h ,\n",
    "\\end{align}\n",
    "\n",
    "where $f^{(1)}(x) \\equiv df/dx$. This is a very interesting formula because it shows how, given the function $f(x)$ and its derivative $f^{(1)}(x)$ at $x$, we can compute the function at $x + h$. This is exactly the kind of algorithm we want to solve Newton's second law in a step by step way. In practice, of course, we must use a small value for $h$. This method of solving an ordinary differential equation of the form\n",
    "\n",
    "$$\\frac{df}{dx} = g(x, f),$$\n",
    "\n",
    "where $g$ is a known function of $x$ and $f$, is called __Euler's method__. It is the simplest numerical method for solving such equations, but, unfortunately, it is not a particularly accurate method because $h$ is, after all, not infinitely small.\n",
    "\n",
    "## Taylor series\n",
    "\n",
    "When $h$ is not infinitely small, the formula\n",
    "\n",
    "\\begin{align}\n",
    "    f(x + h) & = f(x) + f^{(1)}(x) \\, h ,\n",
    "\\end{align}\n",
    "\n",
    "is no longer exact. Moreover, the larger the value of $h$, the worse the approximation. Inspired by this formula, let's consider the following\n",
    "\n",
    "\\begin{align}\n",
    "    f(x + h) & = f(x) + f^{(1)} \\, h  + a_2 \\, h^2 + a_3 \\, h^3 + {\\cal O}(h^4),\n",
    "\\end{align}\n",
    "\n",
    "where the symbol ${\\cal O}(h^4)$ means \"of order $h^4$\". This represents all terms of power 4 in $h$ or higher. This formula (which, in general, has an infinite number of terms) is one way to write the __Taylor series__ of $f(x+h)$ around the point $x$. For our purposes, we do not need the terms beyond ${\\cal O}(h^3)$. During my office hours, I'm happy to show you that\n",
    "\n",
    "\\begin{align}\n",
    "    a_2 & = \\frac{f^{(2)}(x)}{2!} \\equiv \\frac{1}{2!}\\frac{d^2 f(x)}{dx^2},\\\\\n",
    "    a_3 & = \\frac{f^{(3)}(x)}{3!} \\equiv \\frac{1}{3!}\\frac{d^3 f(x)}{dx^3} .\n",
    "\\end{align}\n",
    "\n",
    "But I invite you to prove this yourself!\n",
    "\n",
    "## Taylor series for vectors\n",
    "\n",
    "Since the Taylor series applies to any continuous function, it also applies to vectors. In particular, given the position and velocity vectors $\\vec{r}(t)$ and $\\vec{v}(t)$, respectively, we can compute them at time $t + h$ using the formulas\n",
    "\n",
    "\\begin{align}\n",
    "    \\vec{r}(t + h) & = \\vec{r}(t) + \\vec{r}^{(1)}(t) \\, h  + \\frac{1}{2} \\vec{r}^{(2)}(t)  \\, h^2 + \\frac{1}{6} \\vec{r}^{(3)}(t)  \\, h^3 + {\\cal O}(h^4),\\\\\n",
    "    \\vec{v}(t + h) & = \\vec{v}(t) + \\vec{v}^{(1)}(t) \\, h  + \\frac{1}{2} \\vec{v}^{(2)}(t)  \\, h^2 + \\frac{1}{6} \\vec{v}^{(3)}(t)  \\, h^3 + {\\cal O}(h^4) .\n",
    "\\end{align}\n",
    "\n",
    "The right hand side contains quantities known at time $t$, while the left hand side are the vectors at time $t + h$, where $h$ not infinitesimal but small.\n",
    "\n",
    "## Newton's second law\n",
    "Recall that Newton's second law of motion for a particle is $\\vec{F} = m \\vec{a}$, where, by definition, the acceleration is\n",
    "\n",
    "$$\\vec{a} = \\frac{d\\vec{v}}{dt},$$\n",
    "\n",
    "$m$ is the mass of the particle, and $\\vec{F}$ is the sum of all forces acting on it. The second law can be written as two first order ordinary differential equations,\n",
    "\n",
    "\\begin{align}\n",
    "    \\frac{d\\vec{r}}{dt} & = \\vec{v}, \\\\\n",
    "    \\frac{d\\vec{v}}{dt} & = \\frac{1}{m} \\vec{F} .\n",
    "\\end{align}\n",
    "\n",
    "When we substitute the second law into the two Taylor series above, we obtain\n",
    "\n",
    "\\begin{align}\n",
    "    \\vec{r}(t + h) & = \\color{blue}{\\vec{r}(t) + \\vec{v}(t) \\, h  + \\frac{1}{2} \\frac{\\vec{F}(t)}{m}  \\, h^2} + \\frac{1}{6} \\frac{\\vec{F}^{(1)}(t)}{m}   \\, h^3 + {\\cal O}(h^4),\\\\\n",
    "    \\vec{v}(t + h) & = \\color{blue}{\\vec{v}(t) + \\frac{\\vec{F}(t)}{m}  \\, h}  + \\frac{1}{2} \\frac{\\vec{F}^{(1)}(t)}{m}   \\, h^2 + \\frac{1}{6} \\frac{\\vec{F}^{(2)}(t)}{m}   \\, h^3 + {\\cal O}(h^4) .\n",
    "\\end{align}\n",
    "\n",
    "The first three terms of the formula for $\\vec{r}(t + h)$ are known, as are the first two terms of $\\vec{v}(t + h)$. Therefore, if the ${\\cal O}(h^3)$ terms in $\\vec{r}(t + h)$ and the ${\\cal O}(h^2)$ term in $\\vec{v}(t + h)$ are considered to be small enough by virtue of choosing a sufficiently small time increment $h$, we have approximate formulae for solving Newton's second law of motion for a particle.\n",
    "\n",
    "### More accurate formulae\n",
    "If we can find a reasonable approximation for $\\vec{F}^{(1)}(t) \\equiv d\\vec{F} / dt$, we can construct more accurate formulae where $\\vec{r}(t + h)$ will be accurate to ${\\cal O}(h^4)$ and $\\vec{v}(t + h)$ accurate to ${\\cal O}(h^3)$. \n",
    "\n",
    "An obvious first attempt is to write\n",
    "\n",
    "$$\\vec{F}^{(1)}(t) \\equiv \\frac{d\\vec{F}(t)}{dt} \\approx \\frac{\\vec{F}(t+h) - \\vec{F}(t)}{h}.$$\n",
    "\n",
    "Unfortunately, this requires knowing the total force at time step $t + h$, which we don't know! But, apart from the starting time at $t = 0$, at the time $t > 0$ we do have knowledge of the sum of the forces on each particle at the *previous* timestamp, namely, at time $t - h$. So let's switch the sign of $h$ and write a Taylor series for $\\vec{F}(t-h)$ that is accurate to ${\\cal O}(h)$.  \n",
    "\n",
    "\\begin{align}\n",
    "    \\vec{F}(t - h) & = \\vec{F}(t) - \\vec{F}^{(1)}(t) \\, h + {\\cal O}(h^2),\n",
    "\\end{align}\n",
    "\n",
    "which can be rewritten as\n",
    "\n",
    "\\begin{align}\n",
    "    \\vec{F}^{(1)}(t) & = \\frac{1}{h}[\\vec{F}(t) - \\vec{F}(t - h)] + {\\cal O}(h^2) / h, \\nonumber\\\\\n",
    "    & = \\frac{1}{h}[\\vec{F}(t) - \\vec{F}(t - h)] + {\\cal O}(h),\n",
    "\\end{align}\n",
    "\n",
    "where we have used the result ${\\cal O}(h) = {\\cal O}(h^2) / h$.\n",
    "\n",
    "Obviously, this is not a very accurate formula for the rate at which the force is changing, but it turns out to be good enough. To see this, let's substitute our approximate formula for $\\vec{F}^{(1)}(t)$ into the Taylor series for $\\vec{r}(t + h)$,\n",
    "\n",
    "\\begin{align}\n",
    "    \\vec{r}(t + h) & = \\color{blue}{\\vec{r}(t) + \\vec{v}(t) \\, h  + \\frac{1}{2} \\frac{\\vec{F}(t)}{m}  \\, h^2} + \\frac{1}{6} \\left( \\frac{[\\vec{F}(t) - \\vec{F}(t - h)]/h + {\\cal O}(h)}{m}   \\right) \\, h^3 + {\\cal O}(h^4),\\nonumber\\\\\n",
    "    & = \\color{blue}{\\vec{r}(t) + \\vec{v}(t) \\, h  + \\frac{1}{2} \\frac{\\vec{F}(t)}{m}  \\, h^2} + \\frac{1}{6} \\left( \\frac{\\vec{F}(t) - \\vec{F}(t - h) }{m}\\right) \\, h^2 + {\\cal O}(h) h^3 + {\\cal O}(h^4),\\nonumber\\\\\n",
    "& = \\color{blue}{\\vec{r}(t) + \\vec{v}(t) \\, h  + \\frac{1}{2} \\frac{\\vec{F}(t)}{m}  \\, h^2} + \\left( \\frac{\\vec{F}(t) - \\vec{F}(t - h) }{6m}\\right) \\, h^2 + {\\cal O}(h^4),\n",
    "\\end{align}\n",
    "\n",
    "where we have used ${\\cal O}(h^4) = {\\cal O}(h) h^3$. We see that even though our formula for $d\\vec{F}(t) / dt$ is not very accurate, we still end up with a formula for $\\vec{r}(t+h)$ that is accurate to ${\\cal O}(h^4$! In a similar manner we arrive at\n",
    "\n",
    "\\begin{align}\n",
    "    \\vec{v}(t + h) & = \\color{blue}{\\vec{v}(t) + \\frac{\\vec{F}(t)}{m}  \\, h}  + \\left( \\frac{\\vec{F}(t) - \\vec{F}(t - h) }{2m}\\right)   \\, h + {\\cal O}(h^3) ,\n",
    "\\end{align}\n",
    "\n",
    "a formula for the particle velocity at timestamp $t + h$ that is accurate to ${\\cal O}(h^3)$.\n",
    "\n",
    "At $t = 0$, in general, we don't know the force at time $t = -h$. So a possible simulation strategy is to use the less accurate formulae for timestamp $t = +h$ and thereafter use the more accurate ones."
   ]
  },
  {
   "cell_type": "markdown",
   "id": "a04e6adc-8849-4431-9f29-1901d3a1b029",
   "metadata": {},
   "source": [
    "### Import modules \n",
    "Make Python modules (that is, collections of programs) available to this notebook.\n"
   ]
  },
  {
   "cell_type": "code",
   "execution_count": 3,
   "id": "0352a958-c65a-4ace-bcd8-139417a3afbc",
   "metadata": {},
   "outputs": [],
   "source": [
    "import os, sys\n",
    "import numpy as np\n",
    "import matplotlib as mp\n",
    "import matplotlib.pyplot as plt\n",
    "import sympy as sm\n",
    "import scipy as sp\n",
    "#import pandas as pd\n",
    "#import vpython as vp\n",
    "#import itertools as it\n",
    "\n",
    "sm.init_printing()        # activate \"pretty printing\" of symbolic expressions\n",
    "%matplotlib inline\n",
    "\n",
    "# update fonts\n",
    "FONTSIZE = 14\n",
    "font = {'family' : 'sans-serif',\n",
    "        'weight' : 'normal',\n",
    "        'size'   : FONTSIZE}\n",
    "mp.rc('font', **font)\n",
    "\n",
    "# use latex if available on system, otherwise set usetex=False\n",
    "mp.rc('text', usetex=True)\n",
    "\n",
    "# use JavaScript for rendering animations\n",
    "mp.rc('animation', html='jshtml')\n",
    "\n",
    "# set a seed to ensure reproducibility \n",
    "# on a given machine\n",
    "seed = 314159\n",
    "rnd  = np.random.RandomState(seed)"
   ]
  },
  {
   "cell_type": "markdown",
   "id": "b3bb77e5-08e9-4fa2-9bbe-c2c3863c2ec3",
   "metadata": {},
   "source": [
    "## Exercise 3: Simulating a projectile\n",
    "\n",
    "In this exercise, which we'll work through together, we are going to compute the trajectory of a ball that moves under the action of a constant gravitational force and an optional friction force. Our approach is not necessarily the best in terms of computer science, but it has the virtue of being relatively simple. Later, as you become better in using Python, we'll improve the approach. \n",
    "\n",
    "We'll put the constants needed for this exercise into a \"bag\".\n",
    "\n",
    "### Constants"
   ]
  },
  {
   "cell_type": "code",
   "execution_count": 4,
   "id": "33220f94-e941-48b0-8ab7-b8348c7f9a62",
   "metadata": {
    "tags": []
   },
   "outputs": [],
   "source": [
    "# simulation constants\n",
    "M  = 0.25                  # mass of ball (kg)\n",
    "MU = 0.0                   # friction constant\n",
    "g  = 9.81                  # acceleration due to gravity (m/s^2) at Earth's surface\n",
    "H  = 0.01                  # time step (seconds) \n",
    "R0 = np.array((0,1,0))     # initial position of ball\n",
    "\n",
    "class Bag:\n",
    "    pass\n",
    "\n",
    "bag    = Bag()\n",
    "bag.h  = H    # time step (seconds)\n",
    "bag.hh = H**2\n",
    "bag.g  = np.array((0, -g, 0)) # acceleration due to gravity near the Earth's surface\n",
    "bag.mu = MU # friction constant\n",
    "bag.m  = M  # kg, mass of ball"
   ]
  },
  {
   "cell_type": "markdown",
   "id": "d30e524c-5fc8-4b9f-b22f-8cbfb7915561",
   "metadata": {},
   "source": [
    "## Step 1: Propagator\n",
    "We start by writing a function that takes the current position $\\vec{r}(t)$ and velocity $\\vec{v}(t)$ of the (center of the) ball, which is treated as a particle, the sum of the forces acting on it (often referred to as the __net force__), $\\vec{F}(t)$, and returns the updated position and velocity at timestamp $t + h$ of the particle. For now, to keep things simple, we'll use the less accurate formulae for $\\vec{r}(t + h)$ and $\\vec{v}(t + h)$, \n",
    "\\begin{align}\n",
    "    \\vec{r}(t + h) & = \\vec{r}(t) + \\vec{v}(t) \\, h  + \\frac{1}{2} \\frac{\\vec{F}(t)}{m}  \\, h^2 + {\\cal O}(h^3),\\\\\n",
    "    \\vec{v}(t + h) & = \\vec{v}(t) + \\frac{\\vec{F}(t)}{m}  \\, h  + {\\cal O}(h^2) .\n",
    "\\end{align}"
   ]
  },
  {
   "cell_type": "code",
   "execution_count": 5,
   "id": "d68100a8-9284-46de-845b-7de7b167f5c0",
   "metadata": {
    "tags": []
   },
   "outputs": [],
   "source": [
    "def propagate(r, v, F, bag):    \n",
    "    h, hh, m = bag.h, bag.hh, bag.m\n",
    "    \n",
    "    Fm   = F/m\n",
    "    rnew = r + v*h + Fm*hh/2\n",
    "    vnew = v + Fm*h\n",
    "    \n",
    "    return rnew, vnew"
   ]
  },
  {
   "cell_type": "markdown",
   "id": "7edf7c95-c90c-4c7f-957c-0f7c8525e457",
   "metadata": {},
   "source": [
    "## Step 2: Force\n",
    "\n",
    "The function below returns the total force on the particle. We consider two forces, the force of gravity,\n",
    "\n",
    "\\begin{align}\n",
    "    \\vec{F}_g(t) & = m \\vec{g} .\n",
    "\\end{align}\n",
    "\n",
    "and a simple friction force,\n",
    "\n",
    "\\begin{align}\n",
    "    \\vec{F}_{\\mu}(t) & = - \\mu  \\vec{v} ,\n",
    "\\end{align}\n",
    "\n",
    "where $\\mu$ is a constant."
   ]
  },
  {
   "cell_type": "code",
   "execution_count": 6,
   "id": "8bbb7922-5eb0-404b-a8c1-0f24eec67dc2",
   "metadata": {
    "tags": []
   },
   "outputs": [],
   "source": [
    "def force(r, v, bag):\n",
    "    m = bag.m\n",
    "    g = bag.g\n",
    "    mu= bag.mu\n",
    "    F = m * g - mu * v\n",
    "    return F"
   ]
  },
  {
   "cell_type": "markdown",
   "id": "f440f3fb-ef94-4818-90ce-1e5b9907baca",
   "metadata": {},
   "source": [
    "## Step 3: Compute Trajectory\n",
    "We'll stop the calculations when the projectile reaches the ground."
   ]
  },
  {
   "cell_type": "code",
   "execution_count": 12,
   "id": "c0443885-8dcf-4dfd-b937-ef4fd9a1671b",
   "metadata": {},
   "outputs": [],
   "source": [
    "def compute_trajectory(max_steps=100000):\n",
    "    \n",
    "    # set initial state\n",
    "    V0 = np.array((4, 10, 0))  # initial velocity of ball (1 m/s)\n",
    "    r  = [R0]\n",
    "    v  = [V0]\n",
    "\n",
    "    for i in range(max_steps):\n",
    "        \n",
    "        # \"I'm alive\" printout\n",
    "        if i % 10 == 0:\n",
    "            print(f'\\r{i:10d}', end='')\n",
    "            \n",
    "        # compute total forcre on ball\n",
    "        F = force(r[i], v[i], bag)\n",
    "\n",
    "        # compute next state of ball\n",
    "        rnext, vnext = propagate(r[i], v[i], F, bag)\n",
    "\n",
    "        # check if we've reached the ground\n",
    "        x, y, z = rnext\n",
    "        if y <= 0:\n",
    "            break # break out of loop\n",
    "\n",
    "        # cache the next state\n",
    "        r.append(rnext)\n",
    "        v.append(vnext)\n",
    "        \n",
    "    print('\\ndone!')\n",
    "    \n",
    "    return r, v"
   ]
  },
  {
   "cell_type": "code",
   "execution_count": 13,
   "id": "95bfd51a-1fdb-4439-8d09-92ff28209f59",
   "metadata": {
    "tags": []
   },
   "outputs": [
    {
     "name": "stdout",
     "output_type": "stream",
     "text": [
      "       210\n",
      "done!\n"
     ]
    }
   ],
   "source": [
    "r, v = compute_trajectory()"
   ]
  },
  {
   "cell_type": "markdown",
   "id": "c097b13a-b89c-4bbc-a53e-82bb5f206708",
   "metadata": {},
   "source": [
    "## Step 4: Plot Results"
   ]
  },
  {
   "cell_type": "code",
   "execution_count": 29,
   "id": "5a4150d2-85d6-4538-8773-054a26373d88",
   "metadata": {},
   "outputs": [],
   "source": [
    "def plot_trajectory(r, v, \n",
    "                    xmin=0, xmax=20, \n",
    "                    ymin=0, ymax=20, \n",
    "                    fgsize=(5, 4), \n",
    "                    ftsize=14,\n",
    "                    color='blue', \n",
    "                    filename='projectile.png'):\n",
    "    '''\n",
    " \n",
    "    Example\n",
    "\n",
    "    >>> plot_function(r, v) \n",
    "    '''\n",
    "\n",
    "    # extract (x, y) coordinates so we can plot them\n",
    "    a = [[z[0], z[1]] for z in r]\n",
    "    x, y = zip(*a)  # this is the opposite of \"zipping\" !\n",
    "    \n",
    "    fig, ax = plt.subplots(figsize=fgsize)\n",
    "\n",
    "    # define domain of graph\n",
    "    ax.set_xlim(xmin, xmax)\n",
    "    \n",
    "    # define range of graph\n",
    "    ax.set_ylim(ymin, ymax)\n",
    "        \n",
    "    # annotate axes\n",
    "    ax.set_xlabel('$x$', fontsize=ftsize)\n",
    "    ax.set_ylabel('$y$', fontsize=ftsize)\n",
    "\n",
    "    ax.plot(x, y, color=color)\n",
    "    \n",
    "    ax.grid()\n",
    "\n",
    "    fig.tight_layout()\n",
    "    \n",
    "    plt.savefig(filename)"
   ]
  },
  {
   "cell_type": "code",
   "execution_count": 30,
   "id": "e457786c-fdc0-44e1-bedc-443ba344686e",
   "metadata": {
    "tags": []
   },
   "outputs": [
    {
     "data": {
      "image/png": "[encoded data removed]",
      "text/plain": [
       "<Figure size 500x400 with 1 Axes>"
      ]
     },
     "metadata": {},
     "output_type": "display_data"
    }
   ],
   "source": [
    "plot_trajectory(r, v)"
   ]
  },
  {
   "cell_type": "code",
   "execution_count": null,
   "id": "ca1f6c26-d639-4ee7-a291-f9e935e60a3f",
   "metadata": {},
   "outputs": [],
   "source": []
  }
 ],
 "metadata": {
  "kernelspec": {
   "display_name": "Python 3 (ipykernel)",
   "language": "python",
   "name": "python3"
  },
  "language_info": {
   "codemirror_mode": {
    "name": "ipython",
    "version": 3
   },
   "file_extension": ".py",
   "mimetype": "text/x-python",
   "name": "python",
   "nbconvert_exporter": "python",
   "pygments_lexer": "ipython3",
   "version": "3.11.5"
  },
  "toc-autonumbering": false,
  "toc-showcode": false
 },
 "nbformat": 4,
 "nbformat_minor": 5
}
