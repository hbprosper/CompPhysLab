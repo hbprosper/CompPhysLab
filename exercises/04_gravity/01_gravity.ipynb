{
 "cells": [
  {
   "cell_type": "markdown",
   "id": "99aa72e3-eac9-4469-84f0-d60654a87e54",
   "metadata": {
    "tags": []
   },
   "source": [
    "# Gravity\n",
    "\n",
    "## Tips\n",
    "\n",
    "Learn `Python` by going through the suggested online tutorials and the `PythonMinimum` notebook.\n",
    "\n",
    "  * Python tutorials:\n",
    "     * [A short introduction](https://realpython.com/python-first-steps/)\n",
    "     * [A more complete introduction](https://www.w3schools.com/python/default.asp)\n",
    "     * PythonMinimum\n",
    "  * Use __esc r__ to disable a cell\n",
    "  * Use __esc y__ to reactivate it\n",
    "  * Use __esc m__ to go to markdown mode. **Markdown** is the typesetting language used in jupyter notebooks.\n",
    "  * In a markdown cell, double tap the mouse or glide pad (on your laptop) to go to edit mode. \n",
    "  * Shift + return to execute a cell (including markdown cells).\n",
    "  * If the equations don't typeset, try double tapping the cell again, and re-execute it.\n",
    "\n",
    "\n",
    "## Goal\n",
    "\n",
    "This notebook provides a gentle introduction to gravitational interactions.\n",
    "\n",
    "## Newton's Law of Gravity\n",
    "\n",
    "According to Newton, two objects of 1 and 2 or mass $m_1$ and $m_2$ at positions $\\vec{r}_1$ and $\\vec{r}_2$, respectively, experience a gravitational pull on each other of magnitude\n",
    "\n",
    "\\begin{align}\n",
    "    G \\frac{m_1 m_2}{|\\vec{r}_1 - \\vec{r}_2|^2}\n",
    "\\end{align}\n",
    "\n",
    "where $G$ is Newton's gravitational constant. But force is a vector, so let's write the gravitational force of object 2 on object 1. Define the vector that starts at object 2 and ends on\n",
    "object 1, $\\vec{r} = \\vec{r}_1 - \\vec{r}_2$ as shown in the figure. \n",
    "<img src=\"fig07_2objects.png\" align=\"left\" alt=\"2-body system\" width=\"300\"/>\n",
    "<br clear=\"right\"/>\n",
    "Also define the associated unit vector $\\hat{r}$. Then the gravitational force of object 2 **on** object 1 can be written as\n",
    "\n",
    "\\begin{align}\n",
    "    \\vec{F}_g & = - \\left( G \\frac{m_1 m_2}{|\\vec{r}|^2} \\right) \\hat{r},\\\\\n",
    "    & = - \\left( G \\frac{m_1 m_2}{|\\vec{r}|^2} \\right) \\frac{\\vec{r}}{|\\vec{r}|},\\\\\n",
    "    & = - G \\frac{m_1 m_2}{|\\vec{r}|^3} \\vec{r} .\n",
    "\\end{align}\n",
    "\n",
    "Why is there a negative sign?\n",
    "\n",
    "Newton did not understand how it was possible for one object to exert a gravitational force on another that is not in contact with it. An explanation was provided by Michael Faraday in the 1840s. Michael Faraday suggested that an object, for example the Sun, exerts a force on the Earth indirectly. The Sun creates a **gravitational field** around it that extends throughout space and it is the field at the location of the Earth that exerts the gravitational force on the Earth. Likewise the gravitational field of the Earth extends all the way to the Sun and the field at the Sun's location exerts a force on the Sun. Your gravitational field also extends all the way to the Sun and exerts a force on the Sun!\n",
    "\n",
    "We can make this idea quantitative by noticing that we can write the force of object 2 on object 1 as follows\n",
    "\n",
    "\\begin{align}\n",
    "    \\vec{F}_g & = m_1 \\vec{g}_1 ,\n",
    "\\end{align}\n",
    "\n",
    "just as we did for the projectile motion problem. By comparing the above with the expression for the gravitational force, we see that the **gravitational field** $\\vec{g}_1$ at the location of object 1 can be written as \n",
    "\n",
    "\\begin{align}\n",
    "    \\vec{g}_1 & = - G \\frac{m_2}{|\\vec{r}|^3} \\vec{r} .\n",
    "\\end{align}\n",
    "\n",
    "If we want the gravitational force on object 1 due to objects 2, 3, $\\cdots n$, we first add their gravitational fields \n",
    "\n",
    "\\begin{align}\n",
    "    \\vec{g}_1 & = -G \\sum_{j=2}^n \\frac{m_j}{|\\vec{r}_1 - \\vec{r}_j|^3} (\\vec{r}_1 - \\vec{r}_j) ,\n",
    "\\end{align}\n",
    "\n",
    "then multiply the total gravitational field $\\vec{g}_1$ by the mass $m_1$. This must be done for each of the objects in turn. Therefore, for object $i$ we need to compute all the possible vector differences $\\vec{r}_i - \\vec{r}_j$ with $i \\neq j$. \n",
    "\n",
    "In this exercise, and in the associated project, we'll assume that the orbital planes of the inner planets lie in the same plane. The initial positions of the planets will be taken to be their positions on 22 September 2024 as given in the table below. (The data were provided at this [website](https://eco.mtk.nao.ac.jp/cgi-bin/koyomi/cande/planet_ecliptic_en.cgi).)\n",
    "\n",
    "\n",
    "| **planet** | **longitude** (deg) | **radius**  (au)| **speed** (deg/day) |\n",
    "| :--        | :--           | :--             | :--                 |\n",
    "| Mercury|152.26499|0.3513275|4.86195 |\n",
    "| Venus|251.88011|0.7257176|1.59162|\n",
    "| Earth|000.00000|1.0035870|0.98562|\n",
    "| Mars|58.834830|1.4917856|0.54435|\n",
    "| Jupiter|69.554680|5.0509857|0.08809|\n",
    "| Saturn|346.51910|9.6606022|0.03265|\n",
    "| Uranus|54.60613|19.5701169|0.01133|\n",
    "| Neptune|358.53431|29.896918|0.00610|\n",
    "\n",
    "\n",
    "Positions one day later (23 September 2024).\n",
    "\n",
    "| **planet** | **longitude** (deg) | **radius**  (au)| **speed** (deg/day) |\n",
    "| :--        | :--           | :--             | :--                 |\n",
    "| Mercury|157.05017|0.3569830|4.70912|\n",
    "| Venus|253.47147|0.7258350|1.59110|\n",
    "| Earth|0.98562|1.0033129|0.98562|\n",
    "| Mars|59.37871|1.4930812|0.54341|\n",
    "| Jupiter|69.64277|5.0512854|0.08808|\n",
    "| Saturn|346.55175|9.6603041|0.03265|\n",
    "| Uranus|54.61746|19.5699504|0.01133|\n",
    "| Neptune|358.54041|29.896892|0.00610|\n",
    "\n",
    "\n",
    "The data above is relative to the **heliocentric coordinate system**\n",
    "<img src=\"fig04_heliocentric.png\" align=\"right\" alt=\"heliocentric coordinate system\" width=\"400\"/>\n",
    "The center of this coordinate system is near the center of the Sun. In fact, the origin of this coordinate system is (by [international agreement](https://en.wikipedia.org/wiki/International_Celestial_Reference_System_and_its_realizations)) at the center of mass of the Solar System.\n",
    "<br clear=\"right\"/>\n",
    "\n",
    "\n",
    "\n",
    "## Numerical Solution of Newton's Second Law\n",
    "\n",
    "Recall that Newton's second law of motion for a particle of mass $m$\n",
    "\n",
    "$$\\vec{F} = m \\vec{a},$$ \n",
    "\n",
    "can be written as the two differential equations\n",
    "\n",
    "\\begin{align}\n",
    "    \\frac{d\\vec{r}}{dt} & = \\vec{v}, \\\\\n",
    "    \\frac{d\\vec{v}}{dt} & = \\frac{1}{m} \\vec{F} .\n",
    "\\end{align}\n",
    "\n",
    "The equations we used to get an approximate solution for the projectile problem are not accurate enough for our purposes. If you look at the notebook `exercises/02_taylor_series.ipynb`, you'll see the following, more accurate, equations for the position of objects,\n",
    "\n",
    "\\begin{align}\n",
    "    \\vec{r}(t + h) \n",
    "& = \\color{blue}{\\vec{r}(t) + \\vec{v}(t) \\, h  + \\frac{1}{2} \\frac{\\vec{F}(t)}{m}  \\, h^2} +  \\left( \\frac{\\vec{F}(t) - \\vec{F}(t - h) }{6 m}\\right) \\, h^2 + {\\cal O}(h^4),\n",
    "\\end{align}\n",
    "\n",
    "which is accurate to ${\\cal O}(h^4)$. The formula for the velocity of an object is\n",
    "\n",
    "\\begin{align}\n",
    "    \\vec{v}(t + h) & = \\color{blue}{\\vec{v}(t) + \\frac{\\vec{F}(t)}{m}  \\, h}  +  \\left( \\frac{\\vec{F}(t) - \\vec{F}(t - h) }{2 m}\\right)   \\, h + {\\cal O}(h^3) ,\n",
    "\\end{align}\n",
    "\n",
    "which is accurate to ${\\cal O}(h^3)$.\n",
    "\n",
    "Note that at $t = 0$, in general, we do not know the force at time $t = -h$. So a possible simulation strategy is to use the less accurate formulae (in blue) for timestamp $t = +h$ and thereafter use the more accurate ones."
   ]
  },
  {
   "cell_type": "markdown",
   "id": "a04e6adc-8849-4431-9f29-1901d3a1b029",
   "metadata": {},
   "source": [
    "### Import modules \n",
    "Make Python modules (that is, collections of programs) available to this notebook.\n"
   ]
  },
  {
   "cell_type": "code",
   "execution_count": 1,
   "id": "0352a958-c65a-4ace-bcd8-139417a3afbc",
   "metadata": {},
   "outputs": [],
   "source": [
    "import os, sys\n",
    "import numpy as np\n",
    "import matplotlib as mp\n",
    "import matplotlib.pyplot as plt\n",
    "from matplotlib.animation import FuncAnimation\n",
    "\n",
    "# We'll use this to read in the planetary data, which are in CSV files.\n",
    "import pandas as pd\n",
    "\n",
    "%matplotlib inline\n",
    "\n",
    "# update fonts\n",
    "FONTSIZE = 12\n",
    "font = {'family' : 'sans-serif',\n",
    "        'weight' : 'normal',\n",
    "        'size'   : FONTSIZE}\n",
    "mp.rc('font', **font)\n",
    "\n",
    "# use latex if available on system, otherwise set usetex=False\n",
    "mp.rc('text', usetex=True)\n",
    "\n",
    "# use JavaScript for rendering animations\n",
    "mp.rc('animation', html='jshtml')\n",
    "\n",
    "# set a seed to ensure reproducibility \n",
    "# on a given machine\n",
    "seed = 314159\n",
    "rnd  = np.random.RandomState(seed)"
   ]
  },
  {
   "cell_type": "markdown",
   "id": "9a254991-a4f4-45f8-80ad-4a65e6d4a4d9",
   "metadata": {},
   "source": [
    "### Constants"
   ]
  },
  {
   "cell_type": "code",
   "execution_count": 2,
   "id": "33220f94-e941-48b0-8ab7-b8348c7f9a62",
   "metadata": {
    "tags": []
   },
   "outputs": [],
   "source": [
    "D  = 24*3600.0           # Seconds per Earth day\n",
    "Y  = 365.25*D            # Seconds per Earth year\n",
    "\n",
    "Ms = 1.98850e30          # Mass of Sun (kg)\n",
    "Mm = 0.33010e24          # Mass of Mercury (kg)\n",
    "Mv = 4.86730e24          # Mass of Venus (kg)\n",
    "Me = 5.97220e24          # Mass of Earth (kg)\n",
    "Mr = 0.64169e24          # Mass of Mars (kg)\n",
    "Mj = 1898.13e24          # Mass of Jupiter (kg)\n",
    "\n",
    "R  = 1.495979e+11        # Astronomical unit (m)\n",
    "G  = 6.674080e-11        # Gravitational constant (m^3 /kg /s^2)\n",
    "\n",
    "SIZE = 2*R\n",
    "h  = D/10                # Time increment in days\n",
    "hh = h*h\n",
    "\n",
    "class Bag:               # a very simple class (see PythonMinimum)\n",
    "    pass\n",
    "bag    = Bag()"
   ]
  },
  {
   "cell_type": "markdown",
   "id": "20831126-0302-4100-b5fc-1e2b1501089e",
   "metadata": {},
   "source": [
    "### Read in planetary position data\n",
    "\n",
    "We use the `pandas` module to read the planetary data which are in CSV files. `pandas` is an excellent module for reading and manipulating tables of data."
   ]
  },
  {
   "cell_type": "code",
   "execution_count": 3,
   "id": "e504d8db-5faf-4e16-b40d-42ee0df6b0fa",
   "metadata": {
    "tags": []
   },
   "outputs": [
    {
     "data": {
      "text/html": [
       "<div>\n",
       "<style scoped>\n",
       "    .dataframe tbody tr th:only-of-type {\n",
       "        vertical-align: middle;\n",
       "    }\n",
       "\n",
       "    .dataframe tbody tr th {\n",
       "        vertical-align: top;\n",
       "    }\n",
       "\n",
       "    .dataframe thead th {\n",
       "        text-align: right;\n",
       "    }\n",
       "</style>\n",
       "<table border=\"1\" class=\"dataframe\">\n",
       "  <thead>\n",
       "    <tr style=\"text-align: right;\">\n",
       "      <th></th>\n",
       "      <th>planet</th>\n",
       "      <th>longitude</th>\n",
       "      <th>radius</th>\n",
       "      <th>speed</th>\n",
       "    </tr>\n",
       "  </thead>\n",
       "  <tbody>\n",
       "    <tr>\n",
       "      <th>0</th>\n",
       "      <td>1</td>\n",
       "      <td>2.657525</td>\n",
       "      <td>0.351328</td>\n",
       "      <td>0.084857</td>\n",
       "    </tr>\n",
       "    <tr>\n",
       "      <th>1</th>\n",
       "      <td>2</td>\n",
       "      <td>4.396137</td>\n",
       "      <td>0.725718</td>\n",
       "      <td>0.027779</td>\n",
       "    </tr>\n",
       "    <tr>\n",
       "      <th>2</th>\n",
       "      <td>3</td>\n",
       "      <td>0.000000</td>\n",
       "      <td>1.003587</td>\n",
       "      <td>0.017202</td>\n",
       "    </tr>\n",
       "    <tr>\n",
       "      <th>3</th>\n",
       "      <td>4</td>\n",
       "      <td>1.026861</td>\n",
       "      <td>1.491786</td>\n",
       "      <td>0.009501</td>\n",
       "    </tr>\n",
       "  </tbody>\n",
       "</table>\n",
       "</div>"
      ],
      "text/plain": [
       "   planet  longitude    radius     speed\n",
       "0       1   2.657525  0.351328  0.084857\n",
       "1       2   4.396137  0.725718  0.027779\n",
       "2       3   0.000000  1.003587  0.017202\n",
       "3       4   1.026861  1.491786  0.009501"
      ]
     },
     "execution_count": 3,
     "metadata": {},
     "output_type": "execute_result"
    }
   ],
   "source": [
    "n = 4 # number of inner planets\n",
    "deg2radian = np.pi / 180 # need to convert angles to radians\n",
    "\n",
    "planets1 = pd.read_csv('planets-10-22-24.csv')[:n]\n",
    "planets1['longitude'] *= deg2radian\n",
    "planets1['speed'] *= deg2radian\n",
    "\n",
    "planets1"
   ]
  },
  {
   "cell_type": "code",
   "execution_count": 4,
   "id": "e878ab15-6950-4f2e-a947-0504d106fa13",
   "metadata": {
    "tags": []
   },
   "outputs": [
    {
     "data": {
      "text/html": [
       "<div>\n",
       "<style scoped>\n",
       "    .dataframe tbody tr th:only-of-type {\n",
       "        vertical-align: middle;\n",
       "    }\n",
       "\n",
       "    .dataframe tbody tr th {\n",
       "        vertical-align: top;\n",
       "    }\n",
       "\n",
       "    .dataframe thead th {\n",
       "        text-align: right;\n",
       "    }\n",
       "</style>\n",
       "<table border=\"1\" class=\"dataframe\">\n",
       "  <thead>\n",
       "    <tr style=\"text-align: right;\">\n",
       "      <th></th>\n",
       "      <th>planet</th>\n",
       "      <th>longitude</th>\n",
       "      <th>radius</th>\n",
       "      <th>speed</th>\n",
       "    </tr>\n",
       "  </thead>\n",
       "  <tbody>\n",
       "    <tr>\n",
       "      <th>0</th>\n",
       "      <td>1</td>\n",
       "      <td>2.741043</td>\n",
       "      <td>0.356983</td>\n",
       "      <td>0.082190</td>\n",
       "    </tr>\n",
       "    <tr>\n",
       "      <th>1</th>\n",
       "      <td>2</td>\n",
       "      <td>4.423912</td>\n",
       "      <td>0.725835</td>\n",
       "      <td>0.027770</td>\n",
       "    </tr>\n",
       "    <tr>\n",
       "      <th>2</th>\n",
       "      <td>3</td>\n",
       "      <td>0.017202</td>\n",
       "      <td>1.003313</td>\n",
       "      <td>0.017202</td>\n",
       "    </tr>\n",
       "    <tr>\n",
       "      <th>3</th>\n",
       "      <td>4</td>\n",
       "      <td>1.036354</td>\n",
       "      <td>1.493081</td>\n",
       "      <td>0.009484</td>\n",
       "    </tr>\n",
       "  </tbody>\n",
       "</table>\n",
       "</div>"
      ],
      "text/plain": [
       "   planet  longitude    radius     speed\n",
       "0       1   2.741043  0.356983  0.082190\n",
       "1       2   4.423912  0.725835  0.027770\n",
       "2       3   0.017202  1.003313  0.017202\n",
       "3       4   1.036354  1.493081  0.009484"
      ]
     },
     "execution_count": 4,
     "metadata": {},
     "output_type": "execute_result"
    }
   ],
   "source": [
    "planets2 = pd.read_csv('planets-10-23-24.csv')[:n]\n",
    "planets2['longitude'] *= deg2radian\n",
    "planets2['speed'] *= deg2radian\n",
    "\n",
    "planets2"
   ]
  },
  {
   "cell_type": "markdown",
   "id": "33da4d6a-7bb6-4d21-a899-e73aeb07307f",
   "metadata": {},
   "source": [
    "#### Extract to numpy arrays"
   ]
  },
  {
   "cell_type": "code",
   "execution_count": 5,
   "id": "0016f4a7-c834-49dc-ba71-713fc622c392",
   "metadata": {
    "tags": []
   },
   "outputs": [
    {
     "data": {
      "text/plain": [
       "array([0.08485704, 0.02777901, 0.01720231, 0.0095007 ])"
      ]
     },
     "execution_count": 5,
     "metadata": {},
     "output_type": "execute_result"
    }
   ],
   "source": [
    "phi1    = planets1['longitude'].to_numpy()\n",
    "radius1 = planets1['radius'].to_numpy()\n",
    "speed1  = planets1['speed'].to_numpy()\n",
    "\n",
    "phi2    = planets2['longitude'].to_numpy()\n",
    "radius2 = planets2['radius'].to_numpy()\n",
    "speed2  = planets2['speed'].to_numpy()\n",
    "\n",
    "speed1"
   ]
  },
  {
   "cell_type": "markdown",
   "id": "283ad069-21ba-4b49-8348-b24ac8ba2062",
   "metadata": {
    "tags": []
   },
   "source": [
    "### Exercises\n",
    "\n",
    "#### Problem 1\n",
    "Add the masses (in kg in scientific notation) of all the inner planets to the list of Constants above. Use symbols such as `Mm` for Mercury, `Mv` for Venus, etc. \n",
    "\n",
    "####  Problem 2. \n",
    "Using the data above, and using the matplotlib function `ax.scatter(...)`, plot the predicted positions of the inner planets on 22 September 2024. Use different colored dots for the planets and make the large enough to be clearly visible. \n",
    "\n",
    "Assume that all planets lie in the $xy$-plane in the heliocentric coordinate system. (This is approximately true.)"
   ]
  },
  {
   "cell_type": "markdown",
   "id": "04fb5da0-7086-4127-9947-041bdf0ed4f2",
   "metadata": {},
   "source": [
    "#### Compute $(x, y, z)$ coordinates of planets"
   ]
  },
  {
   "cell_type": "code",
   "execution_count": 21,
   "id": "b6236bb6-71cb-4fea-876a-2b5bd3a76d3c",
   "metadata": {
    "tags": []
   },
   "outputs": [
    {
     "data": {
      "text/plain": [
       "(array([ 0.        , -0.31096328, -0.2257028 ,  1.003587  ,  0.7720094 ]),\n",
       " array([ 0.        ,  0.16350184, -0.68972769,  0.        ,  1.27648962]))"
      ]
     },
     "execution_count": 21,
     "metadata": {},
     "output_type": "execute_result"
    }
   ],
   "source": [
    "x = radius1 * np.cos(phi1)\n",
    "y = radius1 * np.sin(phi1)\n",
    "z = np.zeros(len(x))\n",
    "\n",
    "# insert coordinates of the Sun. for simplicity assume that on 2024-09-22, the Sun \n",
    "# is at the barycenter of the solar system.\n",
    "x = np.insert(x, 0, 0)\n",
    "y = np.insert(y, 0, 0)\n",
    "z = np.insert(z, 0, 0)\n",
    "r = np.array([x, y, z]).T\n",
    "\n",
    "colors = ['gold', 'magenta', 'orange', 'blue',  'red']\n",
    "text   = ['Sun',  'Mercury', 'Venus',  'Earth', 'Mars']\n",
    "\n",
    "x, y"
   ]
  },
  {
   "cell_type": "code",
   "execution_count": 22,
   "id": "33f0459a-da6f-43ab-a159-cf7612a9cc6b",
   "metadata": {},
   "outputs": [
    {
     "data": {
      "image/png": "[encoded data removed]",
      "text/plain": [
       "<Figure size 500x500 with 1 Axes>"
      ]
     },
     "metadata": {},
     "output_type": "display_data"
    }
   ],
   "source": [
    "def plot_positions(x, y, colors, text, \n",
    "                   filename='fig08_innerplanets.png',\n",
    "                   xmin=-2, xmax=2, ymin=-2, ymax=2, \n",
    "                   fgsize=(5,5), ftsize=16):\n",
    "    \n",
    "    # set size of figure\n",
    "    fig = plt.figure(figsize=fgsize)\n",
    "\n",
    "    # create area for a single plot \n",
    "    nrows, ncols, index = 1, 1, 1\n",
    "    ax  = plt.subplot(nrows, ncols, index)\n",
    "\n",
    "    ax.set_title('Inner Solar System on 2024-09-22', pad=14)\n",
    "    \n",
    "    # define graph domain, tick marks, and labels\n",
    "    tickmarks = [-2.0, -1.5, -1, -0.5, 0.5, 1, 1.5, 2.0]\n",
    "    ax.set_xlim(xmin, xmax)\n",
    "    ax.set_xticks(ticks=tickmarks)\n",
    "    ax.set_xlabel('$x$ (au)', loc='right', fontsize=ftsize)\n",
    "\n",
    "    # define graph range, tick marks, and labels  \n",
    "    ax.set_ylim(ymin, ymax)\n",
    "    ax.set_yticks(ticks=tickmarks)\n",
    "    ax.set_ylabel('$y$ (au)', loc='top', fontsize=ftsize)\n",
    "    \n",
    "    # move left y-axis and bottom x-axis to center of plot\n",
    "    ax.spines['left'].set_position('center')\n",
    "    ax.spines['bottom'].set_position('center')\n",
    "        \n",
    "    # eliminate upper and right axes\n",
    "    ax.spines['right'].set_color('none')\n",
    "    ax.spines['top'].set_color('none')\n",
    "    \n",
    "    ax.scatter(x, y, s=50, c=colors)\n",
    "    \n",
    "    for X, Y, T in zip(x, y, text):\n",
    "        X += 0.1\n",
    "        Y += 0.1\n",
    "        ax.text(X, Y, T)\n",
    "    \n",
    "    fig.tight_layout()\n",
    "    \n",
    "    plt.savefig(filename)\n",
    "    \n",
    "plot_positions(x, y, colors, text)"
   ]
  },
  {
   "cell_type": "markdown",
   "id": "0ca307d0-a4b9-412b-b8f6-e2efd35e46b6",
   "metadata": {},
   "source": [
    "#### Problem 3.\n",
    "Using the data above compute the position and velocity vectors for the inner planets in SI units (m, kg, s) units on 22 September 2024.\n",
    "  "
   ]
  },
  {
   "cell_type": "code",
   "execution_count": 23,
   "id": "6845741e-0f9c-4af2-938b-0ac848e77299",
   "metadata": {
    "tags": []
   },
   "outputs": [],
   "source": [
    "# the following functions can operate on an array of vectors\n",
    "\n",
    "# compute magnitudes of one or more vectors\n",
    "def magnitude(v):\n",
    "    return np.sqrt(np.sum(v*v, axis=-1))\n",
    "\n",
    "# compute unit vectors from one or more vectors\n",
    "def norm(v):\n",
    "    magv = magnitude(v)\n",
    "    magv = np.where(magv < 1.e-10, 1, magv) # handle zero-length vectors\n",
    "    return v / magv[:, np.newaxis]"
   ]
  },
  {
   "cell_type": "code",
   "execution_count": 24,
   "id": "a7ba0015-f5dc-4484-987d-8d9aece84034",
   "metadata": {
    "tags": []
   },
   "outputs": [
    {
     "data": {
      "text/plain": [
       "((5, 3),\n",
       " array([[ 0.        ,  0.        ,  0.        ],\n",
       "        [-0.31096328,  0.16350184,  0.        ],\n",
       "        [-0.2257028 , -0.68972769,  0.        ],\n",
       "        [ 1.003587  ,  0.        ,  0.        ],\n",
       "        [ 0.7720094 ,  1.27648962,  0.        ]]))"
      ]
     },
     "execution_count": 24,
     "metadata": {},
     "output_type": "execute_result"
    }
   ],
   "source": [
    "# position vectors of planets on 22 September 2024\n",
    "r.shape, r"
   ]
  },
  {
   "cell_type": "code",
   "execution_count": 25,
   "id": "cc695680-8012-4796-997c-83d90392e168",
   "metadata": {
    "tags": []
   },
   "outputs": [
    {
     "data": {
      "text/plain": [
       "((5, 3),\n",
       " array([[ 0.        ,  0.        ,  0.        ],\n",
       "        [-0.3287266 ,  0.13919658,  0.        ],\n",
       "        [-0.20649479, -0.69584219,  0.        ],\n",
       "        [ 1.00316445,  0.01725845,  0.        ],\n",
       "        [ 0.76051766,  1.28487523,  0.        ]]))"
      ]
     },
     "execution_count": 25,
     "metadata": {},
     "output_type": "execute_result"
    }
   ],
   "source": [
    "# 1. compute positions of planets a day later\n",
    "\n",
    "x2  = radius2 * np.cos(phi2)\n",
    "y2  = radius2 * np.sin(phi2)\n",
    "z2  = np.zeros(len(x2))\n",
    "\n",
    "# insert coordinates of the Sun. for simplicity assume that on 2024-09-22, the Sun \n",
    "# is at the barycenter of the solar system.\n",
    "x2 = np.insert(x2, 0, 0)\n",
    "y2 = np.insert(y2, 0, 0)\n",
    "z2 = np.insert(z2, 0, 0)\n",
    "r2  = np.array([x2, y2, z2]).T\n",
    "\n",
    "r2.shape, r2"
   ]
  },
  {
   "cell_type": "code",
   "execution_count": 26,
   "id": "d2e8131e-d8be-4a8b-b1b6-f48cb6a87aad",
   "metadata": {
    "tags": []
   },
   "outputs": [
    {
     "data": {
      "text/plain": [
       "((5, 3),\n",
       " array([[ 0.        ,  0.        ,  0.        ],\n",
       "        [-0.59005517, -0.80736293,  0.        ],\n",
       "        [ 0.95288476, -0.30333255,  0.        ],\n",
       "        [-0.02447611,  0.99970042,  0.        ],\n",
       "        [-0.80779962,  0.58945718,  0.        ]]))"
      ]
     },
     "execution_count": 26,
     "metadata": {},
     "output_type": "execute_result"
    }
   ],
   "source": [
    "# 2. compute unit vectors in directions of motion of planets\n",
    "# for the zero length vectors, return a zero vector.\n",
    "u   = norm(r2 - r)\n",
    "u.shape, u"
   ]
  },
  {
   "cell_type": "code",
   "execution_count": 28,
   "id": "fe7898b4-7adb-4920-bfeb-e10f11677b7c",
   "metadata": {},
   "outputs": [
    {
     "data": {
      "text/plain": [
       "array([    0.        , 51619.2578003 , 34905.68503949, 29891.90936548,\n",
       "       24539.95489371])"
      ]
     },
     "execution_count": 28,
     "metadata": {},
     "output_type": "execute_result"
    }
   ],
   "source": [
    "# 3. compute velocities of the planets\n",
    "#    convert speed in radians/Earth day to m / s\n",
    "\n",
    "# take the speed of the Sun to be zero in heliocentric coordinates.\n",
    "# this is not strictly correct since the origin of the heliocentric coordinate\n",
    "# system is the barycenter of the solar system. However, the barycenter is always \n",
    "# within or close to the Sun.\n",
    "speed  = np.insert(speed1, 0, 0)\n",
    "radius = np.insert(radius1, 0, 0)\n",
    "speed /= D           # convert to radians / s\n",
    "speed *= radius      # convert to au / s\n",
    "speed *= R           # convert to m / s\n",
    "\n",
    "speed"
   ]
  },
  {
   "cell_type": "code",
   "execution_count": 29,
   "id": "839e3882-483d-4ab4-9555-a605eb18ec4a",
   "metadata": {
    "tags": []
   },
   "outputs": [
    {
     "name": "stdout",
     "output_type": "stream",
     "text": [
      "(5, 3)\n"
     ]
    },
    {
     "data": {
      "text/plain": [
       "((5,),\n",
       " array([1.9885e+30, 3.3010e+23, 4.8673e+24, 5.9722e+24, 6.4169e+23]),\n",
       " (5, 3),\n",
       " array([[ 0.00000000e+00,  0.00000000e+00,  0.00000000e+00],\n",
       "        [-4.65194538e+10,  2.44595312e+10,  0.00000000e+00],\n",
       "        [-3.37646653e+10, -1.03181813e+11,  0.00000000e+00],\n",
       "        [ 1.50134508e+11,  0.00000000e+00,  0.00000000e+00],\n",
       "        [ 1.15490985e+11,  1.90960167e+11,  0.00000000e+00]]),\n",
       " (5, 3),\n",
       " array([[     0.        ,      0.        ,      0.        ],\n",
       "        [-30458.20987601, -41675.4751263 ,      0.        ],\n",
       "        [ 33261.09532474, -10588.03031139,      0.        ],\n",
       "        [  -731.63757752,  29882.95420418,      0.        ],\n",
       "        [-19823.36634141,  14465.2526103 ,      0.        ]]))"
      ]
     },
     "execution_count": 29,
     "metadata": {},
     "output_type": "execute_result"
    }
   ],
   "source": [
    "# cache planetary data in bag\n",
    "\n",
    "bag.m = np.array([Ms, Mm, Mv, Me, Mr])\n",
    "\n",
    "# convert positions from au to meters\n",
    "bag.r = R * r\n",
    "print(bag.r.shape)\n",
    "\n",
    "# (see explanation of broadcasting below)\n",
    "bag.v = speed[:, np.newaxis] * u\n",
    "\n",
    "bag.m.shape, bag.m, bag.r.shape, bag.r, bag.v.shape, bag.v"
   ]
  },
  {
   "cell_type": "markdown",
   "id": "68c4f0fd-844e-404e-aeaf-8b244f6362b6",
   "metadata": {},
   "source": [
    "#### Problem 4.\n",
    "  Convert the position and velocities so that they are in astronomical units (au) and au/Earth year."
   ]
  },
  {
   "cell_type": "code",
   "execution_count": 30,
   "id": "7496d5ff-b354-4216-89b7-44c5041d1b23",
   "metadata": {},
   "outputs": [
    {
     "name": "stdout",
     "output_type": "stream",
     "text": [
      "positions (au)\n",
      " [[ 0.          0.          0.        ]\n",
      " [-0.31096328  0.16350184  0.        ]\n",
      " [-0.2257028  -0.68972769  0.        ]\n",
      " [ 1.003587    0.          0.        ]\n",
      " [ 0.7720094   1.27648962  0.        ]]\n",
      "velocities (au/Earth year)\n",
      " [[ 0.          0.          0.        ]\n",
      " [-6.4251437  -8.79142003  0.        ]\n",
      " [ 7.01641094 -2.23353954  0.        ]\n",
      " [-0.15433857  6.30379381  0.        ]\n",
      " [-4.18172893  3.05143759  0.        ]]\n"
     ]
    }
   ],
   "source": [
    "bag.r /= R   # positions in au\n",
    "bag.v /= R   # velocities in au / s\n",
    "bag.v *= Y   # velocities in au / Earth year\n",
    "\n",
    "print('positions (au)\\n', bag.r)\n",
    "print('velocities (au/Earth year)\\n', bag.v)"
   ]
  },
  {
   "cell_type": "markdown",
   "id": "04306669-6773-4c18-bbbc-377e47a39c07",
   "metadata": {},
   "source": [
    "### Computing net forces\n",
    "\n",
    "Consider the *net* gravitational field at position $\\vec{r}_i$, which is given by the expression\n",
    "\n",
    "\\begin{align}\n",
    "    \\vec{g}_i & = -G \\sum_{j\\neq i}^n \\frac{m_j}{|\\vec{r}_i - \\vec{r}_j|^3} (\\vec{r}_i - \\vec{r}_j).\n",
    "\\end{align}\n",
    "\n",
    "Given the net gravitational field at position $\\vec{r}_i$, the gravitational force on an object of mass $m_i$ at that position is simply\n",
    "\n",
    "\\begin{align}\n",
    "    \\vec{F}_{g, i} & = m_i \\vec{g}_i .\n",
    "\\end{align}\n",
    "\n",
    "From the formula above, we see that we need to compute all vector differences $\\vec{r}_{ij} = \\vec{r}_i - \\vec{r}_j$. Below, we give two ways of computing the net gravitational field, $\\vec{g}_i$, at every position $\\vec{r}_i$. \n"
   ]
  },
  {
   "cell_type": "markdown",
   "id": "ed698b41-0b6b-4a1d-9e51-839ddc07e1b4",
   "metadata": {},
   "source": [
    "### `compute_forces1(m, r)`\n",
    "Given the masses `m` and positions `r` of the objects (planets, etc.), compute the net gravitational force on each object by performing the double loop over positions ourselves. "
   ]
  },
  {
   "cell_type": "code",
   "execution_count": 31,
   "id": "5d5aebdb-e5cc-49f0-86cf-fd87c28e38c6",
   "metadata": {
    "tags": []
   },
   "outputs": [],
   "source": [
    "def compute_forces1(m, r):\n",
    "    \n",
    "    # this list will contain the net forces acting on\n",
    "    # each particle\n",
    "    f = []\n",
    "    \n",
    "    # loop over the positions of the particles.\n",
    "    # use the \"enumerate\" construct so that we \n",
    "    # have access to the index \"i\" of each position (i = 0, 1,..., n-1)\n",
    "    \n",
    "    for i, ri in enumerate(r):\n",
    "        \n",
    "        # \"gi\" will be the net gravitational field at the position\n",
    "        # of particle i\n",
    "        gi = np.zeros(3)\n",
    "        \n",
    "        # loop over the positions of all other particles\n",
    "        for j, rj in enumerate(r):\n",
    "            \n",
    "            if i == j: continue  # skip self-interactions\n",
    "            \n",
    "            # by convention, we compute the vector that points\n",
    "            # from particle \"j\" to particle \"i\"\n",
    "            rij = ri - rj\n",
    "            \n",
    "            # find its magnitude, that is, the scalar distance\n",
    "            # between particles \"i\" and \"j\"\n",
    "            magrij = magnitude(rij)\n",
    "            \n",
    "            # sum the gravitational fields at the location of particle \"i\".\n",
    "            gi += m[j] * rij / magrij**3\n",
    "            \n",
    "        gi = -G * gi\n",
    "        \n",
    "        # compute net force on particle \"i\"\n",
    "        fnet = m[i] * gi\n",
    "        \n",
    "        # cache net force\n",
    "        f.append(fnet)\n",
    "    \n",
    "    # convert list of forces to a numpy array of forces\n",
    "    return np.array(f)"
   ]
  },
  {
   "cell_type": "markdown",
   "id": "2b9220b5-2f5c-413c-905d-5a17093e26cd",
   "metadata": {
    "tags": []
   },
   "source": [
    "### `compute_forces2(m, r)`\n",
    "Given the masses `m` and positions `r` of the objects (planets, etc.), compute the net gravitational force on each object, this time using the `numpy` **broadcasting** mechanism. \n",
    "\n",
    "#### Broadcasting\n",
    "You had a brief introduction to broadcasting in Project 1. Here we give a more detailed explanation of this very powerful idea. As always, it is easiest to explain the idea with an example.\n",
    "\n",
    "Suppose we have four planets at position vectors $\\vec{r}_1$, $\\vec{r}_2$, $\\vec{r}_3$, and $\\vec{r}_4$ that are interacting gravitationally. To compute the net gravitional force on each planet due to the other three, we need to compute all the possible differences between the vectors $\\vec{r}_1$, $\\vec{r}_2$, $\\vec{r}_3$, and $\\vec{r}_4$. To that end, let's put the vectors into an array: $r = (\\vec{r}_1, \\vec{r}_2, \\vec{r}_3,\\vec{r}_4)$. When represented as a *numpy* array, the *shape* of the array would be $(4, 3)$, that is, an array with 4 rows each with 3 columns since each vector is represented by an array of length 3. However, for now, it is simpler  to think of $r$ as simply an array of 4 objects, namely, $\\vec{r}_1$, $\\vec{r}_2$, $\\vec{r}_3$, and $\\vec{r}_4$.\n",
    "\n",
    "The key point to understand about *numpy* is that most array operations are performed element-by-element. Therefore, it is necessary that arrays be of the same shape. The shape of an array is specified by how many axes it has and the length of the array along each axis. For example, an array of shape (3,2,5) has three axes, `axis 0` of length 3, `axis 1` of length 2 and `axis 2` of length 5. One can think of `axis 0` as defining the rows, `axis 1` the columns and `axis 2` as a third axis perpendicular to the rows and columns. Two arrays A and B can be made the same shape by replicating array elements along the relevant axes if the arrays are compatible. Numpy decides whether two arrays are compatible using the following rules.\n",
    "  1. Starting from the rightmost axis compare the length of the two axes.\n",
    "  1. If the lengths are the same or if one axis is of length 1 then these two axes are compatible.\n",
    "  1. The arrays are compatible if all axes are compatible.\n",
    "\n",
    "For example, if array A is of shape (1, 10, 3) and array B is of shape (5, 1, 3) they are compatible according to the *numpy* rules. This is because the sub-array of array A, of shape (10, 3), can be replicated along `axis 0` 5 times to make A of shape (5, 10, 3). Similarly, the sub-array of B of shape (5, 3) can be replicated along `axis 1` 10 times to make B also of shape (5, 10, 3). Now that both arrays are of the same shape it is possible to perform element-by-element operations on them. On the other hand if B were of shape (5, 4, 3), A and B would not be compatible according to *numpy*'s rules. Broadcasting is a powerful mechanism, but it requires some practice to learn how to use it effectively. Let's apply broadcasting to the problem at hand. \n",
    "\n",
    "To compute the gravitational fields,\n",
    "\\begin{align}\n",
    "    \\vec{g}_i & = -G \\sum_{j \\neq i}^n \\frac{m_j}{|\\vec{r}_i - \\vec{r}_j|^3} (\\vec{r}_i - \\vec{r}_j),\n",
    "\\end{align}\n",
    "and, therefore, the net gravitational force at the location of each planet, we need to \n",
    " perform element-by-element subtraction of the position vectors. Specifically, we need to create two arrays of vectors that can be subtracted element-by-element as follows\n",
    "\\begin{align}\n",
    "    \\begin{pmatrix}\n",
    "        \\vec{r}_1 - \\vec{r}_1 & \\vec{r}_2 - \\vec{r}_1 & \\vec{r}_3 - \\vec{r}_1 & \\vec{r}_4 - \\vec{r}_1\\\\\n",
    "        \\vec{r}_1 - \\vec{r}_2 & \\vec{r}_2 - \\vec{r}_2 & \\vec{r}_3 - \\vec{r}_2 & \\vec{r}_4 - \\vec{r}_2\\\\\n",
    "        \\vec{r}_1 - \\vec{r}_3 & \\vec{r}_2 - \\vec{r}_3 & \\vec{r}_3 - \\vec{r}_3 & \\vec{r}_4 - \\vec{r}_3\\\\\n",
    "        \\vec{r}_1 - \\vec{r}_4 & \\vec{r}_2 - \\vec{r}_4 & \\vec{r}_3 - \\vec{r}_4 & \\vec{r}_4 - \\vec{r}_4\\\\\n",
    "    \\end{pmatrix}\n",
    "    & = \n",
    "    \\begin{pmatrix}\n",
    "        \\vec{r}_1 & \\vec{r}_2 & \\vec{r}_3 & \\vec{r}_4\\\\\n",
    "        \\vec{r}_1 & \\vec{r}_2 & \\vec{r}_3 & \\vec{r}_4\\\\\n",
    "        \\vec{r}_1 & \\vec{r}_2 & \\vec{r}_3 & \\vec{r}_4\\\\\n",
    "        \\vec{r}_1 & \\vec{r}_2 & \\vec{r}_3 & \\vec{r}_4\\\\\n",
    "    \\end{pmatrix}\n",
    "    -\n",
    "    \\begin{pmatrix}\n",
    "        \\vec{r}_1 & \\vec{r}_1 & \\vec{r}_1 & \\vec{r}_1\\\\\n",
    "        \\vec{r}_2 & \\vec{r}_2 & \\vec{r}_2 & \\vec{r}_2\\\\\n",
    "        \\vec{r}_3 & \\vec{r}_3 & \\vec{r}_3 & \\vec{r}_3\\\\\n",
    "        \\vec{r}_4 & \\vec{r}_4 & \\vec{r}_4 & \\vec{r}_4\\\\\n",
    "    \\end{pmatrix}       \n",
    "\\end{align}\n",
    "to give the result on the lefthand side. We then divide each difference vector by the cube of its magnitude and scale the result by $-G m_j$, where $m_j$ is the mass of planet $j$ and $G$ is Newton's gravitational constant. This will result in a $4 \\times 4$ array of gravitational fields. We then sum the gravitional fields along `axis 0` to get the net field at each planet and, finally, we multiply the net field by $m_i$ to compute the net gravitational force on planet $i$ of mass $m_i$.\n",
    "\n",
    "To perform the above calculation requires the array $r$ to be changed to a 2D array of shape (1, 4), where each element of the 2D array is a vector.  When viewed as a *numpy* array, the array $r$ has shape (1, 4, 3). We also need another version of $r$ that is changed to a 2D array of vectors of shape (4, 1), that is,  of shape of (4, 1, 3) when $r$ is viewed as a *numpy* array. In other words, we need one version of $r$ in which a new `axis 0` of length 1 is inserted *before* the current axis 0 using the syntax \n",
    "```python\n",
    "    ri = r[np.newaxis, :]\n",
    "```\n",
    "which creates an array of shape (1, 4, 3) and another version of $r$ in which a new `axis 1` is inserted *after* the existing axis 0 using the syntax\n",
    "```python\n",
    "    rj = r[:, np.newaxis]\n",
    "```\n",
    "which creates an array of shape (4, 1, 3); \":\" represents an axis.\n",
    "\n",
    "The (1, 4, 3) version of $r$ is then **broadcast**, that is, replicated, in the direction of `axis 0`, that is, in the direction of increasing row number so that the array becomes of shape (4, 4, 3), while the (4, 1, 3) version of $r$ is broadcast in the direction of `axis 1`, that is, in the direction of increasing column number and becomes of the same shape (4, 4, 3)."
   ]
  },
  {
   "cell_type": "code",
   "execution_count": 32,
   "id": "be0860ff-e287-4f4b-87af-41b21db50215",
   "metadata": {
    "tags": []
   },
   "outputs": [],
   "source": [
    "def compute_forces2(m, r):\n",
    "    \n",
    "    # initial shapes of arrays m (masses) and r (position vectors)\n",
    "    # m.shape: (n, )\n",
    "    # r.shape: (n, 3)\n",
    "    \n",
    "    ri = r[np.newaxis, :]    # change shape from (n, 3) to (1, n, 3)\n",
    "    rj = r[:, np.newaxis]    # change shape from (n, 3) to (n, 1, 3)\n",
    "    \n",
    "    # compute all possible vector differences using broadcasting:\n",
    "    # 1. the row (1, n, 3) with n columns, each element of which \n",
    "    #    is a 3-vector, is replicated vertically n times to form \n",
    "    #    an array of shape (n, n, 3)\n",
    "    #\n",
    "    # 2. the column (n, 1, 3) with n rows, each element of which \n",
    "    #    is a 3-vector, is replicated horizontally n times to form\n",
    "    #    an array of shape (n, n, 3).\n",
    "    #\n",
    "    # 3. now that we have arrays of the same shape, we can perform \n",
    "    #    element-by-element subtractions.\n",
    "    #\n",
    "    # note: the vectors along the diagonal are all zero-length vectors (see above)\n",
    "    rij= ri - rj            # shape: (n, n, 3)\n",
    "    \n",
    "    # magrij has shape (n, n) \n",
    "    magrij = magnitude(rij)\n",
    "    \n",
    "    # for the magnitudes, replace the zeros along the diagonal\n",
    "    # with ones. why must we do this in this function but not\n",
    "    # in compute_forces1?\n",
    "    np.fill_diagonal(magrij, 1)\n",
    "        \n",
    "    # why must we change the shape of the magnitudes array?\n",
    "    magrij = magrij[:, :, np.newaxis]  # change shape to (n, n, 1)\n",
    "    \n",
    "    # why must we change the shape of the mass array?\n",
    "    mj = m[:, np.newaxis, np.newaxis]  # change shape from (n, ) to (n, 1, 1)\n",
    "\n",
    "    # for each particle, compute all gravitational fields\n",
    "    gi =  mj * rij / magrij**3         # shape of f: (n, n, 3)\n",
    "    \n",
    "    # compute net gravitational fields by summing the fields along axis 0, that is,\n",
    "    # \"vertically\".\n",
    "    gi = -G * gi.sum(axis=0)\n",
    "    \n",
    "    # compute the net force acting on each particle \n",
    "    mi = m[:, np.newaxis]\n",
    "    fnet = mi * gi # shape: (n, 3)\n",
    "    \n",
    "    return fnet"
   ]
  },
  {
   "cell_type": "markdown",
   "id": "de067ffa-7793-4e5d-80c8-c01c1bf73824",
   "metadata": {},
   "source": [
    "#### Test the `compute_forces` functions\n",
    "Let's create some test positions so that we can see how the calculations compare."
   ]
  },
  {
   "cell_type": "code",
   "execution_count": 33,
   "id": "c6bbc27a-47a3-4da3-ae7e-91753c85480e",
   "metadata": {
    "tags": []
   },
   "outputs": [
    {
     "data": {
      "text/plain": [
       "((10,),\n",
       " array([11.09089539, 56.81494898, 72.14609042, 14.75162799, 20.58272141,\n",
       "        14.55029176,  1.27057053,  6.88109497,  4.00524679, 75.93870386]),\n",
       " (10, 3),\n",
       " array([[-8.41864142, -0.63413267, -7.85308086],\n",
       "        [-1.39800301, -8.60397936, -4.03592491],\n",
       "        [-0.47801993,  3.40614411, -7.44702645],\n",
       "        [ 3.28910957,  6.64003587, -1.1294394 ],\n",
       "        [ 0.77545621, -1.74598722, -9.93300816],\n",
       "        [-6.15864675,  8.23942852,  6.06582323],\n",
       "        [-0.02169658, -5.9585563 ,  7.07622646],\n",
       "        [ 2.12737181, -4.05897621, -7.23623995],\n",
       "        [ 9.12938861, -3.05512934, -1.63169855],\n",
       "        [-1.30040312, -2.57153283, -9.27140793]]))"
      ]
     },
     "execution_count": 33,
     "metadata": {},
     "output_type": "execute_result"
    }
   ],
   "source": [
    "def create_test_positions(n=10):\n",
    "    x = np.random.uniform(-10, 10, n)\n",
    "    y = np.random.uniform(-10, 10, n)\n",
    "    z = np.random.uniform(-10, 10, n)\n",
    "    r = np.array([x,y,z]).T\n",
    "    \n",
    "    m = np.random.uniform(1, 100, n)\n",
    "\n",
    "    return m, r\n",
    "\n",
    "m, r = create_test_positions()\n",
    "\n",
    "m.shape, m, r.shape, r"
   ]
  },
  {
   "cell_type": "code",
   "execution_count": 34,
   "id": "48c11634-3a5e-431a-9f1c-34a2fd320a77",
   "metadata": {
    "tags": []
   },
   "outputs": [
    {
     "data": {
      "text/plain": [
       "((10, 3),\n",
       " array([[ 1.99989526e-09, -1.77684442e-10, -2.25940269e-11],\n",
       "        [ 6.34722671e-10,  6.76451843e-09, -4.24820363e-09],\n",
       "        [-6.40190042e-10, -1.32801529e-08, -2.23936085e-09],\n",
       "        [-8.59368492e-10, -1.11407761e-09, -1.24662316e-09],\n",
       "        [-1.78451066e-08, -5.20218796e-09,  7.92205723e-09],\n",
       "        [ 2.95669142e-10, -3.92936205e-10, -6.26427400e-10],\n",
       "        [-6.82671982e-12,  1.94304647e-11, -8.99029350e-11],\n",
       "        [-2.30647428e-09,  1.21904361e-09, -1.05929988e-09],\n",
       "        [-3.49472645e-10,  4.85648642e-11, -1.81656313e-10],\n",
       "        [ 1.90771516e-08,  1.21154817e-08,  1.79201097e-09]]),\n",
       " (10, 3),\n",
       " array([[ 1.99989526e-09, -1.77684442e-10, -2.25940269e-11],\n",
       "        [ 6.34722671e-10,  6.76451843e-09, -4.24820363e-09],\n",
       "        [-6.40190042e-10, -1.32801529e-08, -2.23936085e-09],\n",
       "        [-8.59368492e-10, -1.11407761e-09, -1.24662316e-09],\n",
       "        [-1.78451066e-08, -5.20218796e-09,  7.92205723e-09],\n",
       "        [ 2.95669142e-10, -3.92936205e-10, -6.26427400e-10],\n",
       "        [-6.82671982e-12,  1.94304647e-11, -8.99029350e-11],\n",
       "        [-2.30647428e-09,  1.21904361e-09, -1.05929988e-09],\n",
       "        [-3.49472645e-10,  4.85648642e-11, -1.81656313e-10],\n",
       "        [ 1.90771516e-08,  1.21154817e-08,  1.79201097e-09]]))"
      ]
     },
     "execution_count": 34,
     "metadata": {},
     "output_type": "execute_result"
    }
   ],
   "source": [
    "F1 = compute_forces1(m, r)\n",
    "F2 = compute_forces2(m, r)\n",
    "\n",
    "F1.shape, F1, F2.shape, F2"
   ]
  },
  {
   "cell_type": "markdown",
   "id": "adfd02bf-9fee-4c0f-ab90-949bd8f80a2a",
   "metadata": {},
   "source": [
    "#### Compare the execution times of the two `compute_forces` functions"
   ]
  },
  {
   "cell_type": "code",
   "execution_count": 35,
   "id": "44a3b022-98bb-47a2-8bd1-1eee6e1b98a8",
   "metadata": {
    "tags": []
   },
   "outputs": [
    {
     "name": "stdout",
     "output_type": "stream",
     "text": [
      "time/loop:     0.4070 ms\n",
      "time/loop:     0.0124 ms\n",
      "compute_forces2 is     32.9 times faster than compute_forces1\n"
     ]
    }
   ],
   "source": [
    "from time import time\n",
    "N = 1000\n",
    "\n",
    "start = time()\n",
    "for _ in range(N):\n",
    "    f = compute_forces1(m, r)\n",
    "t1 = 1e3*(time()-start)/N\n",
    "print(f'time/loop: {t1:10.4f} ms')\n",
    "\n",
    "start = time()\n",
    "for _ in range(N):\n",
    "    f = compute_forces2(m, r)\n",
    "t2 = 1e3*(time()-start)/N\n",
    "print(f'time/loop: {t2:10.4f} ms')\n",
    "\n",
    "print(f'compute_forces2 is {t1/t2:8.1f} times faster than compute_forces1')"
   ]
  },
  {
   "cell_type": "markdown",
   "id": "37d07ba8-2d8b-4223-a9f7-4295d60f9b04",
   "metadata": {},
   "source": [
    "We see that broadcasting is a much more efficient way to compute the forces. Moreover, that larger the number of interacting objects, the greater the relative gain in execution time."
   ]
  },
  {
   "cell_type": "code",
   "execution_count": 61,
   "id": "9a4924eb-1cac-466a-8f2d-674c37c38bd4",
   "metadata": {},
   "outputs": [],
   "source": []
  },
  {
   "cell_type": "code",
   "execution_count": null,
   "id": "f40334b1-66f4-49c1-8c1f-7bfb511f90d3",
   "metadata": {},
   "outputs": [],
   "source": []
  },
  {
   "cell_type": "code",
   "execution_count": null,
   "id": "4fa98887-828c-47d6-94d7-b4053935fdf6",
   "metadata": {},
   "outputs": [],
   "source": []
  },
  {
   "cell_type": "markdown",
   "id": "836ed1d3-20dc-4b3e-8760-88134b7ce399",
   "metadata": {},
   "source": [
    "### Animated Plot of Planetary Motion"
   ]
  },
  {
   "cell_type": "code",
   "execution_count": 5,
   "id": "c991244c-dc8c-4cc3-874c-a6309351c006",
   "metadata": {
    "tags": []
   },
   "outputs": [],
   "source": [
    "class InnerSolarSystem:\n",
    "    '''\n",
    "    \n",
    "    Example\n",
    "    \n",
    "    aplot = InnerSolarSystem(nframes)\n",
    "    aplot.show()\n",
    "    \n",
    "    '''\n",
    "    \n",
    "    # constructor.\n",
    "    # this function, which is always called __init__(...), creates and initializes \n",
    "    # an object of this class\n",
    "    \n",
    "    def __init__(self, data, \n",
    "                 nframes, \n",
    "                 xmin=-2, xmax=2, ymin=-2, ymax-2,\n",
    "                 ftsize=14, \n",
    "                 fgsize=(5, 5)):\n",
    "        '''\n",
    "        \n",
    "        data:         results of computations\n",
    "        nframes:      number of frames\n",
    "        '''\n",
    "\n",
    "        # cache inputs\n",
    "        self.data = data\n",
    "        self.nframes = nframes\n",
    "\n",
    "        # set size of figure\n",
    "        fig = plt.figure(figsize=fgsize)\n",
    "        self.fig = fig # cache object within AnimPlot\n",
    "        \n",
    "        # create area for a single plot \n",
    "        nrows, ncols, index = 1, 1, 1\n",
    "        self.ax  = plt.subplot(nrows, ncols, index)\n",
    "        \n",
    "        self.ax.set_title('Inner Planets on 22 September 2024 (Heliocentric Coordinates)',\n",
    "                          pad=14)\n",
    "\n",
    "        # define graph domain, tick marks, and labels\n",
    "        self.ax.set_xlim(xmin, xmax)\n",
    "        self.ax.set_xticks(ticks=[-2.0, -1.5, -1, -0.5, 0.5, 1, 1.5, 2.0])\n",
    "        self.ax.set_xlabel('$x$ (au)', loc='right', fontsize=ftsize)\n",
    "\n",
    "        # define graph range, tick marks, and labels  \n",
    "        self.ax.set_ylim(ymin, ymax)\n",
    "        self.ax.set_yticks(ticks=[-2.0, -1.5, -1, -0.5, 0.5, 1, 1.5, 2.0])\n",
    "        self.ax.set_ylabel('$y$ (au)', loc='top', fontsize=ftsize)\n",
    "\n",
    "        # move left y-axis and bottom x-axis to center of plot\n",
    "        self.ax.spines['left'].set_position('center')\n",
    "        self.ax.spines['bottom'].set_position('center')\n",
    "\n",
    "        # eliminate upper and right axes\n",
    "        self.ax.spines['right'].set_color('none')\n",
    "        self.ax.spines['top'].set_color('none')\n",
    "\n",
    "        #ax.scatter(x, y, s=50, c=colors)\n",
    "\n",
    "        # NB: cache plot\n",
    "        #self.plot, = ax.plot(x, y, color='blue')\n",
    "        #ax.grid()\n",
    "\n",
    "        #fig.tight_layout()\n",
    "        \n",
    "        # don't show the above plot. Show only the animated version\n",
    "        plt.close()\n",
    "        \n",
    "        # initialize animated plot\n",
    "        self.ani = FuncAnimation(fig=fig, \n",
    "                                 func=self.__update, \n",
    "                                 repeat=False, \n",
    "                                 frames=nframes, \n",
    "                                 interval=100)\n",
    "        \n",
    "    \n",
    "    # this is the function that actually updates the plot    \n",
    "    def __update(self, frame):\n",
    "        \n",
    "        data, nframes, plot = self.data, self.nframes, self.plot\n",
    "        #plot.set_data(x, y)\n",
    "\n",
    "        # must return artists!\n",
    "        return plot\n",
    "    \n",
    "    def show(self):\n",
    "        plt.show()\n",
    "        return self.ani\n",
    "    \n",
    "    def save(self, filename):\n",
    "        self.ani.save(filename)"
   ]
  },
  {
   "cell_type": "code",
   "execution_count": null,
   "id": "67e2dc42-aa66-4491-add2-fd3f1da1aca9",
   "metadata": {},
   "outputs": [],
   "source": []
  }
 ],
 "metadata": {
  "kernelspec": {
   "display_name": "Python 3 (ipykernel)",
   "language": "python",
   "name": "python3"
  },
  "language_info": {
   "codemirror_mode": {
    "name": "ipython",
    "version": 3
   },
   "file_extension": ".py",
   "mimetype": "text/x-python",
   "name": "python",
   "nbconvert_exporter": "python",
   "pygments_lexer": "ipython3",
   "version": "3.11.5"
  },
  "toc-autonumbering": false,
  "toc-showcode": false
 },
 "nbformat": 4,
 "nbformat_minor": 5
}
