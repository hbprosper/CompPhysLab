{
 "cells": [
  {
   "cell_type": "markdown",
   "id": "99aa72e3-eac9-4469-84f0-d60654a87e54",
   "metadata": {
    "tags": []
   },
   "source": [
    "# Gravity - Part 1\n",
    "\n",
    "## Tips\n",
    "\n",
    "Learn `Python` by going through the suggested online tutorials and the `PythonMinimum` notebook.\n",
    "\n",
    "  * Python tutorials:\n",
    "     * [A short introduction](https://realpython.com/python-first-steps/)\n",
    "     * [A more complete introduction](https://www.w3schools.com/python/default.asp)\n",
    "     * PythonMinimum\n",
    "  * Use __esc r__ to disable a cell\n",
    "  * Use __esc y__ to reactivate it\n",
    "  * Use __esc m__ to go to markdown mode. **Markdown** is the typesetting language used in jupyter notebooks.\n",
    "  * In a markdown cell, double tap the mouse or glide pad (on your laptop) to go to edit mode. \n",
    "  * Shift + return to execute a cell (including markdown cells).\n",
    "  * If the equations don't typeset, try double tapping the cell again, and re-execute it.\n",
    "\n",
    "\n",
    "## Goal\n",
    "\n",
    "This notebook provides a gentle introduction to gravitational interactions.\n",
    "\n",
    "## Newton's Law of Gravity\n",
    "\n",
    "According to Newton, two objects of 1 and 2 or mass $m_1$ and $m_2$ at positions $\\vec{r}_1$ and $\\vec{r}_2$, respectively, experience a gravitational pull on each other of magnitude\n",
    "\n",
    "\\begin{align}\n",
    "    G \\frac{m_1 m_2}{|\\vec{r}_1 - \\vec{r}_2|^2}\n",
    "\\end{align}\n",
    "\n",
    "where $G$ is Newton's gravitational constant. But force is a vector, so let's write the gravitational force of object 2 on object 1. Define the vector that starts at object 2 and ends on\n",
    "object 1, $\\vec{r} = \\vec{r}_1 - \\vec{r}_2$ as shown in the figure. \n",
    "<img src=\"fig07_2objects.png\" align=\"left\" alt=\"2-body system\" width=\"300\"/>\n",
    "<br clear=\"right\"/>\n",
    "Also define the associated unit vector $\\hat{r}$. Then the gravitational force of object 2 **on** object 1 can be written as\n",
    "\n",
    "\\begin{align}\n",
    "    \\vec{F}_g & = - \\left( G \\frac{m_1 m_2}{|\\vec{r}|^2} \\right) \\hat{r},\\\\\n",
    "    & = - \\left( G \\frac{m_1 m_2}{|\\vec{r}|^2} \\right) \\frac{\\vec{r}}{|\\vec{r}|},\\\\\n",
    "    & = - G \\frac{m_1 m_2}{|\\vec{r}|^3} \\vec{r} .\n",
    "\\end{align}\n",
    "\n",
    "Why is there a negative sign?\n",
    "\n",
    "Newton did not understand how it was possible for one object to exert a gravitational force on another that is not in contact with it. An explanation was provided by Michael Faraday in the 1840s. Michael Faraday suggested that an object, for example the Sun, exerts a force on the Earth indirectly. The Sun creates a **gravitational field** around it that extends throughout space and it is the field at the location of the Earth that exerts the gravitational force on the Earth. Likewise the gravitational field of the Earth extends all the way to the Sun and the field at the Sun's location exerts a force on the Sun. Your gravitational field also extends all the way to the Sun and exerts a force on the Sun!\n",
    "\n",
    "We can make this idea quantitative by noticing that we can write the force of object 2 on object 1 as follows\n",
    "\n",
    "\\begin{align}\n",
    "    \\vec{F}_g & = m_1 \\vec{g}_1 ,\n",
    "\\end{align}\n",
    "\n",
    "just as we did for the projectile motion problem. By comparing the above with the expression for the gravitational force, we see that the **gravitational field** $\\vec{g}_1$ at the location of object 1 can be written as \n",
    "\n",
    "\\begin{align}\n",
    "    \\vec{g}_1 & = - G \\frac{m_2}{|\\vec{r}|^3} \\vec{r} .\n",
    "\\end{align}\n",
    "\n",
    "If we want the gravitational force on object 1 due to objects 2, 3, $\\cdots n$, we first add their gravitational fields \n",
    "\n",
    "\\begin{align}\n",
    "    \\vec{g}_1 & = -G \\sum_{j=2}^n \\frac{m_j}{|\\vec{r}_1 - \\vec{r}_j|^3} (\\vec{r}_1 - \\vec{r}_j) ,\n",
    "\\end{align}\n",
    "\n",
    "then multiply the total gravitational field $\\vec{g}_1$ by the mass $m_1$. This must be done for each of the objects in turn. Therefore, for object $i$ we need to compute all the possible vector differences $\\vec{r}_i - \\vec{r}_j$ with $i \\neq j$. \n",
    "\n",
    "In this exercise, and in the associated project, we'll assume that the orbital planes of the inner planets lie in the same plane. The initial positions of the planets will be taken to be their positions on 22 September 2024, that is, day 266, as given in the `helios_*.txt` files. (The data were taken from the NASA [website](https://omniweb.gsfc.nasa.gov/coho/helios/planet.html).)\n",
    "\n",
    "The coordinates are relative to a  **heliocentric coordinate system** called the [Solar Ecliptic Coordinate System (SE)](https://omniweb.gsfc.nasa.gov/coho/helios/coor_des.html)\n",
    "<img src=\"fig04_heliocentric.png\" align=\"right\" alt=\"heliocentric coordinate system\" width=\"400\"/>\n",
    "The center of this coordinate system is near the center of the Sun. In fact, the origin of this coordinate system is (by [international agreement](https://en.wikipedia.org/wiki/International_Celestial_Reference_System_and_its_realizations)) at the center of mass of the Solar System.\n",
    "<br clear=\"right\"/>"
   ]
  },
  {
   "cell_type": "markdown",
   "id": "a04e6adc-8849-4431-9f29-1901d3a1b029",
   "metadata": {},
   "source": [
    "### Import standard modules \n",
    "Make Python modules (that is, collections of programs) available to this notebook.\n"
   ]
  },
  {
   "cell_type": "code",
   "execution_count": 1,
   "id": "0352a958-c65a-4ace-bcd8-139417a3afbc",
   "metadata": {},
   "outputs": [],
   "source": [
    "import os, sys\n",
    "import numpy as np\n",
    "import matplotlib as mp\n",
    "import matplotlib.pyplot as plt\n",
    "from matplotlib.animation import FuncAnimation\n",
    "\n",
    "# We'll use this to read in the planetary data, which are in CSV files.\n",
    "import pandas as pd\n",
    "\n",
    "%matplotlib inline\n",
    "\n",
    "# update fonts\n",
    "FONTSIZE = 12\n",
    "font = {'family' : 'sans-serif',\n",
    "        'weight' : 'normal',\n",
    "        'size'   : FONTSIZE}\n",
    "mp.rc('font', **font)\n",
    "\n",
    "# use latex if available on system, otherwise set usetex=False\n",
    "mp.rc('text', usetex=True)\n",
    "\n",
    "# use JavaScript for rendering animations\n",
    "mp.rc('animation', html='jshtml')\n",
    "\n",
    "# set a seed to ensure reproducibility \n",
    "# on a given machine\n",
    "seed = 314159\n",
    "rnd  = np.random.RandomState(seed)"
   ]
  },
  {
   "cell_type": "markdown",
   "id": "4cba68a0-cdf7-4454-8788-72fcacdc14d8",
   "metadata": {},
   "source": [
    "### Import functions from CompPhysLab module `computil.newton`"
   ]
  },
  {
   "cell_type": "code",
   "execution_count": 2,
   "id": "1de2cb51-5a48-4fba-b7e0-0db54b089901",
   "metadata": {
    "tags": []
   },
   "outputs": [],
   "source": [
    "from computil.newton import magnitude, norm, compute_grav_forces, plot_planet_positions, \\\n",
    "G, DAY, YEAR, AU2METERS, DEG2RAD, \\\n",
    "Msun, Mmercury, Mvenus, Mearth, Mmars, Mjupiter\n",
    "\n",
    "from computil.graphics import plot_central_axes"
   ]
  },
  {
   "cell_type": "markdown",
   "id": "0d21ebd1-0e1b-43b6-aaa7-a5a6866a201f",
   "metadata": {},
   "source": [
    "### Choose time step"
   ]
  },
  {
   "cell_type": "code",
   "execution_count": 3,
   "id": "33220f94-e941-48b0-8ab7-b8348c7f9a62",
   "metadata": {
    "tags": []
   },
   "outputs": [],
   "source": [
    "h = DAY/2               # Time increment in seconds (1/2 a day)"
   ]
  },
  {
   "cell_type": "markdown",
   "id": "20831126-0302-4100-b5fc-1e2b1501089e",
   "metadata": {},
   "source": [
    "### Read in planetary position data\n",
    "\n",
    "We use the `pandas` module to read the planetary data which are in CSV files. `pandas` is an excellent module for reading and manipulating tables of data."
   ]
  },
  {
   "cell_type": "code",
   "execution_count": 4,
   "id": "e504d8db-5faf-4e16-b40d-42ee0df6b0fa",
   "metadata": {
    "tags": []
   },
   "outputs": [
    {
     "data": {
      "text/html": [
       "<div>\n",
       "<style scoped>\n",
       "    .dataframe tbody tr th:only-of-type {\n",
       "        vertical-align: middle;\n",
       "    }\n",
       "\n",
       "    .dataframe tbody tr th {\n",
       "        vertical-align: top;\n",
       "    }\n",
       "\n",
       "    .dataframe thead th {\n",
       "        text-align: right;\n",
       "    }\n",
       "</style>\n",
       "<table border=\"1\" class=\"dataframe\">\n",
       "  <thead>\n",
       "    <tr style=\"text-align: right;\">\n",
       "      <th></th>\n",
       "      <th>planet</th>\n",
       "      <th>longitude</th>\n",
       "      <th>radius</th>\n",
       "      <th>speed</th>\n",
       "    </tr>\n",
       "  </thead>\n",
       "  <tbody>\n",
       "    <tr>\n",
       "      <th>0</th>\n",
       "      <td>1</td>\n",
       "      <td>2.657525</td>\n",
       "      <td>0.351328</td>\n",
       "      <td>4.86195</td>\n",
       "    </tr>\n",
       "    <tr>\n",
       "      <th>1</th>\n",
       "      <td>2</td>\n",
       "      <td>4.396137</td>\n",
       "      <td>0.725718</td>\n",
       "      <td>1.59162</td>\n",
       "    </tr>\n",
       "    <tr>\n",
       "      <th>2</th>\n",
       "      <td>3</td>\n",
       "      <td>0.000000</td>\n",
       "      <td>1.003587</td>\n",
       "      <td>0.98562</td>\n",
       "    </tr>\n",
       "    <tr>\n",
       "      <th>3</th>\n",
       "      <td>4</td>\n",
       "      <td>1.026861</td>\n",
       "      <td>1.491786</td>\n",
       "      <td>0.54435</td>\n",
       "    </tr>\n",
       "  </tbody>\n",
       "</table>\n",
       "</div>"
      ],
      "text/plain": [
       "   planet  longitude    radius    speed\n",
       "0       1   2.657525  0.351328  4.86195\n",
       "1       2   4.396137  0.725718  1.59162\n",
       "2       3   0.000000  1.003587  0.98562\n",
       "3       4   1.026861  1.491786  0.54435"
      ]
     },
     "execution_count": 4,
     "metadata": {},
     "output_type": "execute_result"
    }
   ],
   "source": [
    "n = 4 # number of inner planets\n",
    "\n",
    "planets1 = pd.read_csv('planets1.csv')[:n]\n",
    "planets1['longitude'] *= DEG2RAD\n",
    "planets1"
   ]
  },
  {
   "cell_type": "code",
   "execution_count": 5,
   "id": "e878ab15-6950-4f2e-a947-0504d106fa13",
   "metadata": {
    "tags": []
   },
   "outputs": [
    {
     "data": {
      "text/html": [
       "<div>\n",
       "<style scoped>\n",
       "    .dataframe tbody tr th:only-of-type {\n",
       "        vertical-align: middle;\n",
       "    }\n",
       "\n",
       "    .dataframe tbody tr th {\n",
       "        vertical-align: top;\n",
       "    }\n",
       "\n",
       "    .dataframe thead th {\n",
       "        text-align: right;\n",
       "    }\n",
       "</style>\n",
       "<table border=\"1\" class=\"dataframe\">\n",
       "  <thead>\n",
       "    <tr style=\"text-align: right;\">\n",
       "      <th></th>\n",
       "      <th>planet</th>\n",
       "      <th>longitude</th>\n",
       "      <th>radius</th>\n",
       "      <th>speed</th>\n",
       "    </tr>\n",
       "  </thead>\n",
       "  <tbody>\n",
       "    <tr>\n",
       "      <th>0</th>\n",
       "      <td>1</td>\n",
       "      <td>2.741043</td>\n",
       "      <td>0.356983</td>\n",
       "      <td>4.70912</td>\n",
       "    </tr>\n",
       "    <tr>\n",
       "      <th>1</th>\n",
       "      <td>2</td>\n",
       "      <td>4.423912</td>\n",
       "      <td>0.725835</td>\n",
       "      <td>1.59110</td>\n",
       "    </tr>\n",
       "    <tr>\n",
       "      <th>2</th>\n",
       "      <td>3</td>\n",
       "      <td>0.017202</td>\n",
       "      <td>1.003313</td>\n",
       "      <td>0.98562</td>\n",
       "    </tr>\n",
       "    <tr>\n",
       "      <th>3</th>\n",
       "      <td>4</td>\n",
       "      <td>1.036354</td>\n",
       "      <td>1.493081</td>\n",
       "      <td>0.54341</td>\n",
       "    </tr>\n",
       "  </tbody>\n",
       "</table>\n",
       "</div>"
      ],
      "text/plain": [
       "   planet  longitude    radius    speed\n",
       "0       1   2.741043  0.356983  4.70912\n",
       "1       2   4.423912  0.725835  1.59110\n",
       "2       3   0.017202  1.003313  0.98562\n",
       "3       4   1.036354  1.493081  0.54341"
      ]
     },
     "execution_count": 5,
     "metadata": {},
     "output_type": "execute_result"
    }
   ],
   "source": [
    "planets2 = pd.read_csv('planets2.csv')[:n]\n",
    "planets2['longitude'] *= DEG2RAD\n",
    "planets2"
   ]
  },
  {
   "cell_type": "markdown",
   "id": "33da4d6a-7bb6-4d21-a899-e73aeb07307f",
   "metadata": {},
   "source": [
    "### Extract columns to numpy arrays"
   ]
  },
  {
   "cell_type": "code",
   "execution_count": 6,
   "id": "0016f4a7-c834-49dc-ba71-713fc622c392",
   "metadata": {
    "tags": []
   },
   "outputs": [],
   "source": [
    "phi1    = planets1['longitude'].to_numpy()\n",
    "radius1 = planets1['radius'].to_numpy()\n",
    "\n",
    "phi2    = planets2['longitude'].to_numpy()\n",
    "radius2 = planets2['radius'].to_numpy()"
   ]
  },
  {
   "cell_type": "markdown",
   "id": "283ad069-21ba-4b49-8348-b24ac8ba2062",
   "metadata": {
    "tags": []
   },
   "source": [
    "### Exercises\n",
    "\n",
    "#### Problem 1\n",
    "Add the masses (in kg in scientific notation) of all the inner planets to the list of Constants above. Use symbols such as `Mm` for Mercury, `Mv` for Venus, etc. \n",
    "\n",
    "####  Problem 2. \n",
    "Using the data above, and using the matplotlib function `ax.scatter(...)`, plot the predicted positions of the inner planets on 22 September 2024. Use different colored dots for the planets and make the large enough to be clearly visible. \n",
    "\n",
    "Assume that all planets lie in the $xy$-plane in the heliocentric coordinate system. (This is approximately true.)"
   ]
  },
  {
   "cell_type": "markdown",
   "id": "04fb5da0-7086-4127-9947-041bdf0ed4f2",
   "metadata": {},
   "source": [
    "### Compute $(x, y, z)$ coordinates of planets"
   ]
  },
  {
   "cell_type": "code",
   "execution_count": 7,
   "id": "b6236bb6-71cb-4fea-876a-2b5bd3a76d3c",
   "metadata": {
    "tags": []
   },
   "outputs": [
    {
     "data": {
      "text/plain": [
       "(array([ 0.        , -0.31096328, -0.2257028 ,  1.003587  ,  0.7720094 ]),\n",
       " array([ 0.        ,  0.16350184, -0.68972769,  0.        ,  1.27648962]))"
      ]
     },
     "execution_count": 7,
     "metadata": {},
     "output_type": "execute_result"
    }
   ],
   "source": [
    "x = radius1 * np.cos(phi1)\n",
    "y = radius1 * np.sin(phi1)\n",
    "z = np.zeros(len(x))\n",
    "\n",
    "# insert coordinates of the Sun. for simplicity assume that on 2024-09-22, the Sun \n",
    "# is at the barycenter of the solar system.\n",
    "x = np.insert(x, 0, 0)\n",
    "y = np.insert(y, 0, 0)\n",
    "z = np.insert(z, 0, 0)\n",
    "\n",
    "r1= np.array([x, y, z]).T\n",
    "\n",
    "colors = ['gold', 'magenta', 'orange', 'blue',  'red']\n",
    "text   = ['Sun',  'Mercury', 'Venus',  'Earth', 'Mars']\n",
    "\n",
    "x, y"
   ]
  },
  {
   "cell_type": "markdown",
   "id": "fa4cc8ee-17a7-42aa-947f-572cc18a627b",
   "metadata": {
    "tags": []
   },
   "source": [
    "### Plot positions of planets"
   ]
  },
  {
   "cell_type": "code",
   "execution_count": 8,
   "id": "33f0459a-da6f-43ab-a159-cf7612a9cc6b",
   "metadata": {},
   "outputs": [
    {
     "data": {
      "image/png": "[encoded data removed]",
      "text/plain": [
       "<Figure size 500x500 with 1 Axes>"
      ]
     },
     "metadata": {},
     "output_type": "display_data"
    }
   ],
   "source": [
    "plot_planet_positions(x, y, colors, text, \n",
    "                      filename='inner_planets.png', \n",
    "                      title='Inner Planets on 2024-09-22')"
   ]
  },
  {
   "cell_type": "markdown",
   "id": "0ca307d0-a4b9-412b-b8f6-e2efd35e46b6",
   "metadata": {},
   "source": [
    "#### Problem 3.\n",
    "Using the data above compute the velocity vectors for the inner planets in SI units (m, kg, s) units on 22 September 2024."
   ]
  },
  {
   "cell_type": "code",
   "execution_count": 9,
   "id": "cc695680-8012-4796-997c-83d90392e168",
   "metadata": {
    "tags": []
   },
   "outputs": [
    {
     "data": {
      "text/plain": [
       "((5, 3),\n",
       " array([[ 0.        ,  0.        ,  0.        ],\n",
       "        [-0.3287266 ,  0.13919658,  0.        ],\n",
       "        [-0.20649479, -0.69584219,  0.        ],\n",
       "        [ 1.00316445,  0.01725845,  0.        ],\n",
       "        [ 0.76051766,  1.28487523,  0.        ]]))"
      ]
     },
     "execution_count": 9,
     "metadata": {},
     "output_type": "execute_result"
    }
   ],
   "source": [
    "# 1. compute positions of planets a day later (2024-09-)\n",
    "\n",
    "x2  = radius2 * np.cos(phi2)\n",
    "y2  = radius2 * np.sin(phi2)\n",
    "z2  = np.zeros(len(x2))\n",
    "\n",
    "# insert coordinates of the Sun. for simplicity assume that on 2024-09-23, the Sun \n",
    "# is at the barycenter of the solar system.\n",
    "x2 = np.insert(x2, 0, 0)\n",
    "y2 = np.insert(y2, 0, 0)\n",
    "z2 = np.insert(z2, 0, 0)\n",
    "\n",
    "r2 = np.array([x2, y2, z2]).T\n",
    "\n",
    "r2.shape, r2"
   ]
  },
  {
   "cell_type": "code",
   "execution_count": 10,
   "id": "d2e8131e-d8be-4a8b-b1b6-f48cb6a87aad",
   "metadata": {
    "tags": []
   },
   "outputs": [
    {
     "data": {
      "text/plain": [
       "((5, 3),\n",
       " array([[ 0.        ,  0.        ,  0.        ],\n",
       "        [-0.01776331, -0.02430525,  0.        ],\n",
       "        [ 0.01920801, -0.0061145 ,  0.        ],\n",
       "        [-0.00042255,  0.01725845,  0.        ],\n",
       "        [-0.01149174,  0.00838561,  0.        ]]))"
      ]
     },
     "execution_count": 10,
     "metadata": {},
     "output_type": "execute_result"
    }
   ],
   "source": [
    "# 2. compute vectors in directions of motion of planets.\n",
    "r = r2 - r1\n",
    "r.shape, r"
   ]
  },
  {
   "cell_type": "code",
   "execution_count": 11,
   "id": "fe7898b4-7adb-4920-bfeb-e10f11677b7c",
   "metadata": {},
   "outputs": [
    {
     "data": {
      "text/plain": [
       "(array([    0.        , 52124.64734915, 34902.27587638, 29891.22639182,\n",
       "        24631.68285515]),\n",
       " array([0.       , 0.3513275, 0.7257176, 1.003587 , 1.4917856]))"
      ]
     },
     "execution_count": 11,
     "metadata": {},
     "output_type": "execute_result"
    }
   ],
   "source": [
    "# 3. compute velocities of the planets\n",
    "#    convert speed to m / s\n",
    "\n",
    "speed = magnitude(r) * AU2METERS / DAY   # speed in m / s\n",
    "\n",
    "radius= np.insert(radius1, 0, 0)\n",
    "\n",
    "speed, radius"
   ]
  },
  {
   "cell_type": "code",
   "execution_count": 12,
   "id": "839e3882-483d-4ab4-9555-a605eb18ec4a",
   "metadata": {
    "tags": []
   },
   "outputs": [
    {
     "data": {
      "text/plain": [
       "((5,),\n",
       " array([1.9885e+30, 3.3010e+23, 4.8673e+24, 5.9722e+24, 6.4169e+23]),\n",
       " (5, 3),\n",
       " array([[ 0.00000000e+00,  0.00000000e+00,  0.00000000e+00],\n",
       "        [-4.65194538e+10,  2.44595312e+10,  0.00000000e+00],\n",
       "        [-3.37646653e+10, -1.03181813e+11,  0.00000000e+00],\n",
       "        [ 1.50134508e+11,  0.00000000e+00,  0.00000000e+00],\n",
       "        [ 1.15490985e+11,  1.90960167e+11,  0.00000000e+00]]),\n",
       " array([[     0.        ,      0.        ,      0.        ],\n",
       "        [-30756.41759158, -42083.50791232,      0.        ],\n",
       "        [ 33257.84678516, -10586.99620127,      0.        ],\n",
       "        [  -731.62086099,  29882.27143513,      0.        ],\n",
       "        [-19897.46415419,  14519.32231578,      0.        ]]),\n",
       " (5, 3))"
      ]
     },
     "execution_count": 12,
     "metadata": {},
     "output_type": "execute_result"
    }
   ],
   "source": [
    "# masses\n",
    "M  = np.array([Msun, Mmercury, Mvenus, Mearth, Mmars])\n",
    "\n",
    "# convert positions from au to meters\n",
    "r0 = AU2METERS * r1\n",
    "\n",
    "# compute unit vectors in direction of motion of planets\n",
    "# (for the zero length vectors, return a zero vector)\n",
    "u = norm(r)\n",
    "u.shape, u\n",
    "\n",
    "# compute velocities of planets on 2024-09-22\n",
    "# (see explanation of broadcasting below)\n",
    "v0 = speed[:, np.newaxis] * u\n",
    "\n",
    "M.shape, M, r0.shape, r0, v0, v0.shape"
   ]
  },
  {
   "cell_type": "markdown",
   "id": "04306669-6773-4c18-bbbc-377e47a39c07",
   "metadata": {},
   "source": [
    "### Computing net forces\n",
    "\n",
    "The *net* gravitational field at position $\\vec{r}_i$ due to objects of masses $\\{ m_j \\}$ at positions $\\{ \\vec{r}_j \\}$ is given by\n",
    "\n",
    "\\begin{align}\n",
    "    \\vec{g}_i & = -G \\sum_{j\\neq i}^n \\frac{m_j}{|\\vec{r}_i - \\vec{r}_j|^3} (\\vec{r}_i - \\vec{r}_j).\n",
    "\\end{align}\n",
    "\n",
    "Given the net gravitational field at position $\\vec{r}_i$, the gravitational force on an object of mass $m_i$ at that position is \n",
    "\n",
    "\\begin{align}\n",
    "    \\vec{F}_{g, i} & = m_i \\vec{g}_i .\n",
    "\\end{align}\n",
    "\n",
    "From the formula above, we see that we need to compute all vector differences $\\vec{r}_{ij} = \\vec{r}_i - \\vec{r}_j$. Below, we give two ways of computing the net gravitational field, $\\vec{g}_i$, at every position $\\vec{r}_i$. \n"
   ]
  },
  {
   "cell_type": "markdown",
   "id": "ed698b41-0b6b-4a1d-9e51-839ddc07e1b4",
   "metadata": {},
   "source": [
    "### `compute_forces1(m, r)`\n",
    "Given the masses `m` and positions `r` of the objects (planets, etc.), compute the net gravitational force on each object by performing the double loop over the positions of the objects. "
   ]
  },
  {
   "cell_type": "code",
   "execution_count": 13,
   "id": "5d5aebdb-e5cc-49f0-86cf-fd87c28e38c6",
   "metadata": {
    "tags": []
   },
   "outputs": [],
   "source": [
    "def compute_forces1(m, r):\n",
    "    \n",
    "    # this list will contain the net forces acting on\n",
    "    # each particle\n",
    "    f = []\n",
    "    \n",
    "    # loop over the positions of the particles.\n",
    "    # use the \"enumerate\" construct so that we \n",
    "    # have access to the index \"i\" of each position (i = 0, 1,..., n-1)\n",
    "    \n",
    "    for i, ri in enumerate(r):\n",
    "        \n",
    "        # \"gi\" will be the net gravitational field at the position\n",
    "        # of particle i\n",
    "        gi = np.zeros(3)\n",
    "        \n",
    "        # loop over the positions of all other particles\n",
    "        for j, rj in enumerate(r):\n",
    "            \n",
    "            if i == j: continue  # skip self-interactions\n",
    "            \n",
    "            # by convention, we compute the vector that points\n",
    "            # from particle \"j\" to particle \"i\"\n",
    "            rij = ri - rj\n",
    "            \n",
    "            # find its magnitude, that is, the scalar distance\n",
    "            # between particles \"i\" and \"j\"\n",
    "            magrij = magnitude(rij)\n",
    "            \n",
    "            # sum the gravitational fields at the location of particle \"i\".\n",
    "            gi += m[j] * rij / magrij**3\n",
    "            \n",
    "        gi = -G * gi\n",
    "        \n",
    "        # compute net force on particle \"i\"\n",
    "        fnet = m[i] * gi\n",
    "        \n",
    "        # cache net force\n",
    "        f.append(fnet)\n",
    "    \n",
    "    # convert list of forces to a numpy array of forces\n",
    "    return np.array(f)"
   ]
  },
  {
   "cell_type": "markdown",
   "id": "2b9220b5-2f5c-413c-905d-5a17093e26cd",
   "metadata": {
    "tags": []
   },
   "source": [
    "### `compute_forces2(m, r)`\n",
    "Given the masses `m` and positions `r` of the objects (planets, etc.), compute the net gravitational force on each object, this time using the `numpy` **broadcasting** mechanism. \n",
    "\n",
    "#### Broadcasting\n",
    "You had a brief introduction to broadcasting in Project 1. Here we give a more detailed explanation of this very powerful idea. As always, it is easiest to explain the idea with an example.\n",
    "\n",
    "Suppose we have four planets at position vectors $\\vec{r}_1$, $\\vec{r}_2$, $\\vec{r}_3$, and $\\vec{r}_4$ that are interacting gravitationally. To compute the net gravitional force on each planet due to the other three, we need to compute all the possible differences between the vectors $\\vec{r}_1$, $\\vec{r}_2$, $\\vec{r}_3$, and $\\vec{r}_4$. To that end, let's put the vectors into an array: $r = (\\vec{r}_1, \\vec{r}_2, \\vec{r}_3,\\vec{r}_4)$. When represented as a *numpy* array, the *shape* of the array would be $(4, 3)$, that is, an array with 4 rows each with 3 columns since each vector is represented by an array of length 3. However, for now, it is simpler  to think of $r$ as simply an array of 4 objects, namely, $\\vec{r}_1$, $\\vec{r}_2$, $\\vec{r}_3$, and $\\vec{r}_4$.\n",
    "\n",
    "The key point to understand about *numpy* is that most array operations are performed element-by-element. Therefore, it is necessary that arrays be of the same shape. The shape of an array is specified by how many axes it has and the length of the array along each axis. For example, an array of shape (3,2,5) has three axes, `axis 0` of length 3, `axis 1` of length 2 and `axis 2` of length 5. One can think of `axis 0` as defining the rows, `axis 1` the columns and `axis 2` as a third axis perpendicular to the rows and columns. Two arrays A and B can be made the same shape by replicating array elements along the relevant axes if the arrays are compatible. Numpy decides whether two arrays are compatible using the following rules.\n",
    "  1. Starting from the rightmost axis compare the length of the two axes.\n",
    "  1. If the lengths are the same or if one axis is of length 1 then these two axes are compatible.\n",
    "  1. The arrays are compatible if all axes are compatible.\n",
    "\n",
    "For example, if array A is of shape (1, 10, 3) and array B is of shape (5, 1, 3) they are compatible according to the *numpy* rules. This is because the sub-array of array A, of shape (10, 3), can be replicated along `axis 0` 5 times to make A of shape (5, 10, 3). Similarly, the sub-array of B of shape (5, 3) can be replicated along `axis 1` 10 times to make B also of shape (5, 10, 3). Now that both arrays are of the same shape it is possible to perform element-by-element operations on them. On the other hand if B were of shape (5, 4, 3), A and B would not be compatible according to *numpy*'s rules. Broadcasting is a powerful mechanism, but it requires some practice to learn how to use it effectively. Let's apply broadcasting to the problem at hand. \n",
    "\n",
    "To compute the gravitational fields,\n",
    "\\begin{align}\n",
    "    \\vec{g}_i & = -G \\sum_{j \\neq i}^n \\frac{m_j}{|\\vec{r}_i - \\vec{r}_j|^3} (\\vec{r}_i - \\vec{r}_j),\n",
    "\\end{align}\n",
    "and, therefore, the net gravitational force at the location of each planet, we need to \n",
    " perform element-by-element subtraction of the position vectors. Specifically, we need to create two arrays of vectors that can be subtracted element-by-element as follows\n",
    "\\begin{align}\n",
    "    \\begin{pmatrix}\n",
    "        \\vec{r}_1 - \\vec{r}_1 & \\vec{r}_2 - \\vec{r}_1 & \\vec{r}_3 - \\vec{r}_1 & \\vec{r}_4 - \\vec{r}_1\\\\\n",
    "        \\vec{r}_1 - \\vec{r}_2 & \\vec{r}_2 - \\vec{r}_2 & \\vec{r}_3 - \\vec{r}_2 & \\vec{r}_4 - \\vec{r}_2\\\\\n",
    "        \\vec{r}_1 - \\vec{r}_3 & \\vec{r}_2 - \\vec{r}_3 & \\vec{r}_3 - \\vec{r}_3 & \\vec{r}_4 - \\vec{r}_3\\\\\n",
    "        \\vec{r}_1 - \\vec{r}_4 & \\vec{r}_2 - \\vec{r}_4 & \\vec{r}_3 - \\vec{r}_4 & \\vec{r}_4 - \\vec{r}_4\\\\\n",
    "    \\end{pmatrix}\n",
    "    & = \n",
    "    \\begin{pmatrix}\n",
    "        \\vec{r}_1 & \\vec{r}_2 & \\vec{r}_3 & \\vec{r}_4\\\\\n",
    "        \\vec{r}_1 & \\vec{r}_2 & \\vec{r}_3 & \\vec{r}_4\\\\\n",
    "        \\vec{r}_1 & \\vec{r}_2 & \\vec{r}_3 & \\vec{r}_4\\\\\n",
    "        \\vec{r}_1 & \\vec{r}_2 & \\vec{r}_3 & \\vec{r}_4\\\\\n",
    "    \\end{pmatrix}\n",
    "    -\n",
    "    \\begin{pmatrix}\n",
    "        \\vec{r}_1 & \\vec{r}_1 & \\vec{r}_1 & \\vec{r}_1\\\\\n",
    "        \\vec{r}_2 & \\vec{r}_2 & \\vec{r}_2 & \\vec{r}_2\\\\\n",
    "        \\vec{r}_3 & \\vec{r}_3 & \\vec{r}_3 & \\vec{r}_3\\\\\n",
    "        \\vec{r}_4 & \\vec{r}_4 & \\vec{r}_4 & \\vec{r}_4\\\\\n",
    "    \\end{pmatrix}       \n",
    "\\end{align}\n",
    "to give the result on the lefthand side. We then divide each difference vector by the cube of its magnitude and scale the result by $-G m_j$, where $m_j$ is the mass of planet $j$ and $G$ is Newton's gravitational constant. This will result in a $4 \\times 4$ array of gravitational fields. We then sum the gravitional fields along `axis 0` to get the net field at each planet and, finally, we multiply the net field by $m_i$ to compute the net gravitational force on planet $i$ of mass $m_i$.\n",
    "\n",
    "To perform the above calculation requires the array $r$ to be changed to a 2D array of shape (1, 4), where each element of the 2D array is a vector.  When viewed as a *numpy* array, the array $r$ has shape (1, 4, 3). We also need another version of $r$ that is changed to a 2D array of vectors of shape (4, 1), that is,  of shape of (4, 1, 3) when $r$ is viewed as a *numpy* array. In other words, we need one version of $r$ in which a new `axis 0` of length 1 is inserted *before* the current axis 0 using the syntax \n",
    "```python\n",
    "    ri = r[np.newaxis, :]\n",
    "```\n",
    "which creates an array of shape (1, 4, 3) and another version of $r$ in which a new `axis 1` is inserted *after* the existing axis 0 using the syntax\n",
    "```python\n",
    "    rj = r[:, np.newaxis]\n",
    "```\n",
    "which creates an array of shape (4, 1, 3); \":\" represents an axis.\n",
    "\n",
    "The (1, 4, 3) version of $r$ is then **broadcast**, that is, replicated, in the direction of `axis 0`, that is, in the direction of increasing row number so that the array becomes of shape (4, 4, 3), while the (4, 1, 3) version of $r$ is broadcast in the direction of `axis 1`, that is, in the direction of increasing column number and becomes of the same shape (4, 4, 3)."
   ]
  },
  {
   "cell_type": "code",
   "execution_count": 14,
   "id": "be0860ff-e287-4f4b-87af-41b21db50215",
   "metadata": {
    "tags": []
   },
   "outputs": [],
   "source": [
    "def compute_forces2(m, r):\n",
    "    \n",
    "    # initial shapes of arrays m (masses) and r (position vectors)\n",
    "    # m.shape: (n, )\n",
    "    # r.shape: (n, 3)\n",
    "    \n",
    "    ri = r[np.newaxis, :]    # change shape from (n, 3) to (1, n, 3)\n",
    "    rj = r[:, np.newaxis]    # change shape from (n, 3) to (n, 1, 3)\n",
    "    \n",
    "    # compute all possible vector differences using broadcasting:\n",
    "    # 1. the row (1, n, 3) with n columns, each element of which \n",
    "    #    is a 3-vector, is replicated vertically n times to form \n",
    "    #    an array of shape (n, n, 3)\n",
    "    #\n",
    "    # 2. the column (n, 1, 3) with n rows, each element of which \n",
    "    #    is a 3-vector, is replicated horizontally n times to form\n",
    "    #    an array of shape (n, n, 3).\n",
    "    #\n",
    "    # 3. now that we have arrays of the same shape, we can perform \n",
    "    #    element-by-element subtractions.\n",
    "    #\n",
    "    # note: the vectors along the diagonal are all zero-length vectors (see above)\n",
    "    rij= ri - rj            # shape: (n, n, 3)\n",
    "    \n",
    "    # magrij has shape (n, n) \n",
    "    magrij = magnitude(rij)\n",
    "    \n",
    "    # for the magnitudes, replace the zeros along the diagonal\n",
    "    # with ones. why must we do this in this function but not\n",
    "    # in compute_forces1?\n",
    "    np.fill_diagonal(magrij, 1)\n",
    "        \n",
    "    # why must we change the shape of the magnitudes array?\n",
    "    magrij = magrij[:, :, np.newaxis]  # change shape to (n, n, 1)\n",
    "    \n",
    "    # why must we change the shape of the mass array?\n",
    "    mj = m[:, np.newaxis, np.newaxis]  # change shape from (n, ) to (n, 1, 1)\n",
    "\n",
    "    # for each particle, compute all gravitational fields\n",
    "    gi = mj * rij / magrij**3          # shape of gi: (n, n, 3)\n",
    "    \n",
    "    # compute net gravitational fields by summing the fields along axis 0, that is,\n",
    "    # \"vertically\".\n",
    "    gi = -G * gi.sum(axis=0)\n",
    "    \n",
    "    # compute the net force acting on each particle \n",
    "    mi = m[:, np.newaxis]  # change shape from (n, ) to (n, 1)\n",
    "    fnet = mi * gi # shape: (n, 3)\n",
    "    \n",
    "    return fnet"
   ]
  },
  {
   "cell_type": "markdown",
   "id": "de067ffa-7793-4e5d-80c8-c01c1bf73824",
   "metadata": {},
   "source": [
    "#### Test the `compute_forces` functions\n",
    "Let's create some test positions so that we can see how the calculations compare."
   ]
  },
  {
   "cell_type": "code",
   "execution_count": 15,
   "id": "c6bbc27a-47a3-4da3-ae7e-91753c85480e",
   "metadata": {
    "tags": []
   },
   "outputs": [
    {
     "data": {
      "text/plain": [
       "((10,),\n",
       " array([74.00266588, 35.74839504, 78.34451407, 14.44208412, 27.88876932,\n",
       "        91.97287175, 97.49613113, 56.64651618, 35.02132198, 89.24146464]),\n",
       " (10, 3),\n",
       " array([[-8.18257175, -1.50027358, -3.40473724],\n",
       "        [ 0.92783047, -3.69656676,  6.4806329 ],\n",
       "        [ 2.40637579,  5.75951945, -5.65670345],\n",
       "        [-0.00954532, -9.23218356,  5.16296283],\n",
       "        [-2.50629751,  5.71446505, -4.41884906],\n",
       "        [-1.81135012,  5.59448843,  0.49646172],\n",
       "        [-4.24482066,  8.78531933, -5.93213288],\n",
       "        [ 2.59830898, -6.81572843,  3.89103919],\n",
       "        [-7.02629821, -6.10967573,  1.43226075],\n",
       "        [ 7.24813751,  4.55505763, -4.55627756]]))"
      ]
     },
     "execution_count": 15,
     "metadata": {},
     "output_type": "execute_result"
    }
   ],
   "source": [
    "def create_test_positions(n=10):\n",
    "    x = np.random.uniform(-10, 10, n)\n",
    "    y = np.random.uniform(-10, 10, n)\n",
    "    z = np.random.uniform(-10, 10, n)\n",
    "    \n",
    "    r = np.array([x,y,z]).T\n",
    "    \n",
    "    m = np.random.uniform(1, 100, n)\n",
    "\n",
    "    return m, r\n",
    "\n",
    "m, r = create_test_positions()\n",
    "\n",
    "m.shape, m, r.shape, r"
   ]
  },
  {
   "cell_type": "code",
   "execution_count": 16,
   "id": "48c11634-3a5e-431a-9f1c-34a2fd320a77",
   "metadata": {
    "tags": []
   },
   "outputs": [
    {
     "data": {
      "text/plain": [
       "((10, 3),\n",
       " array([[ 1.08546834e-08,  6.05070313e-09,  4.41990338e-09],\n",
       "        [ 9.39288343e-10, -3.03386693e-09, -8.40705204e-09],\n",
       "        [-4.43050381e-09, -3.84176243e-09,  1.41304607e-08],\n",
       "        [ 2.26256081e-09,  4.75693830e-09, -1.98909141e-09],\n",
       "        [ 1.73112992e-09,  7.38604015e-09,  1.41389966e-09],\n",
       "        [ 2.82753765e-09, -3.32903128e-09, -2.53363581e-08],\n",
       "        [ 2.02768727e-08, -2.50273142e-08,  1.67190551e-08],\n",
       "        [-8.31478274e-09,  8.08481036e-09,  1.63534774e-09],\n",
       "        [ 3.33841510e-09,  5.49147748e-09, -2.74432126e-09],\n",
       "        [-2.94852014e-08,  3.46200548e-09,  1.58156238e-10]]),\n",
       " (10, 3),\n",
       " array([[ 1.08546834e-08,  6.05070313e-09,  4.41990338e-09],\n",
       "        [ 9.39288343e-10, -3.03386693e-09, -8.40705204e-09],\n",
       "        [-4.43050381e-09, -3.84176243e-09,  1.41304607e-08],\n",
       "        [ 2.26256081e-09,  4.75693830e-09, -1.98909141e-09],\n",
       "        [ 1.73112992e-09,  7.38604015e-09,  1.41389966e-09],\n",
       "        [ 2.82753765e-09, -3.32903128e-09, -2.53363581e-08],\n",
       "        [ 2.02768727e-08, -2.50273142e-08,  1.67190551e-08],\n",
       "        [-8.31478274e-09,  8.08481036e-09,  1.63534774e-09],\n",
       "        [ 3.33841510e-09,  5.49147748e-09, -2.74432126e-09],\n",
       "        [-2.94852014e-08,  3.46200548e-09,  1.58156238e-10]]))"
      ]
     },
     "execution_count": 16,
     "metadata": {},
     "output_type": "execute_result"
    }
   ],
   "source": [
    "F1 = compute_forces1(m, r)\n",
    "F2 = compute_forces2(m, r)\n",
    "\n",
    "F1.shape, F1, F2.shape, F2"
   ]
  },
  {
   "cell_type": "markdown",
   "id": "adfd02bf-9fee-4c0f-ab90-949bd8f80a2a",
   "metadata": {},
   "source": [
    "#### Compare the execution times of the two `compute_forces` functions"
   ]
  },
  {
   "cell_type": "code",
   "execution_count": 17,
   "id": "44a3b022-98bb-47a2-8bd1-1eee6e1b98a8",
   "metadata": {
    "tags": []
   },
   "outputs": [
    {
     "name": "stdout",
     "output_type": "stream",
     "text": [
      "time/loop:     0.4196 ms\n",
      "time/loop:     0.0118 ms\n",
      "compute_forces2 is     35.6 times faster than compute_forces1\n"
     ]
    }
   ],
   "source": [
    "def time_functions(forces, N=1000):\n",
    "    from time import time\n",
    "\n",
    "    start = time()\n",
    "    for _ in range(N):\n",
    "        f = forces(m, r)\n",
    "    t = 1e3*(time()-start)/N\n",
    "    print(f'time/loop: {t:10.4f} ms')\n",
    "    return t\n",
    "\n",
    "\n",
    "t1 = time_functions(compute_forces1)\n",
    "t2 = time_functions(compute_forces2)\n",
    "\n",
    "print(f'compute_forces2 is {t1/t2:8.1f} times faster than compute_forces1')"
   ]
  },
  {
   "cell_type": "markdown",
   "id": "37d07ba8-2d8b-4223-a9f7-4295d60f9b04",
   "metadata": {},
   "source": [
    "We see that broadcasting is a much more efficient way to compute the forces. Moreover, that larger the number of interacting objects, the greater the relative gain in execution time."
   ]
  },
  {
   "cell_type": "code",
   "execution_count": null,
   "id": "3ca40bac-877a-4be0-bde9-12674805b7ad",
   "metadata": {},
   "outputs": [],
   "source": []
  },
  {
   "cell_type": "code",
   "execution_count": null,
   "id": "959a3a1a-0196-4708-b7c7-752e06a7aa46",
   "metadata": {},
   "outputs": [],
   "source": []
  }
 ],
 "metadata": {
  "kernelspec": {
   "display_name": "Python 3 (ipykernel)",
   "language": "python",
   "name": "python3"
  },
  "language_info": {
   "codemirror_mode": {
    "name": "ipython",
    "version": 3
   },
   "file_extension": ".py",
   "mimetype": "text/x-python",
   "name": "python",
   "nbconvert_exporter": "python",
   "pygments_lexer": "ipython3",
   "version": "3.11.5"
  },
  "toc-autonumbering": false,
  "toc-showcode": false
 },
 "nbformat": 4,
 "nbformat_minor": 5
}
