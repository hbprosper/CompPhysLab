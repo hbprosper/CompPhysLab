{
 "cells": [
  {
   "cell_type": "markdown",
   "id": "99aa72e3-eac9-4469-84f0-d60654a87e54",
   "metadata": {
    "tags": []
   },
   "source": [
    "# Rainbows\n",
    "\n",
    "## Tips\n",
    "\n",
    "  * Python tutorials:\n",
    "     * [A short introduction](https://realpython.com/python-first-steps/)\n",
    "     * [A more complete introduction](https://www.w3schools.com/python/default.asp)\n",
    "     * PythonMinimum\n",
    "  * Use __esc r__ to disable a cell\n",
    "  * Use __esc y__ to reactivate it\n",
    "  * Use __esc m__ to go to markdown mode. **Markdown** is the typesetting language used in jupyter notebooks.\n",
    "  * In a markdown cell, double tap the mouse or glide pad (on your laptop) to go to edit mode. \n",
    "  * Shift + return to execute a cell (including markdown cells).\n",
    "  * If the equations don't typeset, try double tapping the cell again, and re-execute it.\n",
    "\n",
    "## Goal\n",
    "\n",
    "An introduction to the optics of rainbows.\n",
    "\n",
    "## Introduction\n",
    "\n",
    "A rainbow is a beautiful example of a phenomenon that was correctly explained by Isaac Newton, namely, that light from the Sun is a mixture of multiple colors which can be separated using a glass prism. In a rainbow, droplets of water in the atmosphere serve as the \"prisms\" that separate sunlight into the colors **red**, **orange**, **yellow**, **green**, **blue**, **indigo**, and **violet** (ROYGBIV).  \n",
    "\n",
    "### Light Waves\n",
    "In classical physics, light is described as an electric and magnetic (that is, [electromagnetic wave](https://phys.libretexts.org/Bookshelves/University_Physics/Book%3A_University_Physics_(OpenStax)/Book%3A_University_Physics_II_-_Thermodynamics_Electricity_and_Magnetism_(OpenStax)/16%3A_Electromagnetic_Waves/16.03%3A_Plane_Electromagnetic_Waves)), which, in vacuum, travels at the maximum possible speed of $c = 3 \\times 10^8 \\text{ m / s}$. In a medium, light travels slower. If $v$ is the speed of light in a medium, the medium's **refractive index** is given by\n",
    "\n",
    "\\begin{align}\n",
    "    n & = \\frac{c}{v} .\n",
    "\\end{align}\n",
    "\n",
    "For air, the refractive index is close to one; for water, it is 1.33, for glass it is 1.52, for cubic zirconia it is\n",
    "2.15, and it is 3.45 for silicon.\n",
    "\n",
    "The electric and magnetic forces between particles can be described using the concepts of **electric** and **magnetic fields**, in the similar way to how the gravitational force can be described using the concept of a gravitational field. In a light wave the electric and magnetic fields are at right angles to each other and both are at right angles to the direction of propagation of the light wave. Suppose at some instant, the direction of the electric field is pointing in the direction $\\hat{u}$ and, thereafter, continues to oscillate back and forth along the line defined by $\\hat{u}$. We say that the light is **linearly polarized**. \n",
    "\n",
    "In natural light, each light wave in general is polarized in a different direction. Therefore, collectively, there is no preferred direction of polarization in which case we say that the light is **unpolarized**.  However, when natural light is reflected off surfaces, the reflected light is partially polarized, with a preference for the electric field to oscillate horizontally. Therefore, if you wear polarized sunglasses with the long-chain molecules arranged horizontally on the lenses, the horizontally oscillating electric fields will be preferentially absorbed by the horizontally aligned molecules, thereby reducing the amount of reflected light, that is, the glare, that enters the user's eyes.\n",
    "\n",
    "### Ray Optics\n",
    "In many optical phenomena, including rainbows, it is sufficient to treat the propagation of light as the propagation of **rays** that are perpendicular to the wavefront, that is, perpendicular to the oscillating electric and magnetic fields. This way of treating the propagation of light is called **ray optics** and underlies the description of the propagation of light through optically clear media.\n",
    "\n",
    "A light ray, whose direction is denoted by the unit vector $\\hat{u}_i$, incident on the boundary between two media of differing refractive indices $n_1$ and $n_2$ will be partially **reflected** and partially **transmitted**. In the absence of energy loss, the energy of the incident ray is shared between the reflected and transmitted rays. The incident and reflected rays travel through medium 1 with refractive index $n_1$, while the transmitted ray is in  medium 2 with refractive index $n_2$. \n",
    "\n",
    "Denote by $\\vec{u}_r$ the direction of the reflected ray, while $\\vec{u}_t$ denotes the direction of the transmitted ray. In general, the transmitted ray is **refracted**, that is, the unit vectors $\\hat{u}_i$ and $\\hat{u}_t$ differ. Remarkably, only three rules, two of which are illustrated in the figure, \n",
    "<img src=\"fig08_ray_optics.png\" align=\"left\" alt=\"ray optics\" width=\"300\"/>\n",
    "are needed to implement ray optics assuming no energy loss:\n",
    "  1. The angle of reflection $\\theta_r$ is equal to the angle of incidence $\\theta_i$.\n",
    "  1. The angle of transmission $\\theta_t$ (otherwise known as the angle of refraction) satisfies **Snell's Law**, \n",
    "\\begin{align}\n",
    "  n_1 \\sin\\theta_t  & = n_2 \\sin\\theta_i .\n",
    "\\end{align}\n",
    "  1. The fraction of reflected light, $R$, is given by the [Fresnel equations](https://en.wikipedia.org/wiki/Fresnel_equations)\n",
    "  \\begin{align}\n",
    "      R & = (1 - f) R_S + f R_P, \\quad\\text{ where } 1 \\leq f \\leq 1, \\\\\n",
    "      R_S & = \\left( \\frac{n_1 \\sin\\theta_i - n_2 \\sin\\theta_t}{n_1 \\sin\\theta_i + n_2 \\sin\\theta_t} \\right )^2, \\quad\\text{ and }\\\\\n",
    "      R_P & = \\left( \\frac{n_1 \\sin\\theta_t - n_2 \\sin\\theta_i}{n_1 \\sin\\theta_t + n_2 \\sin\\theta_i} \\right )^2 .\n",
    "  \\end{align}\n",
    "\n",
    "The fraction of transmitted light is $T = 1 - R$.\n",
    "When $f = 1/2$, the light is **unpolarized**, which is what we shall assume.\n",
    "By convention, all angles are measured with respect to the normal $\\hat{n}$ to the boundary. The normal can point in the direction shown or in the opposite direction.\n",
    " <br clear=\"right\"/>  \n",
    " \n",
    "### Relationship between $\\hat{u}_i$, $\\hat{u}_r$, and $\\hat{u}_t$\n",
    "\n",
    "#### The reflection vector $\\vec{u}_r$\n",
    "From the figure above, we see that angle OAB is the same as the angle of incidence $\\theta_i$. Furthermore, the length of the line segment AB is given by,\n",
    "\\begin{align}\n",
    "    AB & = \\hat{u}_i \\cdot (-\\hat{n}), \\text{ and, therefore,} \\\\\n",
    "    AC & = 2 \\hat{u}_i \\cdot (-\\hat{n}), \\\\\n",
    "    \\hat{u}_r & = \\hat{u}_i -2 (\\hat{u}_i \\cdot \\hat{n}) \\hat{n}.\n",
    "\\end{align}\n",
    "This is a nice formula because it is written entirely in terms of vectors and it is invariant with respect to the direction of the normal vector $\\hat{n}$ in the sense that if that vector were reversed, the formula still gives the correct reflection vector. If possible, we would like to do something similar with the transmission vector $\\hat{u}_t$.\n",
    "\n",
    "#### The transmission vector $\\hat{u}_t$\n",
    "Note that the unit vector $\\hat{u}_t$ can be constructed as follows\n",
    "\\begin{align}\n",
    "    \\hat{u}_t & = \\vec{OP} + \\vec{PQ}, \\text{ where}\n",
    "\\end{align}\n",
    "the magnitudes of $\\vec{OP}$ and $\\vec{PQ}$ are $\\cos\\theta_t$ and $\\sin\\theta_t$, respectively. (Why is this?) Therefore, all that's needed are unit vectors in the directions of the vectors $\\vec{OP}$ and $\\vec{PQ}$. \n",
    "Given how we've defined the unit vector $\\hat{n}$, and, therefore, the orientation of the boundary between the two media, the unit vector in the direction of  $\\vec{OP}$  is $-\\hat{n}$.\n",
    "To construct the unit vector in the direction of $\\vec{PQ}$, we first construct a vector perpendicular to $\\hat{u}_i$ and $\\hat{n}$, that is, a vector out of the page: $\\vec{u}_\\perp = \\hat{u}_i \\times \\hat{n} = \\sin\\theta_i \\hat{k}$, where $\\hat{k}$ is a unit vector. Next, construct the unit vector $\\hat{n}_\\perp = \\hat{n} \\times \\vec{k}$, that is,\n",
    "\\begin{align}\n",
    "    \\hat{n}_\\perp = \\frac{\\hat{n} \\times \\hat{u}_i \\times \\hat{n}}{\\sin\\theta_i},\n",
    "\\end{align}\n",
    "which points in the direction of $\\vec{PQ}$.\n",
    "Therefore, \n",
    "\\begin{align}\n",
    "    \\hat{u}_t & = \\vec{OP} + \\vec{PQ}, \\\\\n",
    "    & = \\cos\\theta_t (-\\hat{n}) + \\sin\\theta_t \\frac{\\hat{n} \\times \\hat{u}_i \\times \\hat{n}}{\\sin\\theta_i}, \\\\\n",
    "        & = -\\cos\\theta_t \\hat{n} + \\frac{n_1}{n_2} \\hat{n} \\times \\hat{u}_i \\times \\hat{n} .\n",
    "\\end{align}\n",
    "In the last line above, we've used Snell's law. We've not quite succeeded in our goal because the expression above involves $\\cos\\theta_t$. But we can fix that!\n",
    "\n",
    "The quantity $\\cos\\theta_t$ can be written in terms of vectors as follows:\n",
    "\n",
    "\\begin{align}\n",
    "    \\sin\\theta_t & = (n_1 \\, / \\, n_2) \\sin\\theta_i \\text{ from Snell's law. Therefore, }\\\\\n",
    "    \\cos\\theta_t & = \\sqrt{1 - (n_1 / n_2)^2 \\sin^2(\\theta_i)}, \\\\\n",
    "    & = \\sqrt{1 - (n_1 / n_2)^2 (1 - \\cos^2(\\theta_i))}, \\\\\n",
    "    & = \\sqrt{1 - (n_1 / n_2)^2 (1 - (\\hat{u}_i\\cdot\\hat{n})^2)} .\n",
    "\\end{align}\n",
    "\n",
    "But there is still a subtlety.\n",
    "Notice that the last term in the expression for $\\hat{u}_t$ does not change if we reverse the direction of the normal unit vector $\\hat{n}$. But the sign of the first term unfortunately changes sign if $\\hat{n}$ is reversed. If the normal vector is defined to be $-\\hat{n}$, then the sign of the first term in the expression for $\\hat{u}_t$ will be positive. Happily, we can take that into account by noting that the sign of that term is given by $\\text{sign}(\\hat{n}_i \\cdot \\hat{n})$. This yields our final result for the direction of the transmission vector\n",
    "\n",
    "\\begin{align}\n",
    "    \\hat{u}_t & = \\text{sign}(\\hat{u}_i \\cdot \\hat{n}) \\sqrt{1 - (n_1 \\, / \\, n_2)^2 (1 - (\\hat{u}_i\\cdot\\hat{n})^2)} \\, \\hat{n} + (n_1 \\, / \\, n_2) \\, \\hat{n} \\times \\hat{u}_i \\times \\hat{n} , \\text{ which is equivalent to }\\\\\n",
    "    & =  \\sqrt{[1 - (n_1 \\, / \\, n_2)^2 (1 - (\\hat{u}_i\\cdot\\hat{n})^2)] \\, / \\, (\\hat{u}_i\\cdot\\hat{n})^2)} \\, (\\hat{u}_i \\cdot \\hat{n}) \\hat{n} + (n_1 \\, / \\, n_2) \\, \\hat{n} \\times \\hat{u}_i \\times \\hat{n} .\n",
    "\\end{align}\n",
    "\n",
    "Like the reflection vector, the transmission vector is written entirely in terms of vectors. Moreover, the second form of this vector shows that it does not depend on the two-fold ambiguity in the definition of the normal vector. \n",
    "\n",
    "The reason we've gone through all this trouble is so that we have formulae for the reflection and transmission vectors that work for any orientation of the boundary between two media.\n"
   ]
  },
  {
   "cell_type": "code",
   "execution_count": 1,
   "id": "0352a958-c65a-4ace-bcd8-139417a3afbc",
   "metadata": {
    "tags": []
   },
   "outputs": [],
   "source": [
    "import os, sys\n",
    "import numpy as np\n",
    "import matplotlib as mp\n",
    "import matplotlib.pyplot as plt\n",
    "from matplotlib.animation import FuncAnimation\n",
    "\n",
    "# standard scientific python module\n",
    "import scipy as sp\n",
    "import scipy.stats as st\n",
    "import scipy.optimize as op\n",
    "\n",
    "# We'll use this to read in the planetary data, which are in CSV files.\n",
    "import pandas as pd\n",
    "\n",
    "%matplotlib inline\n",
    "\n",
    "# update fonts\n",
    "FONTSIZE = 12\n",
    "font = {'family' : 'sans-serif',\n",
    "        'weight' : 'normal',\n",
    "        'size'   : FONTSIZE}\n",
    "mp.rc('font', **font)\n",
    "\n",
    "# use latex if available on system, otherwise set usetex=False\n",
    "mp.rc('text', usetex=True)\n",
    "\n",
    "# use JavaScript for rendering animations\n",
    "mp.rc('animation', html='jshtml')\n",
    "\n",
    "# set a seed to ensure reproducibility \n",
    "# on a given machine\n",
    "seed = 314159\n",
    "rnd  = np.random.RandomState(seed)"
   ]
  },
  {
   "cell_type": "markdown",
   "id": "67aaec85-7cee-4daf-8715-39d0e8652834",
   "metadata": {},
   "source": [
    "### Import functions from CompPhysLab module `computil.vectors`"
   ]
  },
  {
   "cell_type": "code",
   "execution_count": 2,
   "id": "26634423-2024-43d1-8421-b873f81deb2b",
   "metadata": {
    "tags": []
   },
   "outputs": [],
   "source": [
    "from computil.vectors import magnitude, norm, dot, tangent, reflection, transmission"
   ]
  },
  {
   "cell_type": "markdown",
   "id": "564cc64b-3a20-462d-9130-53661373f6f4",
   "metadata": {},
   "source": [
    "### Define unit vectors\n",
    "\\begin{align}\n",
    "    \\hat{u}_r & = \\hat{u}_i -2 (\\hat{u}_i \\cdot \\hat{n}) \\hat{n}, \\\\\n",
    "    \\hat{u}_t & = \\text{sign}(\\hat{u}_i \\cdot \\hat{n}) \\sqrt{1 - (n_1 \\, / \\, n_2)^2 (1 - (\\hat{u}_i\\cdot\\hat{n})^2)} \\, \\hat{n} + (n_1 \\, / \\, n_2) \\, \\hat{n} \\times \\hat{u}_i \\times \\hat{n} ,\n",
    "\\end{align}\n",
    "\n",
    "The following functions can operate on arrays of vectors.\n",
    "\n",
    "  1. `dot(a, b)`: dot product.\n",
    "  1. `tangent(u, n)`: given incident unit vector `u` and normal unit vector `n` return the  unit vector `nt` tangent to `n` and that lies in the plane defined by `u` and `n`.\n",
    "  1. `reflection(u, n)`: given incident unit vector `u` and normal unit vector `n` return the reflection unit vector `ur`.\n",
    "  1. `transmission(u, n, n1, n2)`: given incident unit vector `u`, normal unit vector `n`, and refractive indices `n1` and `n2`, return the transmission unit vector `ut`."
   ]
  },
  {
   "cell_type": "markdown",
   "id": "54236c2e-2222-4bb0-9fcb-af8cd6006df1",
   "metadata": {},
   "source": [
    "Check that functions work on single vectors"
   ]
  },
  {
   "cell_type": "code",
   "execution_count": 3,
   "id": "ab8e361b-de3c-4140-8a24-09d337b0e937",
   "metadata": {
    "tags": []
   },
   "outputs": [
    {
     "data": {
      "text/plain": [
       "-0.24253562503633297"
      ]
     },
     "execution_count": 3,
     "metadata": {},
     "output_type": "execute_result"
    }
   ],
   "source": [
    "ui = norm(np.array([ 8,-2, 0]))\n",
    "n  = norm(np.array([ 0, 1, 0]))\n",
    "n1 = 1.0\n",
    "n2 = 1.33\n",
    "\n",
    "uin= dot(ui, n)\n",
    "ur = reflection(ui, n)\n",
    "ut = transmission(ui, n, n1, n2)\n",
    "uin"
   ]
  },
  {
   "cell_type": "markdown",
   "id": "d987f243-9382-4b9d-9f56-2c2b84e7b6de",
   "metadata": {
    "tags": []
   },
   "source": [
    "Check that functions work on multiple vectors"
   ]
  },
  {
   "cell_type": "code",
   "execution_count": 4,
   "id": "988b053a-fa9d-4e1d-8212-e5684693380f",
   "metadata": {
    "tags": []
   },
   "outputs": [
    {
     "data": {
      "text/plain": [
       "array([-0.83205029,  0.52793412])"
      ]
     },
     "execution_count": 4,
     "metadata": {},
     "output_type": "execute_result"
    }
   ],
   "source": [
    "ui = norm(np.array(([ 2,-3, 0], [5, -1, 0])))\n",
    "n  = norm(np.array(([ 0, 1, 0], [3, -8, 0])))\n",
    "\n",
    "uin= dot(ui, n)\n",
    "ur = reflection(ui, n)\n",
    "ut = transmission(ui, n, n1, n2)\n",
    "\n",
    "uin"
   ]
  },
  {
   "cell_type": "markdown",
   "id": "06a1b1da-a3ef-436a-ae65-4bae1fb71d5c",
   "metadata": {},
   "source": [
    "#### Check calculations by plotting vectors"
   ]
  },
  {
   "cell_type": "code",
   "execution_count": 5,
   "id": "d60c8f60-d6d3-4114-9606-4d40ca66721d",
   "metadata": {
    "tags": []
   },
   "outputs": [],
   "source": [
    "def plot_rays(ui, n, n1, n2, \n",
    "              p=np.array([4, 4, 0]),\n",
    "              xmin=0.0, xmax=8.0,\n",
    "              ymin=0.0, ymax=8.0,\n",
    "              gfile='fig_rays.png', \n",
    "              fgsize=(4, 4), \n",
    "              ftsize=18):\n",
    "\n",
    "    fig, ax = plt.subplots(nrows=1, ncols=1, figsize=fgsize)\n",
    "        \n",
    "    ax.set_xlim(xmin, xmax)\n",
    "    ax.set_ylim(ymin, ymax)\n",
    "    ax.set_xlabel(r'$x$', fontsize=ftsize)\n",
    "    ax.set_ylabel(r'$y$', fontsize=ftsize)\n",
    "    \n",
    "    # draw boundary\n",
    "    nt = tangent(ui, n)\n",
    "    p1 =-3.0 * nt + p\n",
    "    p2 = 3.0 * nt + p\n",
    "    ax.plot([p1[0], p2[0]], [p1[1], p2[1]], color='red')\n",
    "    \n",
    "    # draw point on boundary\n",
    "    ax.scatter([p[0]], [p[1]], color='black')\n",
    "    \n",
    "    # draw normal to boundary\n",
    "    p1 = n + p\n",
    "    ax.plot([p[0], p1[0]], [p[1], p1[1]], color='green')\n",
    "    p2 =-2 * n + p\n",
    "    ax.plot([p[0], p2[0]], [p[1], p2[1]], color='green', linestyle='dashed')\n",
    "\n",
    "    # draw incident ray\n",
    "    p1 =-2 * ui + p\n",
    "    ax.plot([p[0], p1[0]], [p[1], p1[1]], color='blue')\n",
    "    p2 = 2 * ui + p\n",
    "    ax.plot([p[0], p2[0]], [p[1], p2[1]], color='blue', linestyle='dashed')\n",
    "\n",
    "    # draw reflected ray\n",
    "    ur= reflection(ui, n)\n",
    "    p1 = 2 * ur + p\n",
    "    ax.plot([p[0], p1[0]], [p[1], p1[1]], color='blue')\n",
    "\n",
    "    # draw transmitted ray\n",
    "    ut= transmission(ui, n, n1, n2)\n",
    "    p1 = 2 * ut + p\n",
    "    ax.plot([p[0], p1[0]], [p[1], p1[1]], color='blue')\n",
    "    \n",
    "    plt.tight_layout()\n",
    "    plt.savefig(gfile)\n",
    "    plt.show()"
   ]
  },
  {
   "cell_type": "code",
   "execution_count": 7,
   "id": "3841a1a8-d1fe-448f-bdd0-03fb6504b882",
   "metadata": {
    "tags": []
   },
   "outputs": [
    {
     "data": {
      "image/png": "[encoded data removed]",
      "text/plain": [
       "<Figure size 400x400 with 1 Axes>"
      ]
     },
     "metadata": {},
     "output_type": "display_data"
    },
    {
     "data": {
      "image/png": "[encoded data removed]",
      "text/plain": [
       "<Figure size 400x400 with 1 Axes>"
      ]
     },
     "metadata": {},
     "output_type": "display_data"
    }
   ],
   "source": [
    "I  = 0\n",
    "plot_rays(ui[I], n[I], n1, n2)\n",
    "\n",
    "I  = 1\n",
    "plot_rays(ui[I], n[I], n1, n2)"
   ]
  },
  {
   "cell_type": "markdown",
   "id": "51ff14f1-348e-42b4-b74c-6312bd3c33b2",
   "metadata": {},
   "source": [
    "### The Ray Optics of a Raindrop\n",
    "\n",
    "Consider a light ray incident on a spherical raindrop.  We'll suppose that the light ray impinges on a circular slice through the raindrop with radius $a$ and the origin of the coordinate system is at the center of the circle.\n",
    "<img src=\"fig09_water_droplet.png\" align=\"left\" alt=\"water droplet\" width=\"300\"/>\n",
    "Our first task is to find the intersection point of a line with a circle.\n",
    "The equation of the line is\n",
    "\\begin{align}\n",
    "    \\vec{r} & = \\lambda \\, \\hat{u}_i + \\vec{c}_i,\n",
    "\\end{align}\n",
    "where $\\lambda$ is a scalar and $\\vec{c}_i$ is a fixed point on the ray. The equation of a circle is $|\\vec{r}| = a$, that is, $r^2 = a^2$. Therefore, squaring the equation of the line and equating it to $a^2$ yields the quadratic equation\n",
    "\\begin{align}\n",
    "    (\\lambda \\, \\hat{u}_i + \\vec{c}_i) \\cdot (\\lambda \\, \\hat{u}_i + \\vec{c}_i) & = a^2,\\\\\n",
    "    \\lambda^2 + 2 \\lambda \\hat{u}_i \\cdot \\vec{c}_i + c^2 - a^2 & = 0,\n",
    "\\end{align}\n",
    "whose solutions are \n",
    "\\begin{align}\n",
    "    \\lambda & = -\\hat{u}_i \\cdot \\vec{c}_i \\pm \\sqrt{(\\hat{u}_i \\cdot \\vec{c}_i)^2 - c^2 + a^2} .\n",
    "\\end{align}\n",
    "<br clear=\"left\"/>\n",
    "The two solutions correspond to the distances between the point $\\vec{c}$ and the points *P* and *Q*. For an incoming ray $\\vec{c}$ is outside the raindrop, therefore, we take the smaller of the two distances $\\lambda$. In other cases, for example within the raindrop, we may need to take the larger of the two."
   ]
  },
  {
   "cell_type": "code",
   "execution_count": 8,
   "id": "405a3d7b-08d2-4d65-bc4b-8c0c46a31c91",
   "metadata": {
    "tags": []
   },
   "outputs": [],
   "source": [
    "def line_circle_intersect(c, u, a):\n",
    "    \n",
    "    cc = dot(c, c)\n",
    "    uc = dot(u, c)\n",
    "    \n",
    "    try:\n",
    "        uc = uc[:, np.newaxis]  # why are we trying this?\n",
    "        cc = cc[:, np.newaxis]\n",
    "    except:\n",
    "        pass\n",
    "    \n",
    "    # solutions for lambda\n",
    "    q  = np.sqrt(uc**2 - cc + a**2)\n",
    "    l1 =-uc + q\n",
    "    l2 =-uc - q\n",
    "        \n",
    "    # compute the two points of intersection\n",
    "    lmin = np.minimum(l1, l2)\n",
    "    r1 = lmin * u + c\n",
    "    \n",
    "    lmax = np.maximum(l1, l2)\n",
    "    r2 = lmax * u + c\n",
    "    \n",
    "    return r1, r2"
   ]
  },
  {
   "cell_type": "markdown",
   "id": "fedfa45c-7181-466a-9cef-d651803b9bf8",
   "metadata": {},
   "source": [
    "#### Plot first reflection and transmission at raindrop surface"
   ]
  },
  {
   "cell_type": "code",
   "execution_count": 9,
   "id": "25b12652-feb6-4fba-a664-586402a4c219",
   "metadata": {
    "tags": []
   },
   "outputs": [],
   "source": [
    "def plot_raindrop_rays(c, u, a, n1, n2, \n",
    "                       xmin=-3.0, xmax=3.0,\n",
    "                       ymin=-3.0, ymax=3.0,\n",
    "                       gfile='fig_raindrop.png', \n",
    "                       fgsize=(4.5, 4.5), \n",
    "                       ftsize=18):\n",
    "\n",
    "    fig, ax = plt.subplots(nrows=1, ncols=1, figsize=fgsize)\n",
    "        \n",
    "    ax.set_xlim(xmin, xmax)\n",
    "    ax.set_ylim(ymin, ymax)\n",
    "    ax.set_xlabel(r'$x$', fontsize=ftsize)\n",
    "    ax.set_ylabel(r'$y$', fontsize=ftsize)\n",
    "    \n",
    "    # draw circle\n",
    "    raindrop = plt.Circle((0, 0), a, color='lightblue')\n",
    "    ax.add_patch(raindrop)\n",
    "    \n",
    "    # draw incident ray\n",
    "    p, _ = line_circle_intersect(c, u, a)\n",
    "    q =-u + p\n",
    "    x = [p[0], q[0]]\n",
    "    y = [p[1], q[1]]\n",
    "    ax.plot(x, y, color='blue')\n",
    "    \n",
    "    q = 2*u + p\n",
    "    x = [p[0], q[0]]\n",
    "    y = [p[1], q[1]]\n",
    "    ax.plot(x, y, color='blue', linestyle='dashed')\n",
    "    \n",
    "    # draw normal to droplet\n",
    "    n = norm(np.array([p[0], p[1], 0]))\n",
    "    q = n + p\n",
    "    x = [p[0], q[0]]\n",
    "    y = [p[1], q[1]]\n",
    "    ax.plot(x, y, color='grey')\n",
    "    \n",
    "    q =-a*n + p\n",
    "    x = [p[0], q[0]]\n",
    "    y = [p[1], q[1]]\n",
    "    ax.plot(x, y, color='grey', linestyle='dashed')\n",
    "       \n",
    "    # draw tangent to normal\n",
    "    nt= tangent(u, n)\n",
    "    q1=-nt + p\n",
    "    q2= nt + p\n",
    "    x = [q1[0], q2[0]]\n",
    "    y = [q1[1], q2[1]]\n",
    "    ax.plot(x, y, color='grey')\n",
    "    \n",
    "    # draw reflection vector\n",
    "    ur= reflection(u, n)\n",
    "    q = ur + p\n",
    "    x = [p[0], q[0]]\n",
    "    y = [p[1], q[1]]\n",
    "    ax.plot(x, y, color='blue')\n",
    "    \n",
    "    # draw transmission vector\n",
    "    ut= transmission(u, n, n1, n2)\n",
    "    q = ut + p\n",
    "    x = [p[0], q[0]]\n",
    "    y = [p[1], q[1]]\n",
    "    ax.plot(x, y, color='blue')\n",
    "    \n",
    "    plt.tight_layout()\n",
    "    plt.savefig(gfile)\n",
    "    plt.show()"
   ]
  },
  {
   "cell_type": "code",
   "execution_count": 10,
   "id": "83377509-1a92-4636-817c-a627f61253dc",
   "metadata": {
    "tags": []
   },
   "outputs": [
    {
     "data": {
      "image/png": "[encoded data removed]",
      "text/plain": [
       "<Figure size 450x450 with 1 Axes>"
      ]
     },
     "metadata": {},
     "output_type": "display_data"
    }
   ],
   "source": [
    "ci = np.array([-3.5, 2, 0])\n",
    "ui = norm(np.array([ 8,-2, 0]))\n",
    "a  = 2.5\n",
    "n1 = 1.0\n",
    "n2 = 1.33\n",
    "\n",
    "plot_raindrop_rays(ci, ui, a, n1, n2)"
   ]
  },
  {
   "cell_type": "code",
   "execution_count": null,
   "id": "50f6fb46-529e-42b6-8466-fc9d03e514b4",
   "metadata": {},
   "outputs": [],
   "source": []
  },
  {
   "cell_type": "code",
   "execution_count": null,
   "id": "84f701d2-b270-4b55-abec-46ab8d13d5e3",
   "metadata": {},
   "outputs": [],
   "source": []
  }
 ],
 "metadata": {
  "kernelspec": {
   "display_name": "Python 3 (ipykernel)",
   "language": "python",
   "name": "python3"
  },
  "language_info": {
   "codemirror_mode": {
    "name": "ipython",
    "version": 3
   },
   "file_extension": ".py",
   "mimetype": "text/x-python",
   "name": "python",
   "nbconvert_exporter": "python",
   "pygments_lexer": "ipython3",
   "version": "3.11.5"
  },
  "toc-autonumbering": false,
  "toc-showcode": false
 },
 "nbformat": 4,
 "nbformat_minor": 5
}
