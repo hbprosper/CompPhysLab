{
 "cells": [
  {
   "cell_type": "markdown",
   "id": "99aa72e3-eac9-4469-84f0-d60654a87e54",
   "metadata": {
    "tags": []
   },
   "source": [
    "# Project 4: Ray Tracing Through a Lens\n",
    "\n",
    "**Double tap this cell to get to edit mode and fill in the information below.**\n",
    "\n",
    "> Full Name:\n",
    "\n",
    "> Date:\n",
    "\n",
    "> Resources Used:\n",
    "\n",
    "## Tips\n",
    "\n",
    "  * Python tutorials:\n",
    "     * [A short introduction](https://realpython.com/python-first-steps/)\n",
    "     * [A more complete introduction](https://www.w3schools.com/python/default.asp)\n",
    "     * PythonMinimum\n",
    "  * Use __esc r__ to disable a cell\n",
    "  * Use __esc y__ to reactivate it\n",
    "  * Use __esc m__ to go to markdown mode. **Markdown** is the typesetting language used in jupyter notebooks.\n",
    "  * In a markdown cell, double tap the mouse or glide pad (on your laptop) to go to edit mode. \n",
    "  * Shift + return to execute a cell (including markdown cells).\n",
    "  * If the equations don't typeset, try double tapping the cell again, and re-execute it.\n",
    "  \n",
    "\n",
    "## Learning Objectives\n",
    "  * Learn how to use ray optics to trace light rays through a lens.\n",
    "  * Discover the different behaviors of light rays through thick and thin lenses.\n",
    " \n",
    "**Part 1** of this notebook contains programs you are free to use.\n",
    "\n",
    "**Part 2** should contain your solution. \n",
    "\n",
    "\n",
    "## Introduction\n",
    "\n",
    "In the rainbow project, you were introduced to **ray optics**. If we assume that losses due to reflection are media boundaries is negligible, then rhe tracing of rays through media of differing refractive indices is governed by a single rule:\n",
    "\n",
    "  * The angle of transmission $\\theta_t$ (otherwise known as the angle of refraction) satisfies **Snell's Law**, \n",
    "  \n",
    "\\begin{align}\n",
    "  n_2 \\sin\\theta_t  & = n_1 \\sin\\theta_i ,\n",
    "\\end{align}\n",
    "\n",
    "where $n_1$ is the refractive index of the medium through which the incident ray travels and $n_2$ is the refractive index of the medium containing the transmitted (refracted) ray. By convention, all angles are measured with respect to the normal $\\hat{n}$ to the boundary.\n",
    "\n",
    "## Project Goal\n",
    "\n",
    "An orange LED a placed at $\\vec{c} = (-8, 0, 0)$ with the lens at the origin.\n",
    "\n",
    "  1. Complete the ray tracing program in Part 2 for a glass lens defined by the intersection of two spherical surfaces, of radii $a_1$ (`a1`) and $a_2$ (`a2`), which intersect at $x = 0$. \n",
    "  1. Trace and plot the rays given in Part 2 through the lens and answer the questions below.\n",
    "  \n",
    "## Assumptions\n",
    "  1. Ignore reflections at the boundaries.\n",
    "  1. The refractive index of air is 1.0\n",
    "  1. The refractive index of the glass is 1.5\n",
    "  1. The diameter of the lens is $d = 6\\text{cm}$.\n",
    "  1. For the thick lens the surface on the left (surface 1) has radius $a_1 = 3 \\text{ cm}$, while that on the right (surface 2) has radius $a_2 = 6 \\text{ cm}$. The **centers of curvature** (that is, the positions of the centers of the two intersecting spheres) for surface 1 and surface 2 are $\\vec{c}_1 = (x_1, 0, 0)$ and $\\vec{c}_2 = (-x_2, 0, 0)$, respectively, where $x_i = \\sqrt{a_i^2 - (d/2)^2}, i = 1, 2$.\n",
    "\n",
    "## Questions\n",
    "  1. **Thick lens**: Do the rays cross at the same point?\n",
    "  1. **Thin lens**: Consider a new lens with the same diameter $d$, but this time with surfaces that have the *same* radius of curvature `R`. Starting from $R=3$ cm (that is, a spherical lens), gradually increase $R$ until the rays transmitted through the lens are judged to be as parallel as possible. \n",
    "     1. What value did you get for $R$?\n",
    "     1. If parallel rays were incident on this lens from the right, what would happen to the rays?"
   ]
  },
  {
   "cell_type": "code",
   "execution_count": 2,
   "id": "0352a958-c65a-4ace-bcd8-139417a3afbc",
   "metadata": {
    "tags": []
   },
   "outputs": [],
   "source": [
    "import os, sys\n",
    "import numpy as np\n",
    "import matplotlib as mp\n",
    "import matplotlib.pyplot as plt\n",
    "\n",
    "%matplotlib inline\n",
    "\n",
    "# update fonts\n",
    "FONTSIZE = 12\n",
    "font = {'family' : 'sans-serif',\n",
    "        'weight' : 'normal',\n",
    "        'size'   : FONTSIZE}\n",
    "mp.rc('font', **font)\n",
    "\n",
    "# use latex if available on system, otherwise set usetex=False\n",
    "mp.rc('text', usetex=True)"
   ]
  },
  {
   "cell_type": "markdown",
   "id": "67aaec85-7cee-4daf-8715-39d0e8652834",
   "metadata": {},
   "source": [
    "### Import functions from CompPhysLab module `computil.vectors`"
   ]
  },
  {
   "cell_type": "code",
   "execution_count": 3,
   "id": "26634423-2024-43d1-8421-b873f81deb2b",
   "metadata": {
    "tags": []
   },
   "outputs": [],
   "source": [
    "from computil.vectors import magnitude, norm, dot, \\\n",
    "tangent, reflection, transmission, line_sphere_intersect"
   ]
  },
  {
   "cell_type": "markdown",
   "id": "ff82e165-83ff-4821-9ed9-759e8cfe1862",
   "metadata": {},
   "source": [
    "# Part 1"
   ]
  },
  {
   "cell_type": "markdown",
   "id": "16c6c9e7-53cb-4e4a-80c0-635b28a453ca",
   "metadata": {},
   "source": [
    "Functions from `computil.vectors` can operate on one more more vectors.\n",
    "\n",
    "  1. `dot(a, b)`: dot product.\n",
    "  1. `tangent(u, n)`: given incident unit vector `u` and normal unit vector `n` return the  unit vector `nt` tangent to `n` and that lies in the plane defined by `u` and `n`.\n",
    "  1. `reflection(u, n)`: given incident unit vector `u` and normal unit vector `n` return the reflection unit vector `ur`.\n",
    "  1. `transmission(u, n, n1, n2)`: given incident unit vector `u`, normal unit vector `n`, and refractive indices `n1` and `n2`, return the transmission unit vector `ut`.\n",
    "  1. `line_sphere_intersect(c, u, a, o)`, return the intersection points of a line, specified by a point `c` and unit vector `u`, and a sphere of radius `a` centered at point `o`."
   ]
  },
  {
   "cell_type": "markdown",
   "id": "62a92ef3-db0c-4ce3-b97e-6dfe9e4d015f",
   "metadata": {},
   "source": [
    "### Define Lens"
   ]
  },
  {
   "cell_type": "code",
   "execution_count": 4,
   "id": "81413c0d-6250-4fc8-85c2-cde33f66af5c",
   "metadata": {
    "tags": []
   },
   "outputs": [],
   "source": [
    "def center_of_curvature(a, d, positive):\n",
    "    x = np.sqrt(a**2 - (d/2)**2)\n",
    "    if not positive:\n",
    "        x = -x\n",
    "    y = 0\n",
    "    z = 0\n",
    "    c = np.array([x, y, z])\n",
    "    return c"
   ]
  },
  {
   "cell_type": "code",
   "execution_count": 5,
   "id": "7c7b7120-2303-41f1-9965-5e653677b9a5",
   "metadata": {
    "tags": []
   },
   "outputs": [
    {
     "name": "stdout",
     "output_type": "stream",
     "text": [
      "surface 1(center):  [0. 0. 0.]\n",
      "surface 2(center):  [-5.19615242  0.          0.        ]\n"
     ]
    }
   ],
   "source": [
    "d  = 6 # diameter of lens (cm)\n",
    "\n",
    "# surface 1\n",
    "# ---------\n",
    "a1 = 3.0  # radius of curvature (cm)\n",
    "c1 = center_of_curvature(a1, d, positive=True) # positive x-axis\n",
    "print(f'surface 1(center): ', c1)\n",
    "\n",
    "# surface 2\n",
    "# ---------\n",
    "a2 = 6.0  # radius of curvature (cm)\n",
    "c2 = center_of_curvature(a2, d, positive=False) # negative x-axis\n",
    "print(f'surface 2(center): ', c2)\n",
    "\n",
    "# refractive indices\n",
    "# ------------------\n",
    "n1 = 1.0\n",
    "n2 = 1.5\n",
    "\n",
    "# LED\n",
    "# ---\n",
    "LED_position = np.array([-8, 0, 0])\n",
    "LED_color = 'orange'\n"
   ]
  },
  {
   "cell_type": "markdown",
   "id": "5032a37a-53f6-43ce-9df6-63a061ce2f0d",
   "metadata": {},
   "source": [
    "Outline of lens is formed from a sequence of points that form a polygon. The polygon starts at the bottom of the lens, goes up surface 1 to the top of the lens the continues down surface 2 to the bottom of the lens."
   ]
  },
  {
   "cell_type": "code",
   "execution_count": 6,
   "id": "05ed2891-ec8b-49ff-a0c3-54c333b673bc",
   "metadata": {
    "tags": []
   },
   "outputs": [],
   "source": [
    "def construct_lens(A1, C1, A2, C2, K=101):\n",
    "   \n",
    "    # compute points on surface 1 from bottom to top\n",
    "    x    = np.abs(C1[0])\n",
    "    angle= np.arccos(x/A1)\n",
    "    phi1 = np.pi - angle\n",
    "    phi2 = phi1 + 2*angle\n",
    "    phi  = np.linspace(phi1, phi2, K)\n",
    "    x1   = C1[0] + A1 * np.cos(phi)\n",
    "    y1   = C1[1] + A1 * np.sin(phi)\n",
    "\n",
    "    # compute points on surface 2 from top to bottom\n",
    "    x    = np.abs(C2[0])\n",
    "    angle= np.arccos(x/A2)\n",
    "    phi1 =-angle\n",
    "    phi2 = angle\n",
    "    phi  = np.linspace(phi1, phi2, K)\n",
    "    \n",
    "    # order points from top to bottom\n",
    "    phi  = np.flip(phi, axis=0)\n",
    "    x2   = C2[0] + A2 * np.cos(phi)\n",
    "    y2   = C2[1] + A2 * np.sin(phi)\n",
    "\n",
    "    # now join arrays of points to form closed polygon\n",
    "    x  = np.concatenate((x1, x2), axis=0)\n",
    "    y  = np.concatenate((y1, y2), axis=0)\n",
    "    xy = np.array(list(zip(x, y)))\n",
    "    \n",
    "    return xy"
   ]
  },
  {
   "cell_type": "markdown",
   "id": "31e34094-8b08-469f-91a8-176bac9724bb",
   "metadata": {},
   "source": [
    "### A few useful plotting utilities"
   ]
  },
  {
   "cell_type": "code",
   "execution_count": 7,
   "id": "04d829ae-964e-4d1f-bfef-4b4fbcbbe1c5",
   "metadata": {
    "tags": []
   },
   "outputs": [],
   "source": [
    "# create a figure with a single subplot\n",
    "def setup_figure(Xmin, Xmax, Ymin, Ymax, Fgsize, Ftsize):\n",
    "\n",
    "    Fig, Ax = plt.subplots(nrows=1, ncols=1, figsize=Fgsize)\n",
    "        \n",
    "    # annotate plot\n",
    "    Ax.set_xlim(Xmin, Xmax)\n",
    "    Ax.set_ylim(Ymin, Ymax)\n",
    "    Ax.set_xlabel(r'$x$', fontsize=Ftsize)\n",
    "    Ax.set_ylabel(r'$y$', fontsize=Ftsize)\n",
    "    Ax.set_aspect(1)\n",
    "    \n",
    "    return Fig, Ax\n",
    "        \n",
    "# plot one of more line segments from point c to point p\n",
    "def draw_line_segments(Ax, C, P, Colors, Lstyle='solid'):\n",
    "    try:\n",
    "        for p1, p2, c in zip(C, P, Colors):\n",
    "            x = [p1[0], p2[0]]\n",
    "            y = [p1[1], p2[1]]\n",
    "            Ax.plot(x, y, color=c, linestyle=Lstyle)\n",
    "    except:\n",
    "        x = [C[0], P[0]]\n",
    "        y = [C[1], P[1]]\n",
    "        Ax.plot(x, y, color=Colors, linestyle=Lstyle)\n",
    "        \n",
    "def draw_axes(Ax, Xmin, Xmax, Ymin, Ymax, Color='grey', Lstyle='dashed'):\n",
    "    x = [Xmin, Xmax]\n",
    "    y = [0, 0]\n",
    "    Ax.plot(x, y, color=Color, linestyle=Lstyle)\n",
    "    \n",
    "    x = [0, 0]\n",
    "    y = [Ymin, Ymax]\n",
    "    Ax.plot(x, y, color=Color, linestyle=Lstyle)\n",
    "    \n",
    "def draw_led(Ax, Led_pos, Led_color):\n",
    "    x = [Led_pos[0]]\n",
    "    y = [Led_pos[1]]\n",
    "    Ax.scatter(x, y, color=Led_color, s=20)\n",
    "\n",
    "def draw_lens(Ax, A1, O1, A2, O2, Lens_color='lightblue'):\n",
    "    xy   = construct_lens(A1, O1, A2, O2)\n",
    "    lens = plt.Polygon(xy, color=Lens_color)\n",
    "    Ax.add_patch(lens)\n",
    "    \n",
    "def draw_sphere(Ax, A, C):\n",
    "    x = [C[0]]\n",
    "    y = [C[1]]\n",
    "    Ax.scatter(x, y, color='black', s=20)\n",
    "    \n",
    "    phi  = np.linspace(0, 2*np.pi, 100)\n",
    "    x = C[0] + A * np.cos(phi)\n",
    "    y = C[1] + A * np.sin(phi)\n",
    "    Ax.plot(x, y, color='grey', linewidth=0.2)"
   ]
  },
  {
   "cell_type": "markdown",
   "id": "dfe611a0-e566-47b8-8d15-1dfaf5ad9597",
   "metadata": {},
   "source": [
    "### Check that shape of lens is correctly computed"
   ]
  },
  {
   "cell_type": "code",
   "execution_count": 8,
   "id": "f66691fc-db49-4535-9fb8-158123b3e99a",
   "metadata": {
    "tags": []
   },
   "outputs": [
    {
     "data": {
      "image/png": "[encoded data removed]",
      "text/plain": [
       "<Figure size 800x400 with 1 Axes>"
      ]
     },
     "metadata": {},
     "output_type": "display_data"
    }
   ],
   "source": [
    "def plot_lens(led_pos, led_color, a1, o1, a2, o2, \n",
    "              xmin=-10.0, xmax=20.0,\n",
    "              ymin=-6.0, ymax=6.0,\n",
    "              gfile='fig_lens.png', \n",
    "              fgsize=(8, 4), \n",
    "              ftsize=18):\n",
    "       \n",
    "    fig, ax = setup_figure(xmin, xmax, ymin, ymax, fgsize, ftsize)\n",
    "    \n",
    "    draw_axes(ax, xmin, xmax, ymin, ymax)\n",
    "    \n",
    "    draw_led(ax, led_pos, led_color)\n",
    "\n",
    "    draw_lens(ax, a1, o1, a2, o2)\n",
    "    \n",
    "    # draw center of curvature of surface 2\n",
    "    # and indicate the associated sphere\n",
    "    draw_sphere(ax, a1, o1)\n",
    "    draw_sphere(ax, a2, o2)\n",
    "    \n",
    "    plt.tight_layout()\n",
    "    plt.savefig(gfile)\n",
    "    plt.show()\n",
    "    \n",
    "    \n",
    "plot_lens(LED_position, LED_color, a1, c1, a2, c2)"
   ]
  },
  {
   "cell_type": "markdown",
   "id": "139a165e-bfe4-43aa-a9ce-79a1039e85d4",
   "metadata": {},
   "source": [
    "# Part 2\n",
    "\n",
    "  1. Complete the ray tracing program in Part 2 for a glass lens defined by the intersection of two spherical surfaces, of radii $a_1$ (`a1`) and $a_2$ (`a2`), which intersect at $x = 0$. \n",
    "  1. Trace and plot the rays given in Part 2 through the lens and answer the questions below.\n",
    "\n",
    "## Questions\n",
    "  1. **Thick lens**: Do the rays cross at the same point?\n",
    "  1. **Thin lens**: Gradually increase $a_1$ (and set $a_2 = a_1$) until the rays transmitted through the lens are parallel. \n",
    "     1. What value did you get for $a_1$?\n",
    "     1. If parallel rays were incident from the right, what would happen to the rays?"
   ]
  },
  {
   "cell_type": "markdown",
   "id": "244411dd-7c2d-4895-97dc-a917773ca7f8",
   "metadata": {},
   "source": [
    "### Incident Rays\n",
    "\n",
    "Each ray is define by the vector\n",
    "\n",
    "$$\\vec{r} = \\lambda \\hat{u} + \\vec{c}.$$"
   ]
  },
  {
   "cell_type": "code",
   "execution_count": 9,
   "id": "d1fa7446-b287-42e5-84cf-899f6d6473d0",
   "metadata": {
    "tags": []
   },
   "outputs": [
    {
     "data": {
      "text/plain": [
       "[[0.9403848, -0.34011238, 0.0],\n",
       " [0.95217901, -0.30554072, 0.0],\n",
       " [0.96270273, -0.27056137, 0.0],\n",
       " [0.97194191, -0.23522101, 0.0],\n",
       " [0.97988422, -0.1995668, 0.0],\n",
       " [0.98651908, -0.16364631, 0.0],\n",
       " [0.99183761, -0.12750746, 0.0],\n",
       " [0.99583274, -0.09119847, 0.0],\n",
       " [0.99849912, -0.0547678, 0.0],\n",
       " [0.9998332, -0.01826406, 0.0],\n",
       " [0.9998332, 0.01826406, 0.0],\n",
       " [0.99849912, 0.0547678, 0.0],\n",
       " [0.99583274, 0.09119847, 0.0],\n",
       " [0.99183761, 0.12750746, 0.0],\n",
       " [0.98651908, 0.16364631, 0.0],\n",
       " [0.97988422, 0.1995668, 0.0],\n",
       " [0.97194191, 0.23522101, 0.0],\n",
       " [0.96270273, 0.27056137, 0.0],\n",
       " [0.95217901, 0.30554072, 0.0],\n",
       " [0.9403848, 0.34011238, 0.0]]"
      ]
     },
     "execution_count": 9,
     "metadata": {},
     "output_type": "execute_result"
    }
   ],
   "source": [
    "UNIT_VECTORS = '''\n",
    "      [[ 0.9403848 , -0.34011238,  0.        ],\n",
    "       [ 0.95217901, -0.30554072,  0.        ],\n",
    "       [ 0.96270273, -0.27056137,  0.        ],\n",
    "       [ 0.97194191, -0.23522101,  0.        ],\n",
    "       [ 0.97988422, -0.1995668 ,  0.        ],\n",
    "       [ 0.98651908, -0.16364631,  0.        ],\n",
    "       [ 0.99183761, -0.12750746,  0.        ],\n",
    "       [ 0.99583274, -0.09119847,  0.        ],\n",
    "       [ 0.99849912, -0.0547678 ,  0.        ],\n",
    "       [ 0.9998332 , -0.01826406,  0.        ],\n",
    "       [ 0.9998332 ,  0.01826406,  0.        ],\n",
    "       [ 0.99849912,  0.0547678 ,  0.        ],\n",
    "       [ 0.99583274,  0.09119847,  0.        ],\n",
    "       [ 0.99183761,  0.12750746,  0.        ],\n",
    "       [ 0.98651908,  0.16364631,  0.        ],\n",
    "       [ 0.97988422,  0.1995668 ,  0.        ],\n",
    "       [ 0.97194191,  0.23522101,  0.        ],\n",
    "       [ 0.96270273,  0.27056137,  0.        ],\n",
    "       [ 0.95217901,  0.30554072,  0.        ],\n",
    "       [ 0.9403848 ,  0.34011238,  0.        ]]\n",
    "'''.strip()\n",
    "\n",
    "u = eval(UNIT_VECTORS)\n",
    "\n",
    "u"
   ]
  },
  {
   "cell_type": "code",
   "execution_count": 10,
   "id": "a3893c78-475a-4a63-92c8-32adb90bf3b5",
   "metadata": {
    "tags": []
   },
   "outputs": [
    {
     "data": {
      "text/plain": [
       "((20, 3), (20, 3))"
      ]
     },
     "execution_count": 10,
     "metadata": {},
     "output_type": "execute_result"
    }
   ],
   "source": [
    "# convert to numpy array\n",
    "u = np.array(u)\n",
    "\n",
    "# number of rays\n",
    "nrays = len(u)\n",
    "\n",
    "# define point on rays\n",
    "c = np.array([LED_position] * nrays) # all rays start from the LED\n",
    "\n",
    "# define colors of rays\n",
    "colors = [LED_color] * nrays\n",
    "\n",
    "c.shape, u.shape"
   ]
  },
  {
   "cell_type": "markdown",
   "id": "7f2d66f2-c024-4789-ab9e-80059b732cbb",
   "metadata": {},
   "source": [
    "### Tracing rays through a Lens\n",
    "\n",
    "  1. `c`: a point on the incident ray (an array of vectors)\n",
    "  1. `u`: a unit vector defining th direction of the incident ray (an array of vectors)\n",
    "  1. `d`: diameter of lens (cm).\n",
    "  1. `a1`: radius of curvature of surface 1 (on the left)\n",
    "  1. `o1`: center of curvature of surface 1\n",
    "  1. `a2`: radius of curvature of surface 2 (on the right)\n",
    "  1. `o2`: center of curvature of surface 2\n",
    "  1. `n1`: the refractive index of medium in which incident ray is propagating.\n",
    "  1. `n2`: the refractive index of medium in which transmitted ray is propagating.\n",
    "  1. `colors`: colors of the rays."
   ]
  },
  {
   "cell_type": "code",
   "execution_count": 11,
   "id": "ac118259-2e84-475b-9a90-e4ba7ed2e86a",
   "metadata": {
    "tags": []
   },
   "outputs": [
    {
     "name": "stdout",
     "output_type": "stream",
     "text": [
      "Help on function line_sphere_intersect in module computil.vectors:\n",
      "\n",
      "line_sphere_intersect(c, u, a, o)\n",
      "    Given a line defined by the point c and unit vector u, compute the points of intersection\n",
      "    with a sphere or radius a located at point o.\n",
      "    \n",
      "    Arguments\n",
      "    ---------\n",
      "    c :   a point on the incident ray (or a numpy array of vectors)\n",
      "    u :   a unit vector in the direction of the incident ray (or a numpy array of vectors)\n",
      "    a :   the radius of the sphere\n",
      "    o :   the location of center of the sphere (i.e., the center of curvature)\n",
      "    \n",
      "    Return\n",
      "    ------\n",
      "    p1, p2, crosses : p1 and p2 are the intersection points, with p1 the closer of the two points to\n",
      "    point c and crosses are an array of booleans. If True, the line crosses the sphere.\n",
      "    \n",
      "    Example\n",
      "    -------\n",
      "    \n",
      "    p1, p2, crosses = line_sphere_intersect(C, U, R, O)\n",
      "\n"
     ]
    }
   ],
   "source": [
    "help(line_sphere_intersect)"
   ]
  },
  {
   "cell_type": "code",
   "execution_count": 12,
   "id": "32ef6a2d-a3ec-402b-a9eb-4dccc8ad401c",
   "metadata": {},
   "outputs": [],
   "source": [
    "def plot_rays_thru_lens(c, u, d, a1, o1, a2, o2, n1, n2, colors, \n",
    "                        xmin=-10.0, xmax=20.0,\n",
    "                        ymin=-6.0, ymax=6.0,\n",
    "                        gfile='fig_ray_tracing_thru_lens.png', \n",
    "                        fgsize=(8, 4), \n",
    "                        ftsize=18):\n",
    "\n",
    "    fig, ax = setup_figure(xmin, xmax, ymin, ymax, fgsize, ftsize)\n",
    "    \n",
    "    draw_axes(ax, xmin, xmax, ymin, ymax)\n",
    "    \n",
    "    led_pos = c[0]\n",
    "    led_color = colors[0]\n",
    "    draw_led(ax, led_pos, led_color)\n",
    "\n",
    "    draw_lens(ax, a1, o1, a2, o2)\n",
    "    \n",
    "    # 1. compute the intersection of incident rays with surface 1\n",
    "    #    --------------------------------------------------------\n",
    "    \n",
    "    \n",
    "    # 2. draw incident rays from c to intersection points at\n",
    "    #    surface 1\n",
    "\n",
    "\n",
    "    \n",
    "    # 3. compute unit normals to surface 1 at intersection points, \n",
    "    #    with the convention that the normals point away from the \n",
    "    #    center of curvature\n",
    "    \n",
    "\n",
    "\n",
    "    # 4. compute transmission unit vectors at surface 1\n",
    "    \n",
    "\n",
    "    \n",
    "    # 5. compute intersection of transmitted rays (which become \n",
    "    #    the new incident rays) with surface 2 and use the \n",
    "    #    previous intersection points as the points \"c\" for \n",
    "    #    the new incident rays.\n",
    "    #    --------------------------------------------------------\n",
    "\n",
    "    \n",
    "\n",
    "    # 6. compute unit normals to surface 2 at intersection points, \n",
    "    #    with the convention that the normals point away from the \n",
    "    #    center of curvature\n",
    "\n",
    "    \n",
    "   \n",
    "    # 7. draw new incident rays from c to intersection points at\n",
    "    #    surface 2\n",
    "\n",
    "    \n",
    "    # 8. compute transmission unit vectors at surface 2. Hint: what\n",
    "    #    must you do to the refractive indices?\n",
    "\n",
    "\n",
    "    \n",
    "    # 9. draw transmitted rays from the intersection points at\n",
    "    #    surface 2 to points q that are 30 cm away from the\n",
    "    #    intersection points\n",
    "    \n",
    "\n",
    "    \n",
    "    plt.tight_layout()\n",
    "    plt.savefig(gfile)\n",
    "    plt.show()"
   ]
  },
  {
   "cell_type": "code",
   "execution_count": 13,
   "id": "7539a814-959b-4c4b-b11e-3c2f337e8c07",
   "metadata": {
    "tags": []
   },
   "outputs": [
    {
     "data": {
      "image/png": "[encoded data removed]",
      "text/plain": [
       "<Figure size 800x400 with 1 Axes>"
      ]
     },
     "metadata": {},
     "output_type": "display_data"
    }
   ],
   "source": [
    "plot_rays_thru_lens(c, u, d, a1, c1, a2, c2, n1, n2, colors)"
   ]
  },
  {
   "cell_type": "markdown",
   "id": "e3fdd36e-53e8-4f4a-aaf6-f9ac14eff1d2",
   "metadata": {},
   "source": [
    "## Questions\n",
    "  1. **Thick lens**: Do the rays cross at the same point?\n",
    "  1. **Thin lens**: Consider a new lens with the same diameter $d$, but this time with surfaces that have the *same* radius of curvature `R`. Starting from $R=3$ cm (that is, a spherical lens), gradually increase $R$ until the rays transmitted through the lens are judged to be as parallel as possible. \n",
    "     1. What value did you get for $R$?\n",
    "     1. If parallel rays were incident on this lens from the right, what would happen to the rays?"
   ]
  },
  {
   "cell_type": "code",
   "execution_count": null,
   "id": "d0a74efa-a657-4d6e-8621-bfb47def289c",
   "metadata": {},
   "outputs": [],
   "source": []
  },
  {
   "cell_type": "code",
   "execution_count": null,
   "id": "20206a19-06de-4c14-9925-6d5bee50aed6",
   "metadata": {},
   "outputs": [],
   "source": []
  }
 ],
 "metadata": {
  "kernelspec": {
   "display_name": "Python 3 (ipykernel)",
   "language": "python",
   "name": "python3"
  },
  "language_info": {
   "codemirror_mode": {
    "name": "ipython",
    "version": 3
   },
   "file_extension": ".py",
   "mimetype": "text/x-python",
   "name": "python",
   "nbconvert_exporter": "python",
   "pygments_lexer": "ipython3",
   "version": "3.11.5"
  },
  "toc-autonumbering": false,
  "toc-showcode": false
 },
 "nbformat": 4,
 "nbformat_minor": 5
}
