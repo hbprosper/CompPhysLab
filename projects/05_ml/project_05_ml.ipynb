{
 "cells": [
  {
   "cell_type": "markdown",
   "metadata": {},
   "source": [
    "# Project 5: An Introduction to Neural Networks\n",
    "\n",
    "**Double tap this cell to get to edit mode and fill in the information below.**\n",
    "\n",
    "> Full Name:\n",
    "\n",
    "> Date:\n",
    "\n",
    "> Resources Used:\n",
    "\n",
    "## Tips\n",
    "\n",
    "  * Python tutorials:\n",
    "     * [A short introduction](https://realpython.com/python-first-steps/)\n",
    "     * [A more complete introduction](https://www.w3schools.com/python/default.asp)\n",
    "     * PythonMinimum\n",
    "  * Use __esc r__ to disable a cell\n",
    "  * Use __esc y__ to reactivate it\n",
    "  * Use __esc m__ to go to markdown mode. **Markdown** is the typesetting language used in jupyter notebooks.\n",
    "  * In a markdown cell, double tap the mouse or glide pad (on your laptop) to go to edit mode. \n",
    "  * Shift + return to execute a cell (including markdown cells).\n",
    "  * If the equations don't typeset, try double tapping the cell again, and re-execute it.\n",
    "  \n",
    "\n",
    "## Learning Objectives\n",
    "  * Learn how to build a simple machine learning (ML) model (that is, function) with **pytorch**.\n",
    "  * Learn how to tweak the model to improve its ability to identify handwritten digits. \n",
    "\n",
    "\n",
    "## Introduction\n",
    "Everyone has surely heard of [ChatGPT](https://openai.com/chatgpt), the chatbot from OpenAI that seems to know everything about everything! Give it a prompt, and out pops a string of **tokens** that form very convincing human-like text. What is less well known is that the artificial intelligence (AI) that powers ChatGPT is just an enormously complicated 175 billion-parameter mathematical function, trained on essentially all the useful content of the internet and further tweaked by a team of humans to help ensure that the chatbot gives useful outputs. This function, called a transformer, computes about 170,000 probabilities to decide what the next token should be given the prompt and the current sequence of output tokens.\n",
    "\n",
    "In this project, you'll be introduced to a very simple AI system that can identify (that is, classify) handwritten digits. The digits are represented as $28 \\times 28 = 784$ gray-scale pixel images, which are a subset of the images from [MNIST](http://yann.lecun.com/exdb/mnist). We use a method called **supervised learning**. In supervised learning a model is repeatedly shown labeled objects, represented by a sequence of numbers, and the model (i.e., function) tries to predict the correct labels for the objects. The model parameters are adjusted and the sequence of steps is repeated until one finds no further improvement in the quality of the predictions. \n",
    "\n",
    "We use $N =$ 15,000 images for this training and 10,000 images for testing. Following good practice, we split the training data into a set for training and another set for validating the training. Crucially, the test data are not used in the training. (Why?)\n",
    "\n",
    "The value of each pixel in the MNIST data set lies in the discrete set $[0, 1, \\cdots, 255]$, which we rescale so that each pixel value lies in the unit interval. Note, since there are 784 pixels per image, we can think of each image as a point in a 784-dimensional space! Presumably, images that are of the same class, say a \"7\", tend to cluster together.\n",
    "\n",
    "\n",
    "### Model\n",
    "\n",
    "We'll use a model (i.e., function) called a fully-connected **shallow** neural network (SNN):\n",
    "\n",
    "$$\\mathbf{y} = \\mbox{softmax}(\\,\\mathbf{b}_1 + \\mathbf{w}_1 \\, f(\\mathbf{b}_0 + \\mathbf{w}_0 \\, \\mathbf{x}) \\, ),$$\n",
    "\n",
    "where $f(z)$ is a non-linear function.\n",
    "The tensors (arrays) $\\mathbf{b}$ and $\\mathbf{w}$ (called biases and weights, respectively) are the parameters of the model and $f(z)$ is a **non-linear** function applied to every element $z$ of its tensor argument (i.e., applied element-wise). A popular choice is $f(z) = \\mbox{relu}(z)$, defined by\n",
    "\n",
    "\\begin{align*}\n",
    "\\mbox{relu}(x) & = \\begin{cases}\n",
    "    z, & \\text{if } z \\gt 0\\\\\n",
    "    0              & \\text{otherwise}.\n",
    "\\end{cases}\n",
    "\\end{align*}\n",
    "\n",
    "Other choices are $f(z) = \\tanh(z)$ (`nn.Tanh()`) and $f(z) = \\sin(z)$ (`nn.Sin()`).\n",
    "\n",
    "Here is a pictorial representation of smaller version of the above function (taken from [here](https://codeprogramming.org/2020/06/15/artificial-neural-network/)).\n",
    "<img src=\"fig11_snn.png\" align=\"left\" alt=\"shallow neural network\" width=\"400\"/>\n",
    "This neural network has 3 inputs, 5 so-called **hidden** nodes, and 2 outputs, that is, it is a (3, 5, 2) fully-connected neural network. The one in this project is a $(784, M, 10)$ neural network, where the choice of the number of hidden nodes, $M$, is up to you.\n",
    "\n",
    "The arrays of parameters $\\mathbf{b}_0$ and $\\mathbf{w}_0$ are represented by the lines from the input layer to the hidden layer, while the arrays of parameters $\\mathbf{b}_0$ and $\\mathbf{w}_0$ are represented by the lines from the hidden layer to the output layer. Like the AI in ChatGPT, our extremely simple AI model outputs **probabilities**. We input an image of a handwritten digit as a sequence of 784 numbers, and our model will output 10 probabilities one for each of the ten digits 0 to 9. The digit with the highest probability will be taken as the prediction of our model.\n",
    "Since $\\mathbf{y}$ models class probabilities that must sum to unity, it makes sense to enforce this requirement. We'll do this with the **softmax** function for $K=10$ output classes, \n",
    "<br clear=\"left\"/>\n",
    "\n",
    "\\begin{align*}\n",
    "\\mbox{softmax}(x_0,\\cdots, x_9)_k & = \\frac{\\exp(x_k)}{\\sum_{j=0}^{K-1} \\exp(x_j)} ,\n",
    "\\end{align*}\n",
    "\n",
    "where $x_{k}$ denotes the $k^\\mbox{th}$ output of the hidden layer. \n",
    "\n",
    "The training of the above model is done by repeatedly presenting different **batches** of images tp the model. These batches are represented by a 2-index array $\\mathbf{x}_{nj}$ of shape $(n, H \\times W)$. (These arrays are referred to as **tensors**.) The first index (along dimension dim = 0) labels the ordinal value $j$ of an image in a batch of $n$ images, while the second index (along dim = 1) labels the pixels of a **flattened** image of height and width $H$ and $W$, respectively. The batches of data (here pixel values representing images) are called **training data**.\n",
    "\n",
    "### Loss function\n",
    "Typically, a machine learning model is fitted to the training data by minimizing a special function called the **average loss**, or the **cost function**, or the **empirical risk**, depending upon the field, defined by\n",
    "\n",
    "\\begin{align*}\n",
    "    F(\\omega) &= \\frac{1}{N} \\sum_{i=1}^N L(t_i, \\, f(x_i, \\omega)),  \n",
    "\\end{align*}\n",
    "\n",
    "where $L(t, \\, f)$ is called the **loss function** and measures how much one loses if the output of the parameterized function $y = f(x, \\omega)$ differs from the **target** $t$. In our project, $t$ can be any of the values $0,\\cdots, 9$. \n",
    "\n",
    "## Project Goal\n",
    "\n",
    "  1. Your task is to plot **two** graphs of model accuracy $P$ versus $M$ for two choices of non-linear functions, $f(z)$."
   ]
  },
  {
   "cell_type": "code",
   "execution_count": 1,
   "metadata": {},
   "outputs": [],
   "source": [
    "import os, sys\n",
    "\n",
    "# the standard module for tabular data\n",
    "import pandas as pd\n",
    "\n",
    "# the standard module for array manipulation\n",
    "import numpy as np\n",
    "\n",
    "# the standard modules for high-quality plots\n",
    "import matplotlib as mp\n",
    "import matplotlib.pyplot as plt\n",
    "\n",
    "# standard module for displaying images\n",
    "import imageio as im\n",
    "\n",
    "# pytorch (AI/ML module)\n",
    "import torch\n",
    "import torch.nn as nn\n",
    "\n",
    "# to reload modules\n",
    "import importlib\n",
    "\n",
    "%matplotlib inline"
   ]
  },
  {
   "cell_type": "code",
   "execution_count": 2,
   "metadata": {},
   "outputs": [],
   "source": [
    "# update fonts\n",
    "FONTSIZE = 14\n",
    "font = {'family' : 'serif',\n",
    "        'weight' : 'normal',\n",
    "        'size'   : FONTSIZE}\n",
    "mp.rc('font', **font)\n",
    "\n",
    "# set usetex = False if LaTex is not \n",
    "# available on your system or if the \n",
    "# rendering is too slow\n",
    "mp.rc('text', usetex=True)\n",
    "\n",
    "# set a seed to ensure reproducibility \n",
    "# on a given machine\n",
    "seed = 111\n",
    "rnd  = np.random.RandomState(seed)"
   ]
  },
  {
   "cell_type": "markdown",
   "metadata": {},
   "source": [
    "### Load Images"
   ]
  },
  {
   "cell_type": "code",
   "execution_count": 3,
   "metadata": {},
   "outputs": [
    {
     "data": {
      "text/plain": [
       "((15000, 784), (10000, 784))"
      ]
     },
     "execution_count": 3,
     "metadata": {},
     "output_type": "execute_result"
    }
   ],
   "source": [
    "def loadImages(name):\n",
    "    filename = f'data/{name:s}_x.csv.gz'\n",
    "    # data type must be 32-bit float\n",
    "    X = pd.read_csv(filename)['x'].to_numpy(dtype=np.float32).reshape(-1, 784)\n",
    "    \n",
    "    filename = f'data/{name:s}_t.csv.gz'\n",
    "    T = pd.read_csv(filename)['t'].to_numpy()\n",
    "    return X, T\n",
    "\n",
    "train_x, train_t = loadImages('train')\n",
    "test_x,  test_t  = loadImages('test')\n",
    "\n",
    "train_x.shape, test_x.shape"
   ]
  },
  {
   "cell_type": "markdown",
   "metadata": {},
   "source": [
    "### Plot Images\n",
    "Use imshow(..) and show() to display the image."
   ]
  },
  {
   "cell_type": "code",
   "execution_count": 4,
   "metadata": {},
   "outputs": [],
   "source": [
    "def plotImages(x, n_rows=2, n_cols=5, f_size=(5, 2)):\n",
    "    f, ax = plt.subplots(nrows=n_rows, \n",
    "                         ncols=n_cols, \n",
    "                         figsize=f_size)\n",
    "    # note use of flatten() to convert a matrix of shape (nrows, ncols)\n",
    "    # to a 1-d array.\n",
    "    for image, ax in zip(x, ax.flatten()):\n",
    "        ax.imshow(image.reshape(28, 28), cmap='gray')\n",
    "        ax.axis('off')\n",
    "    plt.show()"
   ]
  },
  {
   "cell_type": "code",
   "execution_count": 5,
   "metadata": {},
   "outputs": [
    {
     "data": {
      "image/png": "[encoded data removed]",
      "text/plain": [
       "<Figure size 500x200 with 10 Axes>"
      ]
     },
     "metadata": {},
     "output_type": "display_data"
    },
    {
     "data": {
      "text/plain": [
       "array([5, 0, 4, 1, 9, 2, 1, 3, 1, 4])"
      ]
     },
     "execution_count": 5,
     "metadata": {},
     "output_type": "execute_result"
    }
   ],
   "source": [
    "plotImages(train_x)\n",
    "train_t[:10]"
   ]
  },
  {
   "cell_type": "markdown",
   "metadata": {},
   "source": [
    "### Prepare training and validation sets"
   ]
  },
  {
   "cell_type": "code",
   "execution_count": 6,
   "metadata": {},
   "outputs": [
    {
     "name": "stdout",
     "output_type": "stream",
     "text": [
      "number of images for training:        10000\n",
      "number of images for validation:       5000\n",
      "number of images for testing:         10000\n"
     ]
    }
   ],
   "source": [
    "train_fraction = 10/15 # fraction of data used for training\n",
    "\n",
    "# split data into training and validation set\n",
    "M = int(train_fraction*len(train_x))\n",
    "\n",
    "train_x, valid_x = train_x[:M], train_x[M:]\n",
    "train_t, valid_t = train_t[:M], train_t[M:]\n",
    "\n",
    "n_train = len(train_x)\n",
    "n_valid = len(valid_x)\n",
    "n_test  = len(test_x)\n",
    "\n",
    "print(\"number of images for training:   %10d\" % n_train)\n",
    "print(\"number of images for validation: %10d\" % n_valid)\n",
    "print(\"number of images for testing:    %10d\" % n_test)"
   ]
  },
  {
   "cell_type": "markdown",
   "metadata": {},
   "source": [
    "### Define average loss function\n",
    "Here we use the cross entropy loss, which is defined by\n",
    "\\begin{align*}\n",
    "  H(p, q) & = -\\sum_i p_i \\log q_i,\\\\\n",
    "            & \\approx -\\frac{1}{N}\\sum_{i=0}^{N-1} \\log q_i.\n",
    "\\end{align*}\n",
    "\n",
    "In principle, we want $N \\rightarrow \\infty$, but, in practice, $N = n\\_batch$. This is done to produce a noisy approximation of\n",
    "the cross entropy and, therefore, a noisy approximation of the local\n",
    "gradient. The stochasticity introduced increases the probability that the minimizer won't get stuck in a bad local minimum and will move on to a better one."
   ]
  },
  {
   "cell_type": "code",
   "execution_count": 7,
   "metadata": {},
   "outputs": [],
   "source": [
    "# The class below does the same thing as the PyTorch class\n",
    "# nn.CrossEntropyLoss()\n",
    "\n",
    "class AverageLoss():\n",
    "    def __init__(self):\n",
    "        pass\n",
    "    \n",
    "    def __call__(self, outputs, targets):\n",
    "        \"\"\"\n",
    "    Compute the cross entropy defined by\n",
    "        H(p, q) = -sum_i p_i log(q_i),\n",
    "                = -(1 / T) sum_i=0^T-1 log(q_i)\n",
    " \n",
    "    which is minimized when the estimated probability q_i for the\n",
    "    ith feature vector matches the true probability p_i.\n",
    " \n",
    "    outputs: estimated class probabilities\n",
    "             shape: (batch_size, number_classes) \n",
    "    targets: class indices [0,...,K-1], shape: (batch_size, ) \n",
    "        \"\"\"\n",
    "        # For each feature vector i, pick the estimated probability q_i\n",
    "        # that corresponds to its true class index. The true class \n",
    "        # indices for the feature vectors (the images) are given in \n",
    "        # targets.\n",
    "        #\n",
    "        # Note the very powerful numpy-like syntax for accessing \n",
    "        # specific elements of an nd-array: outputs[list1, list2].\n",
    "        # basically, for each row i we pick the value in the column \n",
    "        # number given in target[i]. \n",
    "        # Note also: range(batch_size) is [0,...batch_size-1].\n",
    "        batch_size = len(outputs)\n",
    "        outputs = outputs[range(batch_size), targets]\n",
    "        \n",
    "        # compute H(p, q) = -sum_i p_i log(q_i)\n",
    "        return -torch.sum(torch.log(outputs)) / batch_size "
   ]
  },
  {
   "cell_type": "code",
   "execution_count": 8,
   "metadata": {},
   "outputs": [],
   "source": [
    "#avloss = AverageLoss()\n",
    "\n",
    "avloss = nn.CrossEntropyLoss()"
   ]
  },
  {
   "cell_type": "markdown",
   "metadata": {},
   "source": [
    "### Get batch\n",
    "Get a random batch of images of size `batch_size` from the training data. "
   ]
  },
  {
   "cell_type": "code",
   "execution_count": 9,
   "metadata": {},
   "outputs": [],
   "source": [
    "def randomBatch(train_x, train_t, batch_size):\n",
    "    # the numpy function choice(length, number)\n",
    "    # selects at random \"number\" integers from the range [0, length-1]\n",
    "    rows    = rnd.choice(len(train_x), batch_size)\n",
    "    batch_x = train_x[rows]\n",
    "    batch_t = train_t[rows]\n",
    "    return batch_x, batch_t"
   ]
  },
  {
   "cell_type": "markdown",
   "metadata": {},
   "source": [
    "### Accuracy\n",
    "Compute fraction of correct predictions."
   ]
  },
  {
   "cell_type": "code",
   "execution_count": 10,
   "metadata": {},
   "outputs": [],
   "source": [
    "def accuracy(outputs, targets):\n",
    "    # We take the ordinal value of the highest of the 10 outputs as the\n",
    "    # predicted class index. Use the numpy function argmax to do this.\n",
    "    #\n",
    "    # argmax scans the numpy array along the specified axis, here the \n",
    "    # horizontal axis (axis=1), which is in the class direction, and \n",
    "    # returns the ordinal value of the maximum value along that axis, \n",
    "    # which will be the predicted class index.\n",
    "    #\n",
    "    # Note the required use of detach().numpy() to return the tensor outputs \n",
    "    # as a numpy array, which is the argument type expected by argmax.\n",
    "    \n",
    "    probs   = outputs.detach().numpy()\n",
    "    \n",
    "    outputs = np.argmax(probs, axis=1)\n",
    "    \n",
    "    # Count how many times the predicted class index matches the true \n",
    "    # class index of the image and convert to a fraction.\n",
    "    \n",
    "    labels  = targets.detach().numpy()\n",
    "    \n",
    "    return float(np.mean(outputs==labels))"
   ]
  },
  {
   "cell_type": "markdown",
   "metadata": {},
   "source": [
    "### Trainer"
   ]
  },
  {
   "cell_type": "code",
   "execution_count": 11,
   "metadata": {},
   "outputs": [],
   "source": [
    "def train(model, optimizer, avloss, train_x, train_t, batch_size):\n",
    "    # set mode to training so that training specific operations are enabled.\n",
    "    model.train()\n",
    "    \n",
    "    # Get a random sample (a batch) of images (as numpy arrays)\n",
    "    batch_x, batch_t = randomBatch(train_x, train_t, batch_size)\n",
    "        \n",
    "    # Convert the numpy arrays batch_x and batch_t, the images and \n",
    "    # class indices, respectively, to tensor types. The later is the \n",
    "    # expected type into models and the avarage loss functions.\n",
    "    #\n",
    "    # The PyTorch tensor type is the magic that permits automatic \n",
    "    # differentiation with respect to parameters of the average loss. \n",
    "    # However, we do not need the derivatives with respect to \n",
    "    # the images, x, and the class indices, t, so we disable it.\n",
    "    with torch.no_grad(): # no need to compute gradients wrt. x and t\n",
    "        x = torch.from_numpy(batch_x)\n",
    "        t = torch.from_numpy(batch_t)      \n",
    "\n",
    "    # compute the output of the model for the batch of images x\n",
    "    outputs = model(x)\n",
    "    \n",
    "    # compute a noisy approximation to the average loss\n",
    "    loss    = avloss(outputs, t)\n",
    "    \n",
    "    # use automatic differentiation to compute a noisy approximation\n",
    "    # of the local gradient\n",
    "    optimizer.zero_grad()  # clear previous gradients\n",
    "    loss.backward()        # compute gradients\n",
    "    \n",
    "    # Finally, advance one step in the direction of steepest descent,\n",
    "    # using the noisy local gradient. Consider a 2-million dimensional \n",
    "    # hyper-surface defined by the average loss in the limit of an \n",
    "    # infinite training sample. In principle, that is the hyper-surface \n",
    "    # we really wish we could explore and whose global minimum we would\n",
    "    # like to find. But, since this is impossible, we instead construct\n",
    "    # at any given point on this hyper-surface a noisy approximation \n",
    "    # to it using the loss function averaged over a small batch of images. \n",
    "    # Then, we approximate the local gradient using the noisy local\n",
    "    # approximation to the hyper-surface. Necessarily, the gradient \n",
    "    # will be a noisy approximation to the true local gradient. \n",
    "    #\n",
    "    # This may seem like an odd thing to do. Surely, it is better to \n",
    "    # compute the local gradient using as large a training sample as \n",
    "    # possible in order to provide a more accurate approximation to \n",
    "    # the hyper-surface at any given point? However, that is actually \n",
    "    # a bad idea! Firstly, using the full training sample to define \n",
    "    # the average loss would drastically slow down the minimization. \n",
    "    # Secondly, the hyper-surface is likely to be highly corrugated \n",
    "    # with a huge number of local minima. \n",
    "    #\n",
    "    # Gradient descent in such a landscape runs the risk that a minimizer\n",
    "    # could fall into a local minimum and stay there. If the local\n",
    "    # minimum is close to the global mininum there is no issue. But it\n",
    "    # would be an issue if the local minimum is far from the global \n",
    "    # minimum, or at least a better local minimum.\n",
    "    #\n",
    "    # The use of noisy estimates of local gradients makes it possible for\n",
    "    # a minimizer, just by chance, to escape from a local minimum and, \n",
    "    # therefore, more likely to find a better local minimum.\n",
    "    # This idea suggests that perhaps we should begin with very \n",
    "    # noisy gradients. Then, if we notice the minimizer bouncing around \n",
    "    # neither going uphill nor downhill on the average, then we could \n",
    "    # surmise that it is actually bouncing around a minimum. Of course,\n",
    "    # we can never be certain that this is the global minimum, but, if it\n",
    "    # is, it would make sense to gradually increase the batch size until\n",
    "    # the minimizer settles down.\n",
    "\n",
    "    optimizer.step()       # move one step\n",
    "        \n",
    "def validate(model, train_x, train_t, valid_x, valid_t):\n",
    "    # make sure we set evaluation mode so that training specific\n",
    "    # operations are disabled.\n",
    "    model.eval() # evaluation mode\n",
    "    \n",
    "    with torch.no_grad(): # no need to compute gradients wrt. x and t\n",
    "        # compute accuracy using training sample\n",
    "        x = torch.from_numpy(train_x)\n",
    "        t = torch.from_numpy(train_t)\n",
    "        o = model(x)\n",
    "        acc_t = accuracy(o, t)\n",
    "  \n",
    "        # compute accuracy using validation sample\n",
    "        x = torch.from_numpy(valid_x)\n",
    "        t = torch.from_numpy(valid_t)\n",
    "        o = model(x)\n",
    "        acc_v = accuracy(o, t)\n",
    "\n",
    "    return (acc_t, acc_v)\n",
    "               \n",
    "def trainModel(model, optimizer, avloss, \n",
    "               train_x, train_t,\n",
    "               valid_x, valid_t,\n",
    "               n_iterations, batch_size):\n",
    "    xx   = []\n",
    "    yy_t = []\n",
    "    yy_v = []\n",
    "\n",
    "    step = 100\n",
    "    \n",
    "    print(\"%10s\\t%10s\\t%10s\" % (\"iteration\", \"trainset\", \"validset\"), end='')\n",
    "\n",
    "    for ii in range(n_iterations):\n",
    "        \n",
    "        # do one step of minimization\n",
    "        \n",
    "        train(model, optimizer, avloss, \n",
    "              train_x, train_t, \n",
    "              batch_size)\n",
    "\n",
    "        # print out accuracies on training and validation data sets\n",
    "        \n",
    "        if ii % step == 0:\n",
    "            acc_t, acc_v = validate(model, \n",
    "                                    train_x, train_t, \n",
    "                                    valid_x, valid_t)\n",
    "            \n",
    "            print(\"\\r%10d\\t%10.4f\\t%10.4f\" % (ii, acc_t, acc_v), end='')\n",
    "        \n",
    "            xx.append(ii)\n",
    "            yy_t.append(acc_t)\n",
    "            yy_v.append(acc_v)\n",
    "            \n",
    "    return (xx, yy_t, yy_v)"
   ]
  },
  {
   "cell_type": "markdown",
   "metadata": {},
   "source": [
    "### Define model, training hyperparameters, optimizer\n",
    "  1. Change $M$.\n",
    "  1. Change `nonlinearity` (e.g., `nn.Tanh`, `nn.Sin`)"
   ]
  },
  {
   "cell_type": "code",
   "execution_count": 12,
   "metadata": {},
   "outputs": [
    {
     "name": "stdout",
     "output_type": "stream",
     "text": [
      "Sequential(\n",
      "  (0): Linear(in_features=784, out_features=4, bias=True)\n",
      "  (1): ReLU()\n",
      "  (2): Linear(in_features=4, out_features=10, bias=True)\n",
      "  (3): Sigmoid()\n",
      ")\n"
     ]
    }
   ],
   "source": [
    "M = 4                       # number of hidden nodes\n",
    "n_iter  = 25000             # number of iterations\n",
    "n_batch = 50                # batch size\n",
    "learning_rate = 1.e-3       # ask Prof.!\n",
    "nonlinearity  = nn.ReLU() \n",
    "\n",
    "model = nn.Sequential(nn.Linear(784,  M), nonlinearity,\n",
    "                      nn.Linear( M,  10), nn.Sigmoid())\n",
    "\n",
    "\n",
    "optimizer = torch.optim.Adam(model.parameters(), \n",
    "                             lr=learning_rate)\n",
    "\n",
    "print(model)"
   ]
  },
  {
   "cell_type": "markdown",
   "metadata": {},
   "source": [
    "### Train!"
   ]
  },
  {
   "cell_type": "code",
   "execution_count": 13,
   "metadata": {},
   "outputs": [
    {
     "name": "stdout",
     "output_type": "stream",
     "text": [
      "     24900\t    0.7216\t    0.6894\n",
      "done!\n"
     ]
    }
   ],
   "source": [
    "xx, yy_t, yy_v = trainModel(model, optimizer, avloss,\n",
    "                            train_x, train_t, \n",
    "                            valid_x, valid_t,\n",
    "                            n_iter, n_batch)\n",
    "print(\"\\ndone!\")"
   ]
  },
  {
   "cell_type": "code",
   "execution_count": 14,
   "metadata": {},
   "outputs": [
    {
     "data": {
      "image/png": "[encoded data removed]",
      "text/plain": [
       "<Figure size 500x500 with 1 Axes>"
      ]
     },
     "metadata": {},
     "output_type": "display_data"
    }
   ],
   "source": [
    "def plot(xx, yy_t, yy_v):\n",
    "    # create an empty figure\n",
    "    fig = plt.figure(figsize=(5, 5))\n",
    "    \n",
    "    # add a subplot to it\n",
    "    nrows, ncols, index = 1,1,1\n",
    "    ax  = fig.add_subplot(nrows,ncols,index)\n",
    "    \n",
    "    # adjust y limits\n",
    "    ax.set_ylim((0.0, 1))\n",
    "    ax.set_xlim((0, xx[-1]))\n",
    "    \n",
    "    ax.plot(xx, yy_t, 'b', label='Training')\n",
    "    ax.plot(xx, yy_v, 'r', label='Validation')\n",
    "    \n",
    "    ax.set_title('Training and Validation Errors')\n",
    "    ax.set_xlabel('Iterations', fontsize=16)\n",
    "    ax.set_ylabel('Accuracy', fontsize=16)   \n",
    "    \n",
    "    ax.grid(True, which=\"both\", linestyle='-')\n",
    "    ax.legend(loc='lower right')\n",
    "    \n",
    "    plt.show()\n",
    "    \n",
    "plot(xx, yy_t, yy_v)"
   ]
  },
  {
   "cell_type": "markdown",
   "metadata": {},
   "source": [
    "### Compute accuracy of model"
   ]
  },
  {
   "cell_type": "code",
   "execution_count": 15,
   "metadata": {
    "tags": []
   },
   "outputs": [
    {
     "name": "stdout",
     "output_type": "stream",
     "text": [
      "accuracy(test): 0.701\n"
     ]
    }
   ],
   "source": [
    "def compute(model, X, T):\n",
    "    # make sure we set evaluation mode so that training specific\n",
    "    # operations are disabled.\n",
    "    model.eval() # evaluation mode\n",
    "    \n",
    "    with torch.no_grad(): # no need to compute gradients wrt. x and t\n",
    "        # compute accuracy using training sample\n",
    "        x = torch.from_numpy(X)\n",
    "        t = torch.from_numpy(T)\n",
    "        o = model(x)\n",
    "        acc = accuracy(o, t)\n",
    "    return acc\n",
    "\n",
    "P = compute(model, test_x, test_t)\n",
    "print(f'accuracy(test): {P:5.3f}')"
   ]
  },
  {
   "cell_type": "markdown",
   "metadata": {},
   "source": [
    "### Plot $P$ versus $M$"
   ]
  },
  {
   "cell_type": "code",
   "execution_count": null,
   "metadata": {},
   "outputs": [],
   "source": []
  },
  {
   "cell_type": "code",
   "execution_count": null,
   "metadata": {},
   "outputs": [],
   "source": []
  },
  {
   "cell_type": "code",
   "execution_count": null,
   "metadata": {},
   "outputs": [],
   "source": []
  },
  {
   "cell_type": "markdown",
   "metadata": {},
   "source": [
    "### Save best model"
   ]
  },
  {
   "cell_type": "code",
   "execution_count": 16,
   "metadata": {},
   "outputs": [],
   "source": [
    "torch.save(model.state_dict(), 'mnist_snn.pt')"
   ]
  },
  {
   "cell_type": "code",
   "execution_count": null,
   "metadata": {},
   "outputs": [],
   "source": []
  }
 ],
 "metadata": {
  "kernelspec": {
   "display_name": "Python 3 (ipykernel)",
   "language": "python",
   "name": "python3"
  },
  "language_info": {
   "codemirror_mode": {
    "name": "ipython",
    "version": 3
   },
   "file_extension": ".py",
   "mimetype": "text/x-python",
   "name": "python",
   "nbconvert_exporter": "python",
   "pygments_lexer": "ipython3",
   "version": "3.11.5"
  }
 },
 "nbformat": 4,
 "nbformat_minor": 4
}
