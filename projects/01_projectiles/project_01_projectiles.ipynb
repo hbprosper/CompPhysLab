{
 "cells": [
  {
   "cell_type": "markdown",
   "id": "99aa72e3-eac9-4469-84f0-d60654a87e54",
   "metadata": {
    "tags": []
   },
   "source": [
    "# Project 1: Projectile Motion\n",
    "\n",
    "Double tap this cell to get to edit mode and fill in the information below.\n",
    "\n",
    "> Full Name: \n",
    "\n",
    "> Date:\n",
    "\n",
    "> Resources Used:\n",
    "\n",
    "## Tips\n",
    "\n",
    "  * Python tutorials:\n",
    "     * PythonMinimum\n",
    "     * [A short introduction](https://realpython.com/python-first-steps/)\n",
    "     * [A more complete introduction](https://www.w3schools.com/python/default.asp)\n",
    "  * Use __esc r__ to disable a cell\n",
    "  * Use __esc y__ to reactivate it\n",
    "  * Use __esc m__ to go to markdown mode. **Markdown** is the typesetting language used in jupyter notebooks.\n",
    "  * In a markdown cell, double tap the mouse or glide pad (on your laptop) to go to edit mode. \n",
    "  * Shift + return to execute a cell (including markdown cells).\n",
    "  * If the equations don't typeset, try double tapping the cell again, and re-execute it.\n",
    "  \n",
    "\n",
    "## Learning Objectives\n",
    "  * Learn how to solve Newton's second law of motion numerically.\n",
    "  * Learn about the motion of projectiles and how friction affects the motion\n",
    "  * Learn more about programming in Python\n",
    "  * Learn how to superimpose plots\n",
    " \n",
    "**Part 1** of this notebook gives an example of how to compute a trajectory and make a plot. You must write your assignment in **Part 2** of the notebook, which starts with a set of questions that you must answer. \n",
    "\n",
    "When you write your assignment in **Part 2**, feel free to reuse anything in **Part 1** of the notebook. For example, it should be possible for you to reuse `propagate`, `force`, and `compute_trajectory`. But, of course, feel free to write your own versions of these functions if you wish. \n",
    "\n",
    "## Numerical Solution of Newton's Second Law\n",
    "\n",
    "### Newton's second law\n",
    "Newton's second law of motion for a particle of mass $m$ is\n",
    "\n",
    "$$\\vec{F} = m \\vec{a},$$ \n",
    "\n",
    "where, by definition, the acceleration is\n",
    "\n",
    "$$\\vec{a} = \\frac{d\\vec{v}}{dt}, $$\n",
    "\n",
    "and $\\vec{F}$ is the sum of all forces acting on the particle. (Note: The second law applies to every particle that comprises an extended object.) The second law can be written as two first order **ordinary differential equations** (ODE),\n",
    "\n",
    "\\begin{align}\n",
    "    \\frac{d\\vec{r}}{dt} & = \\vec{v}, \\\\\n",
    "    \\frac{d\\vec{v}}{dt} & = \\frac{1}{m} \\vec{F} .\n",
    "\\end{align}\n",
    "\n",
    "These equations can be solved approximately using the formulae\n",
    "\n",
    "\\begin{align}\n",
    "    \\vec{r}(t + h) & = \\vec{r}(t) + \\vec{v}(t) \\, h  + \\frac{1}{2} \\frac{\\vec{F}(t)}{m}  \\, h^2 + {\\cal O}(h^3),\\\\\n",
    "    \\vec{v}(t + h) & = \\vec{v}(t) + \\frac{\\vec{F}(t)}{m}  \\, h + {\\cal O}(h^2) .\n",
    "\\end{align}\n",
    "\n",
    "The symbol ${\\cal O}(h^3)$ represents all terms proportional to $h^3$ and to higher powers of $h$. Likewise for ${\\cal O}(h^2)$. We'll choose $h$ small enough so that these terms can be neglected. "
   ]
  },
  {
   "cell_type": "markdown",
   "id": "a04e6adc-8849-4431-9f29-1901d3a1b029",
   "metadata": {},
   "source": [
    "### Import modules \n",
    "Make Python modules (that is, collections of programs) available to this notebook.\n"
   ]
  },
  {
   "cell_type": "code",
   "execution_count": 3,
   "id": "0352a958-c65a-4ace-bcd8-139417a3afbc",
   "metadata": {},
   "outputs": [],
   "source": [
    "import os, sys\n",
    "import numpy as np\n",
    "import matplotlib as mp\n",
    "import matplotlib.pyplot as plt\n",
    "import sympy as sm\n",
    "\n",
    "sm.init_printing()        # activate \"pretty printing\" of symbolic expressions\n",
    "%matplotlib inline\n",
    "\n",
    "# update fonts\n",
    "FONTSIZE = 14\n",
    "font = {'family' : 'sans-serif',\n",
    "        'weight' : 'normal',\n",
    "        'size'   : FONTSIZE}\n",
    "mp.rc('font', **font)\n",
    "\n",
    "# use latex if available on system, otherwise set usetex=False\n",
    "mp.rc('text', usetex=True)\n",
    "\n",
    "# use JavaScript for rendering animations\n",
    "mp.rc('animation', html='jshtml')\n",
    "\n",
    "# set a seed to ensure reproducibility \n",
    "# on a given machine\n",
    "seed = 314159\n",
    "rnd  = np.random.RandomState(seed)"
   ]
  },
  {
   "cell_type": "markdown",
   "id": "b3bb77e5-08e9-4fa2-9bbe-c2c3863c2ec3",
   "metadata": {},
   "source": [
    "## Simulating a projectile\n",
    "\n",
    "  1. **Step 1**: We write a function that implements the vector equations.\n",
    "  \\begin{align}\n",
    "    \\vec{r}(t + h) & = \\vec{r}(t) + \\vec{v}(t) \\, h  + \\frac{1}{2} \\frac{\\vec{F}(t)}{m}  \\, h^2 + {\\cal O}(h^3),\\\\\n",
    "    \\vec{v}(t + h) & = \\vec{v}(t) + \\frac{\\vec{F}(t)}{m}  \\, h + {\\cal O}(h^2) .\n",
    "\\end{align}\n",
    "  1. **Step 2**: We write a function that implements the total force on the ball.\n",
    "  1. **Step 3**: We write a function that computes the trajectory.\n",
    "  1. **Step 3**: Plot the trajectory."
   ]
  },
  {
   "cell_type": "markdown",
   "id": "ff82e165-83ff-4821-9ed9-759e8cfe1862",
   "metadata": {},
   "source": [
    "# Part 1"
   ]
  },
  {
   "cell_type": "markdown",
   "id": "9a254991-a4f4-45f8-80ad-4a65e6d4a4d9",
   "metadata": {},
   "source": [
    "### Constants"
   ]
  },
  {
   "cell_type": "code",
   "execution_count": 4,
   "id": "33220f94-e941-48b0-8ab7-b8348c7f9a62",
   "metadata": {
    "tags": []
   },
   "outputs": [],
   "source": [
    "# simulation constants\n",
    "M  = 0.25               # mass of ball (kg)\n",
    "MU = 0.0                # friction constant N/m/s (N: Newton, unit of force)\n",
    "g  = 9.81               # acceleration due to gravity (m/s^2)\n",
    "H  = 0.01               # time step (seconds) \n",
    "R0 = np.array((0,1,0))  # initial position of ball\n",
    "V0 = np.array((4,10,0))\n",
    "class Bag:              # a very simple class (see PythonMinimum)\n",
    "    pass\n",
    "\n",
    "bag    = Bag()\n",
    "bag.h  = H    # time step (seconds)\n",
    "bag.hh = H**2\n",
    "bag.g  = np.array((0, -g, 0)) # acceleration due to gravity\n",
    "bag.mu = MU   # friction constant (N/m/s)\n",
    "bag.m  = M    # mass of ball (kg)"
   ]
  },
  {
   "cell_type": "markdown",
   "id": "d30e524c-5fc8-4b9f-b22f-8cbfb7915561",
   "metadata": {},
   "source": [
    "## Step 1: Propagator\n",
    "We start by writing a function that takes the current position $\\vec{r}(t)$ and velocity $\\vec{v}(t)$ of the (center of the) ball, which is treated as a particle, the sum of the forces acting on the ball (often referred to as the **net force**), $\\vec{F}(t)$, and returns the updated position and velocity at timestamp $t + h$ of the particle. \n",
    "\n",
    "\\begin{align}\n",
    "    \\vec{r}(t + h) & = \\vec{r}(t) + \\vec{v}(t) \\, h  + \\frac{1}{2} \\frac{\\vec{F}(t)}{m}  \\, h^2 + {\\cal O}(h^3),\\\\\n",
    "    \\vec{v}(t + h) & = \\vec{v}(t) + \\frac{\\vec{F}(t)}{m}  \\, h + {\\cal O}(h^2) .\n",
    "\\end{align}"
   ]
  },
  {
   "cell_type": "code",
   "execution_count": 5,
   "id": "d68100a8-9284-46de-845b-7de7b167f5c0",
   "metadata": {
    "tags": []
   },
   "outputs": [],
   "source": [
    "def propagate(r, v, F, bag):    \n",
    "    h, hh, m = bag.h, bag.hh, bag.m\n",
    "    \n",
    "    Fm   = F/m\n",
    "    rnew = r + v*h + Fm*hh/2\n",
    "    vnew = v + Fm*h\n",
    "    \n",
    "    return rnew, vnew   # return new position and  velocity"
   ]
  },
  {
   "cell_type": "markdown",
   "id": "7edf7c95-c90c-4c7f-957c-0f7c8525e457",
   "metadata": {},
   "source": [
    "## Step 2: Force\n",
    "\n",
    "The function below returns the total force on the particle. We consider two forces, the force of gravity,\n",
    "\n",
    "\\begin{align}\n",
    "    \\vec{F}_g(t) & = m \\vec{g} .\n",
    "\\end{align}\n",
    "\n",
    "and a simple friction force,\n",
    "\n",
    "\\begin{align}\n",
    "    \\vec{F}_{\\mu}(t) & = - \\mu  \\vec{v} ,\n",
    "\\end{align}\n",
    "\n",
    "where $\\mu$ is a constant."
   ]
  },
  {
   "cell_type": "code",
   "execution_count": 6,
   "id": "8bbb7922-5eb0-404b-a8c1-0f24eec67dc2",
   "metadata": {
    "tags": []
   },
   "outputs": [],
   "source": [
    "def force(r, v, bag):\n",
    "    m = bag.m\n",
    "    g = bag.g\n",
    "    mu= bag.mu\n",
    "    F = m * g - mu * v\n",
    "    return F"
   ]
  },
  {
   "cell_type": "markdown",
   "id": "f440f3fb-ef94-4818-90ce-1e5b9907baca",
   "metadata": {},
   "source": [
    "## Step 3: Compute Trajectory\n",
    "We'll stop the calculations when the projectile reaches the ground."
   ]
  },
  {
   "cell_type": "code",
   "execution_count": 7,
   "id": "c0443885-8dcf-4dfd-b937-ef4fd9a1671b",
   "metadata": {},
   "outputs": [],
   "source": [
    "def compute_trajectory(r0, v0, bag, max_steps=100000):\n",
    "    '''\n",
    "    \n",
    "    r0     initial position\n",
    "    v0     initial velocity\n",
    "    '''\n",
    "    \n",
    "    # set initial state (r and v are lists of vectors)\n",
    "    r  = [r0]\n",
    "    v  = [v0]\n",
    "\n",
    "    # loop over time steps and stop when the ball hits the ground.\n",
    "    # notice the indentation with respect to the for i range(max_steps) command.\n",
    "    # this is how Python knows that the instructions that follow are within \n",
    "    # the loop (or if statement etc.)\n",
    "    for i in range(max_steps):\n",
    "        \n",
    "        # \"I'm alive\" printout\n",
    "        if i % 10 == 0:\n",
    "            print(f'\\r{i:10d}', end='')\n",
    "            \n",
    "        # compute total force on ball\n",
    "        F = force(r[i], v[i], bag)\n",
    "\n",
    "        # compute next state of ball (next position and velocity at time t + h)\n",
    "        rnext, vnext = propagate(r[i], v[i], F, bag)\n",
    "\n",
    "        # check if we've reached the ground\n",
    "        x, y, z = rnext # rnext is a vector in 3D space, so it has 3 components\n",
    "        if y <= 0:\n",
    "            break # break out of the loop\n",
    "\n",
    "        # cache (that is save) the next state in the lists r and v\n",
    "        r.append(rnext)\n",
    "        v.append(vnext)\n",
    "        \n",
    "    print('\\ndone!')\n",
    "    \n",
    "    return r, v # return the two lists"
   ]
  },
  {
   "cell_type": "code",
   "execution_count": 8,
   "id": "95bfd51a-1fdb-4439-8d09-92ff28209f59",
   "metadata": {
    "tags": []
   },
   "outputs": [
    {
     "name": "stdout",
     "output_type": "stream",
     "text": [
      "       210\n",
      "done!\n"
     ]
    }
   ],
   "source": [
    "r, v = compute_trajectory(R0, V0, bag)"
   ]
  },
  {
   "cell_type": "markdown",
   "id": "c097b13a-b89c-4bbc-a53e-82bb5f206708",
   "metadata": {},
   "source": [
    "## Step 4: Plot Results"
   ]
  },
  {
   "cell_type": "code",
   "execution_count": 9,
   "id": "5a4150d2-85d6-4538-8773-054a26373d88",
   "metadata": {},
   "outputs": [],
   "source": [
    "def plot_trajectory(r, v, \n",
    "                    xmin=0, xmax=20, \n",
    "                    ymin=0, ymax=20, \n",
    "                    fgsize=(5, 4), \n",
    "                    ftsize=14,\n",
    "                    color='blue', \n",
    "                    filename='projectile.png'):\n",
    "    '''\n",
    " \n",
    "    Example\n",
    "\n",
    "    >>> plot_function(r, v) \n",
    "    '''\n",
    "\n",
    "    # extract (x, y) coordinates so we can plot them.\n",
    "    # the following two instructions are equivalent to\n",
    "    # the following code:\n",
    "    # x = []\n",
    "    # y = []\n",
    "    # for t in r:\n",
    "    #     xx, yy, _ = t # t is a vector, which is an element of the list r\n",
    "    #     x.append(xx)\n",
    "    #     y.append(yy)\n",
    "    a = [[t[0], t[1]] for t in r]   # this construct is called list comprehension\n",
    "    x, y = zip(*a)  # unzip the array a = [[x1, y1], [x2, y2],...] !\n",
    "    \n",
    "    # create an empty figure of the specified size and a (single) subplot\n",
    "    # to be placed within the figure.\n",
    "    fig, ax = plt.subplots(figsize=fgsize)\n",
    "\n",
    "    # define domain of graph\n",
    "    ax.set_xlim(xmin, xmax)\n",
    "    \n",
    "    # define range of graph\n",
    "    ax.set_ylim(ymin, ymax)\n",
    "        \n",
    "    # annotate axes\n",
    "    ax.set_xlabel('$x$ (m)', fontsize=ftsize)\n",
    "    ax.set_ylabel('$y$ (m)', fontsize=ftsize)\n",
    "\n",
    "    # plot the trajectory\n",
    "    ax.plot(x, y, color=color)\n",
    "    \n",
    "    # add a grid to the plot\n",
    "    ax.grid()\n",
    "\n",
    "    # produce a layout such that the saved plot fits\n",
    "    # fully within the figure.\n",
    "    fig.tight_layout()\n",
    "    \n",
    "    # save the image to the specified file\n",
    "    plt.savefig(filename)"
   ]
  },
  {
   "cell_type": "code",
   "execution_count": 10,
   "id": "e457786c-fdc0-44e1-bedc-443ba344686e",
   "metadata": {
    "tags": []
   },
   "outputs": [
    {
     "data": {
      "image/png": "[encoded data removed]",
      "text/plain": [
       "<Figure size 500x400 with 1 Axes>"
      ]
     },
     "metadata": {},
     "output_type": "display_data"
    }
   ],
   "source": [
    "plot_trajectory(r, v)"
   ]
  },
  {
   "cell_type": "markdown",
   "id": "0e63c8a7-553d-4cab-80fe-e2219746b617",
   "metadata": {},
   "source": [
    "# Part 2\n",
    "\n",
    "**Please take note of the following**\n",
    "\n",
    "  * Before you start, please read the **syllabus** to learn about the **grading rubric**.\n",
    "\n",
    "  * Each question should be answered in a separate cell. \n",
    "\n",
    "Set the friction constant, `bag.mu = 0.0` N/m/s.\n",
    "  1. Compute the unit vector associated with the vector `V0` given under **Constants**. Call this unit vector `V0unit`.\n",
    "  1. By scaling `V0unit`, compute your initial velocity `V0`, e.g.,\n",
    "  ```python\n",
    "      V0 = scale * V0unit\n",
    "  ```\n",
    "  3. Start with `scale = 8.0` m/s, compute and plot the trajectory. Keep increasing the scale until the ball lands at 15m from its starting point. What did you find for the initial speed of the ball (in m/s)?\n",
    "  1. For how long is the ball in the air? (*Hint*: the time steps are of equal duration.)\n",
    "  1. Write a version of `plot_trajectory`, call it `plotTrajectory`, which superimposes the exact solution, which is valid when there is no friction, on the plot that shows your approximate numerical solution. Use a different color for the exact solution, find out how to change the line type to dashed rather than continuous, and use a dashed line for the exact solution.\n",
    "  \n",
    "The exact solution when there is no friction is\n",
    "\n",
    " \\begin{align}\n",
    "  \\vec{r}(t) & = \\vec{r}_0 + \\vec{v}_0 t + \\frac{1}{2} \\vec{g} t^2, \\\\\n",
    "  \\vec{v}(t) & = \\vec{r}_0 + \\vec{g} t,\n",
    "  \\end{align}\n",
    "  \n",
    "**Optional** \n",
    "  1. Plot the projectile range (i.e., the horizontal distance between the start and end of the trajectory versus the friction constant $\\mu$ (`bag.mu`). Choose 20 equally spaced values of `bag.mu` between 0 and 0.80. (*Hint*: `np.linspace`). \n",
    "  1. Comment on what you find. For example, if we used larger and larger values of `bag.mu` what would you expect as `bag.mu` becomes very large?"
   ]
  },
  {
   "cell_type": "code",
   "execution_count": null,
   "id": "aa026add-6e5b-4c36-8ab9-56b79338c1df",
   "metadata": {},
   "outputs": [],
   "source": []
  },
  {
   "cell_type": "code",
   "execution_count": null,
   "id": "d82a6622-2dac-4f97-ac9f-3a6633f1a9e7",
   "metadata": {},
   "outputs": [],
   "source": []
  }
 ],
 "metadata": {
  "kernelspec": {
   "display_name": "Python 3 (ipykernel)",
   "language": "python",
   "name": "python3"
  },
  "language_info": {
   "codemirror_mode": {
    "name": "ipython",
    "version": 3
   },
   "file_extension": ".py",
   "mimetype": "text/x-python",
   "name": "python",
   "nbconvert_exporter": "python",
   "pygments_lexer": "ipython3",
   "version": "3.11.5"
  },
  "toc-autonumbering": false,
  "toc-showcode": false
 },
 "nbformat": 4,
 "nbformat_minor": 5
}
